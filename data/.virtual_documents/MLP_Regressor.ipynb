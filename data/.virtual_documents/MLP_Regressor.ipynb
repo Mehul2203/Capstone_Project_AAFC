from sklearn.neural_network import MLPRegressor
from sklearn.preprocessing import StandardScaler
from sklearn.preprocessing import scale
from sklearn.model_selection import train_test_split
import pandas as pd
import numpy as np
from sklearn import metrics
from sklearn.metrics import mean_squared_error


df = pd.read_csv('final_data.csv')
ecodistricts = df['ECODISTRICT_ID'].unique()
data = []


for i in range(0, len(ecodistricts)):
    df_new = df[df['ECODISTRICT_ID'] == ecodistricts[i]]
    unique_townships = len(df_new['TWP_ID'].unique())
    df_new.drop(['TWP_ID', 'ECODISTRICT_ID', 'YEAR'], axis=1, inplace=True)
    Y = df_new['YieldKgAcre']
    df_new.drop('YieldKgAcre', axis=1, inplace= True)
    X = df_new
    X_train, X_test, y_train, y_test = train_test_split(X, Y, test_size=0.2, random_state=42)
    
    # Run standardization on X variables
    X_train_scaled = scale(X_train)
    X_test_scaled = scale(X_test)
    
    
    regr = MLPRegressor(random_state=1, max_iter=5000).fit(X_train_scaled, y_train)
    expected_y = y_test
    predicted_y = regr.predict(X_test_scaled)
    mse_test = mean_squared_error(expected_y, predicted_y, squared=False)
    
    row = []
    # Calculate the absolute errors
    errors = abs(predicted_y - expected_y)
    # Print out the mean absolute error (mae)
    mae = round(np.mean(errors), 2)
    # Calculate mean absolute percentage error (MAPE)
    mape = 100 * (errors / y_test)
    # Calculate and display accuracy
    accuracy = 100 - np.mean(mape)
    accuracy = abs(round(accuracy, 2))
    
    row.append(ecodistricts[i])
    row.append(len(df_new))
    row.append(unique_townships)
    row.append(mse_test)
    row.append(mae)
    row.append(accuracy)
    data.append(row)


# Create the pandas DataFrame
df = pd.DataFrame(data, columns = ['Ecodistrict ID', '# Records','# Unique Townships','MSE Test','Mean Absolute Error (Degrees)','Accuracy (%)'])


df.head(10)


df = df.sort_values(by=['# Records'], ascending=False)


df.head(10)


df['Accuracy (%)'][1:103].mean()


len(df)


df.to_excel("mlp_regressor.xlsx", sheet_name='summary')



