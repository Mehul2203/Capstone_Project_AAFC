{
 "cells": [
  {
   "cell_type": "code",
   "execution_count": 1,
   "id": "164dca74-8b72-4f48-aa51-53266dc71c3a",
   "metadata": {},
   "outputs": [],
   "source": [
    "import numpy as np\n",
    "from sklearn.preprocessing import StandardScaler\n",
    "from sklearn.pipeline import Pipeline\n",
    "from sklearn.model_selection import train_test_split, GridSearchCV\n",
    "from sklearn.linear_model import Lasso\n"
   ]
  },
  {
   "cell_type": "code",
   "execution_count": 2,
   "id": "c76fab7c-8f4e-4f54-b919-0bf68850f161",
   "metadata": {},
   "outputs": [],
   "source": [
    "import pandas as pd\n",
    "import numpy as np"
   ]
  },
  {
   "cell_type": "code",
   "execution_count": 3,
   "id": "acc4d75a-690a-4370-8f04-a42637921c31",
   "metadata": {},
   "outputs": [
    {
     "data": {
      "text/html": [
       "<div>\n",
       "<style scoped>\n",
       "    .dataframe tbody tr th:only-of-type {\n",
       "        vertical-align: middle;\n",
       "    }\n",
       "\n",
       "    .dataframe tbody tr th {\n",
       "        vertical-align: top;\n",
       "    }\n",
       "\n",
       "    .dataframe thead th {\n",
       "        text-align: right;\n",
       "    }\n",
       "</style>\n",
       "<table border=\"1\" class=\"dataframe\">\n",
       "  <thead>\n",
       "    <tr style=\"text-align: right;\">\n",
       "      <th></th>\n",
       "      <th>Unnamed: 0</th>\n",
       "      <th>TWP_ID</th>\n",
       "      <th>ECODISTRICT_ID</th>\n",
       "      <th>YEAR</th>\n",
       "      <th>YieldKgAcre</th>\n",
       "      <th>SumPcpn18_20</th>\n",
       "      <th>SumPcpn19_21</th>\n",
       "      <th>SumPcpn20_22</th>\n",
       "      <th>SumPcpn21_23</th>\n",
       "      <th>SumPcpn22_24</th>\n",
       "      <th>...</th>\n",
       "      <th>SoilMoisture29_31</th>\n",
       "      <th>SoilMoisture30_32</th>\n",
       "      <th>SoilMoisture31_33</th>\n",
       "      <th>SoilMoisture32_34</th>\n",
       "      <th>SoilMoisture33_35</th>\n",
       "      <th>SoilMoisture34_36</th>\n",
       "      <th>SoilMoisture35_37</th>\n",
       "      <th>SoilMoisture36_38</th>\n",
       "      <th>SoilMoisture37_39</th>\n",
       "      <th>SoilMoisture38_40</th>\n",
       "    </tr>\n",
       "  </thead>\n",
       "  <tbody>\n",
       "    <tr>\n",
       "      <th>0</th>\n",
       "      <td>0</td>\n",
       "      <td>00101E1</td>\n",
       "      <td>852.0</td>\n",
       "      <td>2010</td>\n",
       "      <td>867.766846</td>\n",
       "      <td>53.6</td>\n",
       "      <td>111.1</td>\n",
       "      <td>109.7</td>\n",
       "      <td>117.9</td>\n",
       "      <td>46.4</td>\n",
       "      <td>...</td>\n",
       "      <td>16.960125</td>\n",
       "      <td>18.766207</td>\n",
       "      <td>17.186998</td>\n",
       "      <td>15.461519</td>\n",
       "      <td>19.738222</td>\n",
       "      <td>22.958089</td>\n",
       "      <td>27.206203</td>\n",
       "      <td>26.480087</td>\n",
       "      <td>28.678156</td>\n",
       "      <td>26.308484</td>\n",
       "    </tr>\n",
       "    <tr>\n",
       "      <th>1</th>\n",
       "      <td>1</td>\n",
       "      <td>00101W1</td>\n",
       "      <td>852.0</td>\n",
       "      <td>2010</td>\n",
       "      <td>673.685028</td>\n",
       "      <td>57.2</td>\n",
       "      <td>114.7</td>\n",
       "      <td>110.5</td>\n",
       "      <td>114.0</td>\n",
       "      <td>46.2</td>\n",
       "      <td>...</td>\n",
       "      <td>16.328520</td>\n",
       "      <td>17.926029</td>\n",
       "      <td>16.787544</td>\n",
       "      <td>14.779726</td>\n",
       "      <td>20.245149</td>\n",
       "      <td>23.608204</td>\n",
       "      <td>28.560990</td>\n",
       "      <td>27.324254</td>\n",
       "      <td>29.079177</td>\n",
       "      <td>26.927224</td>\n",
       "    </tr>\n",
       "    <tr>\n",
       "      <th>2</th>\n",
       "      <td>2</td>\n",
       "      <td>00101W2</td>\n",
       "      <td>796.0</td>\n",
       "      <td>2010</td>\n",
       "      <td>824.303864</td>\n",
       "      <td>39.0</td>\n",
       "      <td>96.4</td>\n",
       "      <td>109.8</td>\n",
       "      <td>101.2</td>\n",
       "      <td>111.4</td>\n",
       "      <td>...</td>\n",
       "      <td>13.117879</td>\n",
       "      <td>12.869142</td>\n",
       "      <td>12.831834</td>\n",
       "      <td>14.126196</td>\n",
       "      <td>16.385776</td>\n",
       "      <td>18.650751</td>\n",
       "      <td>20.287069</td>\n",
       "      <td>20.514132</td>\n",
       "      <td>19.564788</td>\n",
       "      <td>16.681692</td>\n",
       "    </tr>\n",
       "    <tr>\n",
       "      <th>3</th>\n",
       "      <td>3</td>\n",
       "      <td>00102E1</td>\n",
       "      <td>853.0</td>\n",
       "      <td>2010</td>\n",
       "      <td>1006.708496</td>\n",
       "      <td>37.5</td>\n",
       "      <td>158.2</td>\n",
       "      <td>157.8</td>\n",
       "      <td>161.4</td>\n",
       "      <td>46.9</td>\n",
       "      <td>...</td>\n",
       "      <td>17.060778</td>\n",
       "      <td>18.699156</td>\n",
       "      <td>17.345822</td>\n",
       "      <td>15.998957</td>\n",
       "      <td>20.091525</td>\n",
       "      <td>22.761273</td>\n",
       "      <td>26.337430</td>\n",
       "      <td>25.559602</td>\n",
       "      <td>27.611729</td>\n",
       "      <td>25.575794</td>\n",
       "    </tr>\n",
       "    <tr>\n",
       "      <th>4</th>\n",
       "      <td>4</td>\n",
       "      <td>00102W1</td>\n",
       "      <td>852.0</td>\n",
       "      <td>2010</td>\n",
       "      <td>869.040283</td>\n",
       "      <td>57.2</td>\n",
       "      <td>114.7</td>\n",
       "      <td>110.5</td>\n",
       "      <td>114.0</td>\n",
       "      <td>46.2</td>\n",
       "      <td>...</td>\n",
       "      <td>16.050993</td>\n",
       "      <td>17.556860</td>\n",
       "      <td>16.612026</td>\n",
       "      <td>14.480150</td>\n",
       "      <td>20.467884</td>\n",
       "      <td>23.893858</td>\n",
       "      <td>29.156274</td>\n",
       "      <td>27.695178</td>\n",
       "      <td>29.255386</td>\n",
       "      <td>27.199097</td>\n",
       "    </tr>\n",
       "  </tbody>\n",
       "</table>\n",
       "<p>5 rows × 166 columns</p>\n",
       "</div>"
      ],
      "text/plain": [
       "   Unnamed: 0   TWP_ID  ECODISTRICT_ID  YEAR  YieldKgAcre  SumPcpn18_20  \\\n",
       "0           0  00101E1           852.0  2010   867.766846          53.6   \n",
       "1           1  00101W1           852.0  2010   673.685028          57.2   \n",
       "2           2  00101W2           796.0  2010   824.303864          39.0   \n",
       "3           3  00102E1           853.0  2010  1006.708496          37.5   \n",
       "4           4  00102W1           852.0  2010   869.040283          57.2   \n",
       "\n",
       "   SumPcpn19_21  SumPcpn20_22  SumPcpn21_23  SumPcpn22_24  ...  \\\n",
       "0         111.1         109.7         117.9          46.4  ...   \n",
       "1         114.7         110.5         114.0          46.2  ...   \n",
       "2          96.4         109.8         101.2         111.4  ...   \n",
       "3         158.2         157.8         161.4          46.9  ...   \n",
       "4         114.7         110.5         114.0          46.2  ...   \n",
       "\n",
       "   SoilMoisture29_31  SoilMoisture30_32  SoilMoisture31_33  SoilMoisture32_34  \\\n",
       "0          16.960125          18.766207          17.186998          15.461519   \n",
       "1          16.328520          17.926029          16.787544          14.779726   \n",
       "2          13.117879          12.869142          12.831834          14.126196   \n",
       "3          17.060778          18.699156          17.345822          15.998957   \n",
       "4          16.050993          17.556860          16.612026          14.480150   \n",
       "\n",
       "   SoilMoisture33_35  SoilMoisture34_36  SoilMoisture35_37  SoilMoisture36_38  \\\n",
       "0          19.738222          22.958089          27.206203          26.480087   \n",
       "1          20.245149          23.608204          28.560990          27.324254   \n",
       "2          16.385776          18.650751          20.287069          20.514132   \n",
       "3          20.091525          22.761273          26.337430          25.559602   \n",
       "4          20.467884          23.893858          29.156274          27.695178   \n",
       "\n",
       "   SoilMoisture37_39  SoilMoisture38_40  \n",
       "0          28.678156          26.308484  \n",
       "1          29.079177          26.927224  \n",
       "2          19.564788          16.681692  \n",
       "3          27.611729          25.575794  \n",
       "4          29.255386          27.199097  \n",
       "\n",
       "[5 rows x 166 columns]"
      ]
     },
     "execution_count": 3,
     "metadata": {},
     "output_type": "execute_result"
    }
   ],
   "source": [
    "aafc_data=pd.read_csv(\"aafc_data.txt\",index_col=None)\n",
    "aafc_data.head()"
   ]
  },
  {
   "cell_type": "code",
   "execution_count": 4,
   "id": "397ed4bb-c467-4957-b469-138e5e954734",
   "metadata": {},
   "outputs": [],
   "source": [
    "# Labels are the values we want to predict\n",
    "labels = np.array(aafc_data['YieldKgAcre'])\n",
    "# Remove the labels from the features\n",
    "# axis 1 refers to the columns\n",
    "features= aafc_data.drop(['YieldKgAcre','YEAR','TWP_ID','Unnamed: 0','ECODISTRICT_ID'], axis = 1)\n",
    "# Saving feature names for later use\n",
    "feature_list = list(features.columns)\n",
    "# Convert to numpy array\n",
    "features = np.array(features)"
   ]
  },
  {
   "cell_type": "code",
   "execution_count": 5,
   "id": "3d773d77-afe3-4400-af9b-1eb112bfe872",
   "metadata": {},
   "outputs": [],
   "source": [
    "from sklearn.model_selection import train_test_split\n",
    "# Split the data into training and testing sets\n",
    "train_features, test_features, train_labels, test_labels = train_test_split(features, labels, test_size = 0.25, random_state = 42)\n"
   ]
  },
  {
   "cell_type": "code",
   "execution_count": 6,
   "id": "25f9a0ce-eb9e-4503-bc05-613ab9aa680e",
   "metadata": {},
   "outputs": [],
   "source": [
    "pipeline = Pipeline([\n",
    "                     ('scaler',StandardScaler()),\n",
    "                     ('model',Lasso())\n",
    "])"
   ]
  },
  {
   "cell_type": "code",
   "execution_count": 7,
   "id": "cadd97ac-e8eb-448f-aa3a-006335f2eafa",
   "metadata": {},
   "outputs": [],
   "source": [
    "search = GridSearchCV(pipeline,\n",
    "                      {'model__alpha':np.arange(0.1,10,0.1)},\n",
    "                      cv = 7, scoring=\"neg_mean_squared_error\",verbose=3\n",
    "                      )"
   ]
  },
  {
   "cell_type": "code",
   "execution_count": 8,
   "id": "5bb20a90-4747-454f-9903-eaaaa76952fc",
   "metadata": {
    "scrolled": true,
    "tags": []
   },
   "outputs": [
    {
     "name": "stdout",
     "output_type": "stream",
     "text": [
      "Fitting 7 folds for each of 99 candidates, totalling 693 fits\n"
     ]
    },
    {
     "name": "stderr",
     "output_type": "stream",
     "text": [
      "/Users/mayukha/opt/miniconda3/lib/python3.9/site-packages/sklearn/linear_model/_coordinate_descent.py:647: ConvergenceWarning: Objective did not converge. You might want to increase the number of iterations, check the scale of the features or consider increasing regularisation. Duality gap: 1.687e+06, tolerance: 1.277e+05\n",
      "  model = cd_fast.enet_coordinate_descent(\n"
     ]
    },
    {
     "name": "stdout",
     "output_type": "stream",
     "text": [
      "[CV 1/7] END .............model__alpha=0.1;, score=-17248.271 total time=   6.3s\n"
     ]
    },
    {
     "name": "stderr",
     "output_type": "stream",
     "text": [
      "/Users/mayukha/opt/miniconda3/lib/python3.9/site-packages/sklearn/linear_model/_coordinate_descent.py:647: ConvergenceWarning: Objective did not converge. You might want to increase the number of iterations, check the scale of the features or consider increasing regularisation. Duality gap: 2.487e+06, tolerance: 1.274e+05\n",
      "  model = cd_fast.enet_coordinate_descent(\n"
     ]
    },
    {
     "name": "stdout",
     "output_type": "stream",
     "text": [
      "[CV 2/7] END .............model__alpha=0.1;, score=-17595.652 total time=   6.1s\n"
     ]
    },
    {
     "name": "stderr",
     "output_type": "stream",
     "text": [
      "/Users/mayukha/opt/miniconda3/lib/python3.9/site-packages/sklearn/linear_model/_coordinate_descent.py:647: ConvergenceWarning: Objective did not converge. You might want to increase the number of iterations, check the scale of the features or consider increasing regularisation. Duality gap: 1.602e+06, tolerance: 1.282e+05\n",
      "  model = cd_fast.enet_coordinate_descent(\n"
     ]
    },
    {
     "name": "stdout",
     "output_type": "stream",
     "text": [
      "[CV 3/7] END .............model__alpha=0.1;, score=-16650.328 total time=   5.8s\n"
     ]
    },
    {
     "name": "stderr",
     "output_type": "stream",
     "text": [
      "/Users/mayukha/opt/miniconda3/lib/python3.9/site-packages/sklearn/linear_model/_coordinate_descent.py:647: ConvergenceWarning: Objective did not converge. You might want to increase the number of iterations, check the scale of the features or consider increasing regularisation. Duality gap: 1.978e+06, tolerance: 1.287e+05\n",
      "  model = cd_fast.enet_coordinate_descent(\n"
     ]
    },
    {
     "name": "stdout",
     "output_type": "stream",
     "text": [
      "[CV 4/7] END .............model__alpha=0.1;, score=-16770.963 total time=   5.8s\n"
     ]
    },
    {
     "name": "stderr",
     "output_type": "stream",
     "text": [
      "/Users/mayukha/opt/miniconda3/lib/python3.9/site-packages/sklearn/linear_model/_coordinate_descent.py:647: ConvergenceWarning: Objective did not converge. You might want to increase the number of iterations, check the scale of the features or consider increasing regularisation. Duality gap: 2.651e+06, tolerance: 1.281e+05\n",
      "  model = cd_fast.enet_coordinate_descent(\n"
     ]
    },
    {
     "name": "stdout",
     "output_type": "stream",
     "text": [
      "[CV 5/7] END .............model__alpha=0.1;, score=-16732.278 total time=   5.7s\n"
     ]
    },
    {
     "name": "stderr",
     "output_type": "stream",
     "text": [
      "/Users/mayukha/opt/miniconda3/lib/python3.9/site-packages/sklearn/linear_model/_coordinate_descent.py:647: ConvergenceWarning: Objective did not converge. You might want to increase the number of iterations, check the scale of the features or consider increasing regularisation. Duality gap: 1.989e+06, tolerance: 1.281e+05\n",
      "  model = cd_fast.enet_coordinate_descent(\n"
     ]
    },
    {
     "name": "stdout",
     "output_type": "stream",
     "text": [
      "[CV 6/7] END .............model__alpha=0.1;, score=-17510.457 total time=   6.3s\n"
     ]
    },
    {
     "name": "stderr",
     "output_type": "stream",
     "text": [
      "/Users/mayukha/opt/miniconda3/lib/python3.9/site-packages/sklearn/linear_model/_coordinate_descent.py:647: ConvergenceWarning: Objective did not converge. You might want to increase the number of iterations, check the scale of the features or consider increasing regularisation. Duality gap: 3.482e+06, tolerance: 1.271e+05\n",
      "  model = cd_fast.enet_coordinate_descent(\n"
     ]
    },
    {
     "name": "stdout",
     "output_type": "stream",
     "text": [
      "[CV 7/7] END .............model__alpha=0.1;, score=-18940.990 total time=   6.3s\n"
     ]
    },
    {
     "name": "stderr",
     "output_type": "stream",
     "text": [
      "/Users/mayukha/opt/miniconda3/lib/python3.9/site-packages/sklearn/linear_model/_coordinate_descent.py:647: ConvergenceWarning: Objective did not converge. You might want to increase the number of iterations, check the scale of the features or consider increasing regularisation. Duality gap: 4.074e+05, tolerance: 1.277e+05\n",
      "  model = cd_fast.enet_coordinate_descent(\n"
     ]
    },
    {
     "name": "stdout",
     "output_type": "stream",
     "text": [
      "[CV 1/7] END .............model__alpha=0.2;, score=-17430.608 total time=   5.8s\n",
      "[CV 2/7] END .............model__alpha=0.2;, score=-17776.570 total time=   6.5s\n"
     ]
    },
    {
     "name": "stderr",
     "output_type": "stream",
     "text": [
      "/Users/mayukha/opt/miniconda3/lib/python3.9/site-packages/sklearn/linear_model/_coordinate_descent.py:647: ConvergenceWarning: Objective did not converge. You might want to increase the number of iterations, check the scale of the features or consider increasing regularisation. Duality gap: 3.602e+05, tolerance: 1.282e+05\n",
      "  model = cd_fast.enet_coordinate_descent(\n"
     ]
    },
    {
     "name": "stdout",
     "output_type": "stream",
     "text": [
      "[CV 3/7] END .............model__alpha=0.2;, score=-16787.815 total time=   5.9s\n",
      "[CV 4/7] END .............model__alpha=0.2;, score=-16910.774 total time=   6.3s\n"
     ]
    },
    {
     "name": "stderr",
     "output_type": "stream",
     "text": [
      "/Users/mayukha/opt/miniconda3/lib/python3.9/site-packages/sklearn/linear_model/_coordinate_descent.py:647: ConvergenceWarning: Objective did not converge. You might want to increase the number of iterations, check the scale of the features or consider increasing regularisation. Duality gap: 6.375e+05, tolerance: 1.281e+05\n",
      "  model = cd_fast.enet_coordinate_descent(\n"
     ]
    },
    {
     "name": "stdout",
     "output_type": "stream",
     "text": [
      "[CV 5/7] END .............model__alpha=0.2;, score=-16870.957 total time=   5.5s\n",
      "[CV 6/7] END .............model__alpha=0.2;, score=-17660.255 total time=   4.3s\n"
     ]
    },
    {
     "name": "stderr",
     "output_type": "stream",
     "text": [
      "/Users/mayukha/opt/miniconda3/lib/python3.9/site-packages/sklearn/linear_model/_coordinate_descent.py:647: ConvergenceWarning: Objective did not converge. You might want to increase the number of iterations, check the scale of the features or consider increasing regularisation. Duality gap: 1.397e+05, tolerance: 1.271e+05\n",
      "  model = cd_fast.enet_coordinate_descent(\n"
     ]
    },
    {
     "name": "stdout",
     "output_type": "stream",
     "text": [
      "[CV 7/7] END .............model__alpha=0.2;, score=-19088.332 total time=   6.2s\n"
     ]
    },
    {
     "name": "stderr",
     "output_type": "stream",
     "text": [
      "/Users/mayukha/opt/miniconda3/lib/python3.9/site-packages/sklearn/linear_model/_coordinate_descent.py:647: ConvergenceWarning: Objective did not converge. You might want to increase the number of iterations, check the scale of the features or consider increasing regularisation. Duality gap: 2.359e+05, tolerance: 1.277e+05\n",
      "  model = cd_fast.enet_coordinate_descent(\n"
     ]
    },
    {
     "name": "stdout",
     "output_type": "stream",
     "text": [
      "[CV 1/7] END model__alpha=0.30000000000000004;, score=-17543.595 total time=   5.9s\n"
     ]
    },
    {
     "name": "stderr",
     "output_type": "stream",
     "text": [
      "/Users/mayukha/opt/miniconda3/lib/python3.9/site-packages/sklearn/linear_model/_coordinate_descent.py:647: ConvergenceWarning: Objective did not converge. You might want to increase the number of iterations, check the scale of the features or consider increasing regularisation. Duality gap: 2.216e+05, tolerance: 1.274e+05\n",
      "  model = cd_fast.enet_coordinate_descent(\n"
     ]
    },
    {
     "name": "stdout",
     "output_type": "stream",
     "text": [
      "[CV 2/7] END model__alpha=0.30000000000000004;, score=-17878.431 total time=   5.4s\n"
     ]
    },
    {
     "name": "stderr",
     "output_type": "stream",
     "text": [
      "/Users/mayukha/opt/miniconda3/lib/python3.9/site-packages/sklearn/linear_model/_coordinate_descent.py:647: ConvergenceWarning: Objective did not converge. You might want to increase the number of iterations, check the scale of the features or consider increasing regularisation. Duality gap: 2.785e+05, tolerance: 1.282e+05\n",
      "  model = cd_fast.enet_coordinate_descent(\n"
     ]
    },
    {
     "name": "stdout",
     "output_type": "stream",
     "text": [
      "[CV 3/7] END model__alpha=0.30000000000000004;, score=-16847.849 total time=   5.9s\n",
      "[CV 4/7] END model__alpha=0.30000000000000004;, score=-17003.648 total time=   4.2s\n"
     ]
    },
    {
     "name": "stderr",
     "output_type": "stream",
     "text": [
      "/Users/mayukha/opt/miniconda3/lib/python3.9/site-packages/sklearn/linear_model/_coordinate_descent.py:647: ConvergenceWarning: Objective did not converge. You might want to increase the number of iterations, check the scale of the features or consider increasing regularisation. Duality gap: 3.653e+05, tolerance: 1.281e+05\n",
      "  model = cd_fast.enet_coordinate_descent(\n"
     ]
    },
    {
     "name": "stdout",
     "output_type": "stream",
     "text": [
      "[CV 5/7] END model__alpha=0.30000000000000004;, score=-16966.648 total time=   5.5s\n",
      "[CV 6/7] END model__alpha=0.30000000000000004;, score=-17756.150 total time=   4.5s\n"
     ]
    },
    {
     "name": "stderr",
     "output_type": "stream",
     "text": [
      "/Users/mayukha/opt/miniconda3/lib/python3.9/site-packages/sklearn/linear_model/_coordinate_descent.py:647: ConvergenceWarning: Objective did not converge. You might want to increase the number of iterations, check the scale of the features or consider increasing regularisation. Duality gap: 2.728e+05, tolerance: 1.271e+05\n",
      "  model = cd_fast.enet_coordinate_descent(\n"
     ]
    },
    {
     "name": "stdout",
     "output_type": "stream",
     "text": [
      "[CV 7/7] END model__alpha=0.30000000000000004;, score=-19183.133 total time=   6.3s\n"
     ]
    },
    {
     "name": "stderr",
     "output_type": "stream",
     "text": [
      "/Users/mayukha/opt/miniconda3/lib/python3.9/site-packages/sklearn/linear_model/_coordinate_descent.py:647: ConvergenceWarning: Objective did not converge. You might want to increase the number of iterations, check the scale of the features or consider increasing regularisation. Duality gap: 1.540e+05, tolerance: 1.277e+05\n",
      "  model = cd_fast.enet_coordinate_descent(\n"
     ]
    },
    {
     "name": "stdout",
     "output_type": "stream",
     "text": [
      "[CV 1/7] END .............model__alpha=0.4;, score=-17659.811 total time=   6.0s\n"
     ]
    },
    {
     "name": "stderr",
     "output_type": "stream",
     "text": [
      "/Users/mayukha/opt/miniconda3/lib/python3.9/site-packages/sklearn/linear_model/_coordinate_descent.py:647: ConvergenceWarning: Objective did not converge. You might want to increase the number of iterations, check the scale of the features or consider increasing regularisation. Duality gap: 2.650e+05, tolerance: 1.274e+05\n",
      "  model = cd_fast.enet_coordinate_descent(\n"
     ]
    },
    {
     "name": "stdout",
     "output_type": "stream",
     "text": [
      "[CV 2/7] END .............model__alpha=0.4;, score=-17980.625 total time=   5.4s\n"
     ]
    },
    {
     "name": "stderr",
     "output_type": "stream",
     "text": [
      "/Users/mayukha/opt/miniconda3/lib/python3.9/site-packages/sklearn/linear_model/_coordinate_descent.py:647: ConvergenceWarning: Objective did not converge. You might want to increase the number of iterations, check the scale of the features or consider increasing regularisation. Duality gap: 1.696e+05, tolerance: 1.282e+05\n",
      "  model = cd_fast.enet_coordinate_descent(\n"
     ]
    },
    {
     "name": "stdout",
     "output_type": "stream",
     "text": [
      "[CV 3/7] END .............model__alpha=0.4;, score=-16937.554 total time=   6.1s\n"
     ]
    },
    {
     "name": "stderr",
     "output_type": "stream",
     "text": [
      "/Users/mayukha/opt/miniconda3/lib/python3.9/site-packages/sklearn/linear_model/_coordinate_descent.py:647: ConvergenceWarning: Objective did not converge. You might want to increase the number of iterations, check the scale of the features or consider increasing regularisation. Duality gap: 2.328e+05, tolerance: 1.287e+05\n",
      "  model = cd_fast.enet_coordinate_descent(\n"
     ]
    },
    {
     "name": "stdout",
     "output_type": "stream",
     "text": [
      "[CV 4/7] END .............model__alpha=0.4;, score=-17098.160 total time=   5.5s\n"
     ]
    },
    {
     "name": "stderr",
     "output_type": "stream",
     "text": [
      "/Users/mayukha/opt/miniconda3/lib/python3.9/site-packages/sklearn/linear_model/_coordinate_descent.py:647: ConvergenceWarning: Objective did not converge. You might want to increase the number of iterations, check the scale of the features or consider increasing regularisation. Duality gap: 2.416e+05, tolerance: 1.281e+05\n",
      "  model = cd_fast.enet_coordinate_descent(\n"
     ]
    },
    {
     "name": "stdout",
     "output_type": "stream",
     "text": [
      "[CV 5/7] END .............model__alpha=0.4;, score=-17069.981 total time=   5.6s\n",
      "[CV 6/7] END .............model__alpha=0.4;, score=-17859.366 total time=   5.6s\n"
     ]
    },
    {
     "name": "stderr",
     "output_type": "stream",
     "text": [
      "/Users/mayukha/opt/miniconda3/lib/python3.9/site-packages/sklearn/linear_model/_coordinate_descent.py:647: ConvergenceWarning: Objective did not converge. You might want to increase the number of iterations, check the scale of the features or consider increasing regularisation. Duality gap: 1.989e+05, tolerance: 1.271e+05\n",
      "  model = cd_fast.enet_coordinate_descent(\n"
     ]
    },
    {
     "name": "stdout",
     "output_type": "stream",
     "text": [
      "[CV 7/7] END .............model__alpha=0.4;, score=-19271.238 total time=   6.3s\n",
      "[CV 1/7] END .............model__alpha=0.5;, score=-17783.531 total time=   5.4s\n"
     ]
    },
    {
     "name": "stderr",
     "output_type": "stream",
     "text": [
      "/Users/mayukha/opt/miniconda3/lib/python3.9/site-packages/sklearn/linear_model/_coordinate_descent.py:647: ConvergenceWarning: Objective did not converge. You might want to increase the number of iterations, check the scale of the features or consider increasing regularisation. Duality gap: 1.992e+05, tolerance: 1.274e+05\n",
      "  model = cd_fast.enet_coordinate_descent(\n"
     ]
    },
    {
     "name": "stdout",
     "output_type": "stream",
     "text": [
      "[CV 2/7] END .............model__alpha=0.5;, score=-18076.175 total time=   5.4s\n",
      "[CV 3/7] END .............model__alpha=0.5;, score=-17030.694 total time=   5.9s\n"
     ]
    },
    {
     "name": "stderr",
     "output_type": "stream",
     "text": [
      "/Users/mayukha/opt/miniconda3/lib/python3.9/site-packages/sklearn/linear_model/_coordinate_descent.py:647: ConvergenceWarning: Objective did not converge. You might want to increase the number of iterations, check the scale of the features or consider increasing regularisation. Duality gap: 1.978e+05, tolerance: 1.287e+05\n",
      "  model = cd_fast.enet_coordinate_descent(\n"
     ]
    },
    {
     "name": "stdout",
     "output_type": "stream",
     "text": [
      "[CV 4/7] END .............model__alpha=0.5;, score=-17199.146 total time=   5.5s\n"
     ]
    },
    {
     "name": "stderr",
     "output_type": "stream",
     "text": [
      "/Users/mayukha/opt/miniconda3/lib/python3.9/site-packages/sklearn/linear_model/_coordinate_descent.py:647: ConvergenceWarning: Objective did not converge. You might want to increase the number of iterations, check the scale of the features or consider increasing regularisation. Duality gap: 1.497e+05, tolerance: 1.281e+05\n",
      "  model = cd_fast.enet_coordinate_descent(\n"
     ]
    },
    {
     "name": "stdout",
     "output_type": "stream",
     "text": [
      "[CV 5/7] END .............model__alpha=0.5;, score=-17176.551 total time=   5.8s\n"
     ]
    },
    {
     "name": "stderr",
     "output_type": "stream",
     "text": [
      "/Users/mayukha/opt/miniconda3/lib/python3.9/site-packages/sklearn/linear_model/_coordinate_descent.py:647: ConvergenceWarning: Objective did not converge. You might want to increase the number of iterations, check the scale of the features or consider increasing regularisation. Duality gap: 1.775e+05, tolerance: 1.281e+05\n",
      "  model = cd_fast.enet_coordinate_descent(\n"
     ]
    },
    {
     "name": "stdout",
     "output_type": "stream",
     "text": [
      "[CV 6/7] END .............model__alpha=0.5;, score=-17975.163 total time=   5.9s\n"
     ]
    },
    {
     "name": "stderr",
     "output_type": "stream",
     "text": [
      "/Users/mayukha/opt/miniconda3/lib/python3.9/site-packages/sklearn/linear_model/_coordinate_descent.py:647: ConvergenceWarning: Objective did not converge. You might want to increase the number of iterations, check the scale of the features or consider increasing regularisation. Duality gap: 1.413e+05, tolerance: 1.271e+05\n",
      "  model = cd_fast.enet_coordinate_descent(\n"
     ]
    },
    {
     "name": "stdout",
     "output_type": "stream",
     "text": [
      "[CV 7/7] END .............model__alpha=0.5;, score=-19380.275 total time=   6.3s\n",
      "[CV 1/7] END .............model__alpha=0.6;, score=-17895.848 total time=   4.3s\n"
     ]
    },
    {
     "name": "stderr",
     "output_type": "stream",
     "text": [
      "/Users/mayukha/opt/miniconda3/lib/python3.9/site-packages/sklearn/linear_model/_coordinate_descent.py:647: ConvergenceWarning: Objective did not converge. You might want to increase the number of iterations, check the scale of the features or consider increasing regularisation. Duality gap: 1.551e+05, tolerance: 1.274e+05\n",
      "  model = cd_fast.enet_coordinate_descent(\n"
     ]
    },
    {
     "name": "stdout",
     "output_type": "stream",
     "text": [
      "[CV 2/7] END .............model__alpha=0.6;, score=-18157.060 total time=   5.4s\n",
      "[CV 3/7] END .............model__alpha=0.6;, score=-17123.045 total time=   4.7s\n"
     ]
    },
    {
     "name": "stderr",
     "output_type": "stream",
     "text": [
      "/Users/mayukha/opt/miniconda3/lib/python3.9/site-packages/sklearn/linear_model/_coordinate_descent.py:647: ConvergenceWarning: Objective did not converge. You might want to increase the number of iterations, check the scale of the features or consider increasing regularisation. Duality gap: 1.544e+05, tolerance: 1.287e+05\n",
      "  model = cd_fast.enet_coordinate_descent(\n"
     ]
    },
    {
     "name": "stdout",
     "output_type": "stream",
     "text": [
      "[CV 4/7] END .............model__alpha=0.6;, score=-17313.579 total time=   5.5s\n",
      "[CV 5/7] END .............model__alpha=0.6;, score=-17286.964 total time=   4.7s\n"
     ]
    },
    {
     "name": "stderr",
     "output_type": "stream",
     "text": [
      "/Users/mayukha/opt/miniconda3/lib/python3.9/site-packages/sklearn/linear_model/_coordinate_descent.py:647: ConvergenceWarning: Objective did not converge. You might want to increase the number of iterations, check the scale of the features or consider increasing regularisation. Duality gap: 1.348e+05, tolerance: 1.281e+05\n",
      "  model = cd_fast.enet_coordinate_descent(\n"
     ]
    },
    {
     "name": "stdout",
     "output_type": "stream",
     "text": [
      "[CV 6/7] END .............model__alpha=0.6;, score=-18083.192 total time=   5.9s\n",
      "[CV 7/7] END .............model__alpha=0.6;, score=-19486.127 total time=   5.5s\n",
      "[CV 1/7] END model__alpha=0.7000000000000001;, score=-17997.982 total time=   3.4s\n"
     ]
    },
    {
     "name": "stderr",
     "output_type": "stream",
     "text": [
      "/Users/mayukha/opt/miniconda3/lib/python3.9/site-packages/sklearn/linear_model/_coordinate_descent.py:647: ConvergenceWarning: Objective did not converge. You might want to increase the number of iterations, check the scale of the features or consider increasing regularisation. Duality gap: 1.278e+05, tolerance: 1.274e+05\n",
      "  model = cd_fast.enet_coordinate_descent(\n"
     ]
    },
    {
     "name": "stdout",
     "output_type": "stream",
     "text": [
      "[CV 2/7] END model__alpha=0.7000000000000001;, score=-18227.594 total time=   5.5s\n",
      "[CV 3/7] END model__alpha=0.7000000000000001;, score=-17219.070 total time=   2.8s\n",
      "[CV 4/7] END model__alpha=0.7000000000000001;, score=-17401.968 total time=   5.3s\n",
      "[CV 5/7] END model__alpha=0.7000000000000001;, score=-17373.652 total time=   3.4s\n",
      "[CV 6/7] END model__alpha=0.7000000000000001;, score=-18176.459 total time=   5.4s\n",
      "[CV 7/7] END model__alpha=0.7000000000000001;, score=-19554.673 total time=   4.8s\n",
      "[CV 1/7] END .............model__alpha=0.8;, score=-18091.987 total time=   2.5s\n",
      "[CV 2/7] END .............model__alpha=0.8;, score=-18284.279 total time=   4.7s\n",
      "[CV 3/7] END .............model__alpha=0.8;, score=-17297.502 total time=   2.4s\n",
      "[CV 4/7] END .............model__alpha=0.8;, score=-17478.231 total time=   4.6s\n",
      "[CV 5/7] END .............model__alpha=0.8;, score=-17448.681 total time=   3.2s\n",
      "[CV 6/7] END .............model__alpha=0.8;, score=-18261.244 total time=   4.9s\n",
      "[CV 7/7] END .............model__alpha=0.8;, score=-19630.796 total time=   3.8s\n",
      "[CV 1/7] END .............model__alpha=0.9;, score=-18181.059 total time=   1.1s\n",
      "[CV 2/7] END .............model__alpha=0.9;, score=-18341.142 total time=   4.3s\n",
      "[CV 3/7] END .............model__alpha=0.9;, score=-17377.871 total time=   2.1s\n",
      "[CV 4/7] END .............model__alpha=0.9;, score=-17557.904 total time=   4.0s\n",
      "[CV 5/7] END .............model__alpha=0.9;, score=-17524.617 total time=   3.1s\n",
      "[CV 6/7] END .............model__alpha=0.9;, score=-18342.622 total time=   4.5s\n",
      "[CV 7/7] END .............model__alpha=0.9;, score=-19709.745 total time=   2.9s\n",
      "[CV 1/7] END .............model__alpha=1.0;, score=-18274.367 total time=   1.4s\n",
      "[CV 2/7] END .............model__alpha=1.0;, score=-18397.902 total time=   4.0s\n",
      "[CV 3/7] END .............model__alpha=1.0;, score=-17455.380 total time=   1.8s\n",
      "[CV 4/7] END .............model__alpha=1.0;, score=-17638.961 total time=   3.4s\n",
      "[CV 5/7] END .............model__alpha=1.0;, score=-17599.155 total time=   2.9s\n",
      "[CV 6/7] END .............model__alpha=1.0;, score=-18412.917 total time=   3.8s\n",
      "[CV 7/7] END .............model__alpha=1.0;, score=-19791.985 total time=   1.5s\n",
      "[CV 1/7] END .............model__alpha=1.1;, score=-18368.611 total time=   2.6s\n",
      "[CV 2/7] END .............model__alpha=1.1;, score=-18459.817 total time=   3.1s\n",
      "[CV 3/7] END .............model__alpha=1.1;, score=-17511.679 total time=   1.3s\n",
      "[CV 4/7] END .............model__alpha=1.1;, score=-17699.489 total time=   2.3s\n",
      "[CV 5/7] END .............model__alpha=1.1;, score=-17667.026 total time=   2.6s\n",
      "[CV 6/7] END .............model__alpha=1.1;, score=-18468.670 total time=   3.0s\n",
      "[CV 7/7] END .............model__alpha=1.1;, score=-19853.626 total time=   2.0s\n",
      "[CV 1/7] END model__alpha=1.2000000000000002;, score=-18454.320 total time=   2.4s\n",
      "[CV 2/7] END model__alpha=1.2000000000000002;, score=-18514.192 total time=   2.9s\n",
      "[CV 3/7] END model__alpha=1.2000000000000002;, score=-17572.340 total time=   1.5s\n",
      "[CV 4/7] END model__alpha=1.2000000000000002;, score=-17762.521 total time=   1.1s\n",
      "[CV 5/7] END model__alpha=1.2000000000000002;, score=-17727.236 total time=   2.2s\n",
      "[CV 6/7] END model__alpha=1.2000000000000002;, score=-18528.889 total time=   1.3s\n",
      "[CV 7/7] END model__alpha=1.2000000000000002;, score=-19918.855 total time=   2.8s\n",
      "[CV 1/7] END model__alpha=1.3000000000000003;, score=-18541.621 total time=   2.4s\n",
      "[CV 2/7] END model__alpha=1.3000000000000003;, score=-18571.954 total time=   2.7s\n",
      "[CV 3/7] END model__alpha=1.3000000000000003;, score=-17636.704 total time=   1.6s\n",
      "[CV 4/7] END model__alpha=1.3000000000000003;, score=-17828.395 total time=   1.8s\n",
      "[CV 5/7] END model__alpha=1.3000000000000003;, score=-17790.770 total time=   1.8s\n",
      "[CV 6/7] END model__alpha=1.3000000000000003;, score=-18592.117 total time=   1.3s\n",
      "[CV 7/7] END model__alpha=1.3000000000000003;, score=-19982.189 total time=   2.6s\n",
      "[CV 1/7] END model__alpha=1.4000000000000001;, score=-18623.403 total time=   2.5s\n",
      "[CV 2/7] END model__alpha=1.4000000000000001;, score=-18631.822 total time=   2.6s\n",
      "[CV 3/7] END model__alpha=1.4000000000000001;, score=-17703.591 total time=   1.9s\n",
      "[CV 4/7] END model__alpha=1.4000000000000001;, score=-17897.255 total time=   2.8s\n",
      "[CV 5/7] END model__alpha=1.4000000000000001;, score=-17855.739 total time=   1.7s\n",
      "[CV 6/7] END model__alpha=1.4000000000000001;, score=-18658.458 total time=   2.5s\n",
      "[CV 7/7] END model__alpha=1.4000000000000001;, score=-20042.129 total time=   2.6s\n",
      "[CV 1/7] END model__alpha=1.5000000000000002;, score=-18711.603 total time=   2.5s\n",
      "[CV 2/7] END model__alpha=1.5000000000000002;, score=-18690.674 total time=   2.6s\n",
      "[CV 3/7] END model__alpha=1.5000000000000002;, score=-17769.153 total time=   2.3s\n",
      "[CV 4/7] END model__alpha=1.5000000000000002;, score=-17969.401 total time=   3.6s\n",
      "[CV 5/7] END model__alpha=1.5000000000000002;, score=-17919.983 total time=   1.8s\n",
      "[CV 6/7] END model__alpha=1.5000000000000002;, score=-18723.090 total time=   3.6s\n",
      "[CV 7/7] END model__alpha=1.5000000000000002;, score=-20106.927 total time=   2.9s\n",
      "[CV 1/7] END .............model__alpha=1.6;, score=-18804.490 total time=   2.6s\n",
      "[CV 2/7] END .............model__alpha=1.6;, score=-18755.818 total time=   2.6s\n",
      "[CV 3/7] END .............model__alpha=1.6;, score=-17839.711 total time=   2.6s\n",
      "[CV 4/7] END .............model__alpha=1.6;, score=-18040.538 total time=   4.2s\n",
      "[CV 5/7] END .............model__alpha=1.6;, score=-17986.593 total time=   1.8s\n",
      "[CV 6/7] END .............model__alpha=1.6;, score=-18793.143 total time=   4.4s\n",
      "[CV 7/7] END .............model__alpha=1.6;, score=-20175.882 total time=   2.8s\n",
      "[CV 1/7] END model__alpha=1.7000000000000002;, score=-18899.067 total time=   2.6s\n",
      "[CV 2/7] END model__alpha=1.7000000000000002;, score=-18825.930 total time=   2.5s\n",
      "[CV 3/7] END model__alpha=1.7000000000000002;, score=-17916.647 total time=   2.4s\n",
      "[CV 4/7] END model__alpha=1.7000000000000002;, score=-18115.598 total time=   4.7s\n",
      "[CV 5/7] END model__alpha=1.7000000000000002;, score=-18057.946 total time=   2.1s\n",
      "[CV 6/7] END model__alpha=1.7000000000000002;, score=-18869.197 total time=   4.2s\n",
      "[CV 7/7] END model__alpha=1.7000000000000002;, score=-20247.307 total time=   2.8s\n",
      "[CV 1/7] END model__alpha=1.8000000000000003;, score=-18984.169 total time=   2.6s\n",
      "[CV 2/7] END model__alpha=1.8000000000000003;, score=-18900.850 total time=   2.4s\n",
      "[CV 3/7] END model__alpha=1.8000000000000003;, score=-17991.205 total time=   2.5s\n",
      "[CV 4/7] END model__alpha=1.8000000000000003;, score=-18194.040 total time=   4.5s\n",
      "[CV 5/7] END model__alpha=1.8000000000000003;, score=-18127.880 total time=   2.4s\n",
      "[CV 6/7] END model__alpha=1.8000000000000003;, score=-18950.640 total time=   3.6s\n",
      "[CV 7/7] END model__alpha=1.8000000000000003;, score=-20317.319 total time=   2.8s\n",
      "[CV 1/7] END model__alpha=1.9000000000000001;, score=-19064.423 total time=   2.1s\n",
      "[CV 2/7] END model__alpha=1.9000000000000001;, score=-18975.338 total time=   2.5s\n",
      "[CV 3/7] END model__alpha=1.9000000000000001;, score=-18065.339 total time=   2.5s\n",
      "[CV 4/7] END model__alpha=1.9000000000000001;, score=-18266.619 total time=   3.9s\n",
      "[CV 5/7] END model__alpha=1.9000000000000001;, score=-18195.946 total time=   2.6s\n",
      "[CV 6/7] END model__alpha=1.9000000000000001;, score=-19028.388 total time=   3.3s\n",
      "[CV 7/7] END model__alpha=1.9000000000000001;, score=-20382.932 total time=   2.4s\n",
      "[CV 1/7] END .............model__alpha=2.0;, score=-19146.831 total time=   2.3s\n",
      "[CV 2/7] END .............model__alpha=2.0;, score=-19050.337 total time=   2.8s\n",
      "[CV 3/7] END .............model__alpha=2.0;, score=-18137.434 total time=   2.0s\n",
      "[CV 4/7] END .............model__alpha=2.0;, score=-18339.118 total time=   3.6s\n",
      "[CV 5/7] END .............model__alpha=2.0;, score=-18268.617 total time=   2.8s\n",
      "[CV 6/7] END .............model__alpha=2.0;, score=-19109.299 total time=   3.2s\n",
      "[CV 7/7] END .............model__alpha=2.0;, score=-20444.811 total time=   2.3s\n",
      "[CV 1/7] END .............model__alpha=2.1;, score=-19235.329 total time=   2.7s\n",
      "[CV 2/7] END .............model__alpha=2.1;, score=-19126.297 total time=   2.1s\n",
      "[CV 3/7] END .............model__alpha=2.1;, score=-18212.972 total time=   2.3s\n",
      "[CV 4/7] END .............model__alpha=2.1;, score=-18415.077 total time=   3.5s\n",
      "[CV 5/7] END .............model__alpha=2.1;, score=-18343.675 total time=   1.7s\n",
      "[CV 6/7] END .............model__alpha=2.1;, score=-19190.756 total time=   2.7s\n",
      "[CV 7/7] END .............model__alpha=2.1;, score=-20511.764 total time=   2.6s\n",
      "[CV 1/7] END .............model__alpha=2.2;, score=-19327.182 total time=   2.9s\n",
      "[CV 2/7] END .............model__alpha=2.2;, score=-19204.995 total time=   2.3s\n",
      "[CV 3/7] END .............model__alpha=2.2;, score=-18288.355 total time=   2.5s\n",
      "[CV 4/7] END .............model__alpha=2.2;, score=-18494.794 total time=   3.5s\n",
      "[CV 5/7] END .............model__alpha=2.2;, score=-18421.922 total time=   2.0s\n",
      "[CV 6/7] END .............model__alpha=2.2;, score=-19273.670 total time=   3.1s\n",
      "[CV 7/7] END .............model__alpha=2.2;, score=-20582.769 total time=   2.9s\n",
      "[CV 1/7] END model__alpha=2.3000000000000003;, score=-19417.812 total time=   3.0s\n",
      "[CV 2/7] END model__alpha=2.3000000000000003;, score=-19286.116 total time=   2.4s\n",
      "[CV 3/7] END model__alpha=2.3000000000000003;, score=-18363.827 total time=   2.7s\n",
      "[CV 4/7] END model__alpha=2.3000000000000003;, score=-18577.009 total time=   3.5s\n",
      "[CV 5/7] END model__alpha=2.3000000000000003;, score=-18504.883 total time=   2.3s\n",
      "[CV 6/7] END model__alpha=2.3000000000000003;, score=-19360.916 total time=   3.7s\n",
      "[CV 7/7] END model__alpha=2.3000000000000003;, score=-20657.026 total time=   3.2s\n",
      "[CV 1/7] END model__alpha=2.4000000000000004;, score=-19503.747 total time=   3.0s\n",
      "[CV 2/7] END model__alpha=2.4000000000000004;, score=-19370.205 total time=   2.5s\n",
      "[CV 3/7] END model__alpha=2.4000000000000004;, score=-18439.989 total time=   3.2s\n",
      "[CV 4/7] END model__alpha=2.4000000000000004;, score=-18652.953 total time=   3.6s\n",
      "[CV 5/7] END model__alpha=2.4000000000000004;, score=-18589.320 total time=   2.5s\n",
      "[CV 6/7] END model__alpha=2.4000000000000004;, score=-19447.108 total time=   4.0s\n",
      "[CV 7/7] END model__alpha=2.4000000000000004;, score=-20734.459 total time=   3.5s\n",
      "[CV 1/7] END model__alpha=2.5000000000000004;, score=-19594.272 total time=   3.2s\n",
      "[CV 2/7] END model__alpha=2.5000000000000004;, score=-19452.677 total time=   2.7s\n",
      "[CV 3/7] END model__alpha=2.5000000000000004;, score=-18520.242 total time=   3.6s\n",
      "[CV 4/7] END model__alpha=2.5000000000000004;, score=-18731.586 total time=   3.7s\n",
      "[CV 5/7] END model__alpha=2.5000000000000004;, score=-18672.508 total time=   3.2s\n",
      "[CV 6/7] END model__alpha=2.5000000000000004;, score=-19537.816 total time=   4.2s\n",
      "[CV 7/7] END model__alpha=2.5000000000000004;, score=-20809.225 total time=   3.9s\n",
      "[CV 1/7] END .............model__alpha=2.6;, score=-19688.701 total time=   3.4s\n",
      "[CV 2/7] END .............model__alpha=2.6;, score=-19536.341 total time=   2.8s\n",
      "[CV 3/7] END .............model__alpha=2.6;, score=-18601.466 total time=   3.8s\n",
      "[CV 4/7] END .............model__alpha=2.6;, score=-18813.476 total time=   3.9s\n",
      "[CV 5/7] END .............model__alpha=2.6;, score=-18760.366 total time=   3.6s\n",
      "[CV 6/7] END .............model__alpha=2.6;, score=-19629.770 total time=   4.3s\n",
      "[CV 7/7] END .............model__alpha=2.6;, score=-20886.712 total time=   4.2s\n",
      "[CV 1/7] END .............model__alpha=2.7;, score=-19785.032 total time=   3.6s\n",
      "[CV 2/7] END .............model__alpha=2.7;, score=-19622.757 total time=   3.3s\n",
      "[CV 3/7] END .............model__alpha=2.7;, score=-18688.805 total time=   4.1s\n",
      "[CV 4/7] END .............model__alpha=2.7;, score=-18898.441 total time=   3.8s\n",
      "[CV 5/7] END .............model__alpha=2.7;, score=-18849.984 total time=   3.8s\n",
      "[CV 6/7] END .............model__alpha=2.7;, score=-19723.089 total time=   4.4s\n",
      "[CV 7/7] END .............model__alpha=2.7;, score=-20967.415 total time=   4.3s\n",
      "[CV 1/7] END model__alpha=2.8000000000000003;, score=-19882.461 total time=   3.3s\n",
      "[CV 2/7] END model__alpha=2.8000000000000003;, score=-19709.928 total time=   3.5s\n",
      "[CV 3/7] END model__alpha=2.8000000000000003;, score=-18779.494 total time=   4.3s\n",
      "[CV 4/7] END model__alpha=2.8000000000000003;, score=-18983.634 total time=   3.4s\n",
      "[CV 5/7] END model__alpha=2.8000000000000003;, score=-18939.681 total time=   3.9s\n",
      "[CV 6/7] END model__alpha=2.8000000000000003;, score=-19819.298 total time=   4.6s\n",
      "[CV 7/7] END model__alpha=2.8000000000000003;, score=-21048.110 total time=   4.2s\n",
      "[CV 1/7] END model__alpha=2.9000000000000004;, score=-19983.078 total time=   2.7s\n",
      "[CV 2/7] END model__alpha=2.9000000000000004;, score=-19799.993 total time=   3.5s\n",
      "[CV 3/7] END model__alpha=2.9000000000000004;, score=-18870.704 total time=   4.2s\n",
      "[CV 4/7] END model__alpha=2.9000000000000004;, score=-19071.141 total time=   3.3s\n",
      "[CV 5/7] END model__alpha=2.9000000000000004;, score=-19031.172 total time=   3.8s\n",
      "[CV 6/7] END model__alpha=2.9000000000000004;, score=-19918.768 total time=   4.9s\n",
      "[CV 7/7] END model__alpha=2.9000000000000004;, score=-21131.224 total time=   3.4s\n",
      "[CV 1/7] END model__alpha=3.0000000000000004;, score=-20084.978 total time=   3.3s\n",
      "[CV 2/7] END model__alpha=3.0000000000000004;, score=-19890.670 total time=   3.3s\n",
      "[CV 3/7] END model__alpha=3.0000000000000004;, score=-18963.281 total time=   3.4s\n",
      "[CV 4/7] END model__alpha=3.0000000000000004;, score=-19159.046 total time=   3.2s\n",
      "[CV 5/7] END model__alpha=3.0000000000000004;, score=-19123.919 total time=   3.0s\n",
      "[CV 6/7] END model__alpha=3.0000000000000004;, score=-20020.701 total time=   4.9s\n",
      "[CV 7/7] END model__alpha=3.0000000000000004;, score=-21216.170 total time=   3.1s\n",
      "[CV 1/7] END .............model__alpha=3.1;, score=-20189.619 total time=   3.3s\n",
      "[CV 2/7] END .............model__alpha=3.1;, score=-19981.430 total time=   2.4s\n",
      "[CV 3/7] END .............model__alpha=3.1;, score=-19059.129 total time=   2.6s\n",
      "[CV 4/7] END .............model__alpha=3.1;, score=-19246.465 total time=   3.0s\n",
      "[CV 5/7] END .............model__alpha=3.1;, score=-19216.541 total time=   1.9s\n",
      "[CV 6/7] END .............model__alpha=3.1;, score=-20126.016 total time=   4.9s\n",
      "[CV 7/7] END .............model__alpha=3.1;, score=-21302.720 total time=   3.5s\n",
      "[CV 1/7] END .............model__alpha=3.2;, score=-20295.667 total time=   3.2s\n",
      "[CV 2/7] END .............model__alpha=3.2;, score=-20075.432 total time=   2.1s\n",
      "[CV 3/7] END .............model__alpha=3.2;, score=-19154.061 total time=   1.9s\n",
      "[CV 4/7] END .............model__alpha=3.2;, score=-19326.494 total time=   2.8s\n",
      "[CV 5/7] END .............model__alpha=3.2;, score=-19302.632 total time=   1.6s\n",
      "[CV 6/7] END .............model__alpha=3.2;, score=-20230.165 total time=   4.8s\n",
      "[CV 7/7] END .............model__alpha=3.2;, score=-21390.516 total time=   3.3s\n",
      "[CV 1/7] END model__alpha=3.3000000000000003;, score=-20391.527 total time=   3.1s\n",
      "[CV 2/7] END model__alpha=3.3000000000000003;, score=-20168.692 total time=   2.6s\n",
      "[CV 3/7] END model__alpha=3.3000000000000003;, score=-19245.154 total time=   2.2s\n",
      "[CV 4/7] END model__alpha=3.3000000000000003;, score=-19399.248 total time=   2.7s\n",
      "[CV 5/7] END model__alpha=3.3000000000000003;, score=-19384.033 total time=   1.7s\n",
      "[CV 6/7] END model__alpha=3.3000000000000003;, score=-20319.450 total time=   3.8s\n",
      "[CV 7/7] END model__alpha=3.3000000000000003;, score=-21480.449 total time=   3.2s\n",
      "[CV 1/7] END model__alpha=3.4000000000000004;, score=-20482.480 total time=   2.9s\n",
      "[CV 2/7] END model__alpha=3.4000000000000004;, score=-20261.149 total time=   3.2s\n",
      "[CV 3/7] END model__alpha=3.4000000000000004;, score=-19320.080 total time=   2.5s\n",
      "[CV 4/7] END model__alpha=3.4000000000000004;, score=-19472.855 total time=   2.7s\n",
      "[CV 5/7] END model__alpha=3.4000000000000004;, score=-19462.731 total time=   1.8s\n",
      "[CV 6/7] END model__alpha=3.4000000000000004;, score=-20404.114 total time=   3.1s\n",
      "[CV 7/7] END model__alpha=3.4000000000000004;, score=-21561.502 total time=   3.1s\n",
      "[CV 1/7] END model__alpha=3.5000000000000004;, score=-20567.041 total time=   2.8s\n",
      "[CV 2/7] END model__alpha=3.5000000000000004;, score=-20352.581 total time=   3.0s\n",
      "[CV 3/7] END model__alpha=3.5000000000000004;, score=-19390.439 total time=   3.1s\n",
      "[CV 4/7] END model__alpha=3.5000000000000004;, score=-19541.406 total time=   2.6s\n",
      "[CV 5/7] END model__alpha=3.5000000000000004;, score=-19542.468 total time=   1.9s\n",
      "[CV 6/7] END model__alpha=3.5000000000000004;, score=-20489.642 total time=   3.0s\n",
      "[CV 7/7] END model__alpha=3.5000000000000004;, score=-21628.742 total time=   3.0s\n",
      "[CV 1/7] END .............model__alpha=3.6;, score=-20643.703 total time=   2.7s\n",
      "[CV 2/7] END .............model__alpha=3.6;, score=-20425.482 total time=   3.0s\n",
      "[CV 3/7] END .............model__alpha=3.6;, score=-19454.110 total time=   3.1s\n",
      "[CV 4/7] END .............model__alpha=3.6;, score=-19611.334 total time=   2.5s\n",
      "[CV 5/7] END .............model__alpha=3.6;, score=-19619.948 total time=   2.2s\n",
      "[CV 6/7] END .............model__alpha=3.6;, score=-20569.180 total time=   2.7s\n",
      "[CV 7/7] END .............model__alpha=3.6;, score=-21692.428 total time=   2.9s\n",
      "[CV 1/7] END .............model__alpha=3.7;, score=-20707.220 total time=   2.6s\n",
      "[CV 2/7] END .............model__alpha=3.7;, score=-20497.758 total time=   2.8s\n",
      "[CV 3/7] END .............model__alpha=3.7;, score=-19503.635 total time=   2.9s\n",
      "[CV 4/7] END .............model__alpha=3.7;, score=-19677.781 total time=   2.4s\n",
      "[CV 5/7] END .............model__alpha=3.7;, score=-19679.061 total time=   2.5s\n",
      "[CV 6/7] END .............model__alpha=3.7;, score=-20635.848 total time=   2.6s\n",
      "[CV 7/7] END .............model__alpha=3.7;, score=-21755.498 total time=   2.6s\n",
      "[CV 1/7] END model__alpha=3.8000000000000003;, score=-20768.084 total time=   2.4s\n",
      "[CV 2/7] END model__alpha=3.8000000000000003;, score=-20567.889 total time=   2.6s\n",
      "[CV 3/7] END model__alpha=3.8000000000000003;, score=-19553.432 total time=   2.8s\n",
      "[CV 4/7] END model__alpha=3.8000000000000003;, score=-19732.241 total time=   2.2s\n",
      "[CV 5/7] END model__alpha=3.8000000000000003;, score=-19736.768 total time=   3.0s\n",
      "[CV 6/7] END model__alpha=3.8000000000000003;, score=-20696.814 total time=   2.5s\n",
      "[CV 7/7] END model__alpha=3.8000000000000003;, score=-21809.781 total time=   2.6s\n",
      "[CV 1/7] END model__alpha=3.9000000000000004;, score=-20828.756 total time=   2.3s\n",
      "[CV 2/7] END model__alpha=3.9000000000000004;, score=-20634.486 total time=   2.5s\n",
      "[CV 3/7] END model__alpha=3.9000000000000004;, score=-19602.009 total time=   2.8s\n",
      "[CV 4/7] END model__alpha=3.9000000000000004;, score=-19786.907 total time=   2.0s\n",
      "[CV 5/7] END model__alpha=3.9000000000000004;, score=-19792.842 total time=   2.9s\n",
      "[CV 6/7] END model__alpha=3.9000000000000004;, score=-20758.723 total time=   2.4s\n",
      "[CV 7/7] END model__alpha=3.9000000000000004;, score=-21860.525 total time=   2.4s\n",
      "[CV 1/7] END .............model__alpha=4.0;, score=-20883.846 total time=   2.2s\n",
      "[CV 2/7] END .............model__alpha=4.0;, score=-20698.173 total time=   2.4s\n",
      "[CV 3/7] END .............model__alpha=4.0;, score=-19651.679 total time=   2.7s\n",
      "[CV 4/7] END .............model__alpha=4.0;, score=-19839.423 total time=   1.8s\n",
      "[CV 5/7] END .............model__alpha=4.0;, score=-19847.068 total time=   2.9s\n",
      "[CV 6/7] END .............model__alpha=4.0;, score=-20822.200 total time=   2.3s\n",
      "[CV 7/7] END .............model__alpha=4.0;, score=-21912.738 total time=   2.5s\n",
      "[CV 1/7] END .............model__alpha=4.1;, score=-20937.470 total time=   2.2s\n",
      "[CV 2/7] END .............model__alpha=4.1;, score=-20750.104 total time=   2.3s\n",
      "[CV 3/7] END .............model__alpha=4.1;, score=-19702.795 total time=   2.7s\n",
      "[CV 4/7] END .............model__alpha=4.1;, score=-19891.221 total time=   1.7s\n",
      "[CV 5/7] END .............model__alpha=4.1;, score=-19899.371 total time=   2.9s\n",
      "[CV 6/7] END .............model__alpha=4.1;, score=-20887.266 total time=   2.1s\n",
      "[CV 7/7] END .............model__alpha=4.1;, score=-21958.265 total time=   2.2s\n",
      "[CV 1/7] END .............model__alpha=4.2;, score=-20992.001 total time=   2.0s\n",
      "[CV 2/7] END .............model__alpha=4.2;, score=-20796.622 total time=   2.2s\n",
      "[CV 3/7] END .............model__alpha=4.2;, score=-19755.191 total time=   2.6s\n",
      "[CV 4/7] END .............model__alpha=4.2;, score=-19933.542 total time=   1.4s\n",
      "[CV 5/7] END .............model__alpha=4.2;, score=-19947.806 total time=   2.8s\n",
      "[CV 6/7] END .............model__alpha=4.2;, score=-20951.813 total time=   2.0s\n",
      "[CV 7/7] END .............model__alpha=4.2;, score=-22004.515 total time=   2.2s\n",
      "[CV 1/7] END .............model__alpha=4.3;, score=-21039.949 total time=   1.9s\n",
      "[CV 2/7] END .............model__alpha=4.3;, score=-20841.728 total time=   2.0s\n",
      "[CV 3/7] END .............model__alpha=4.3;, score=-19796.831 total time=   2.5s\n",
      "[CV 4/7] END .............model__alpha=4.3;, score=-19969.781 total time=   1.0s\n",
      "[CV 5/7] END .............model__alpha=4.3;, score=-19989.931 total time=   2.7s\n",
      "[CV 6/7] END .............model__alpha=4.3;, score=-21008.702 total time=   1.7s\n",
      "[CV 7/7] END .............model__alpha=4.3;, score=-22046.642 total time=   1.9s\n",
      "[CV 1/7] END model__alpha=4.3999999999999995;, score=-21086.877 total time=   1.6s\n",
      "[CV 2/7] END model__alpha=4.3999999999999995;, score=-20887.385 total time=   1.9s\n",
      "[CV 3/7] END model__alpha=4.3999999999999995;, score=-19834.831 total time=   2.4s\n",
      "[CV 4/7] END model__alpha=4.3999999999999995;, score=-20006.641 total time=   0.7s\n",
      "[CV 5/7] END model__alpha=4.3999999999999995;, score=-20030.092 total time=   2.6s\n",
      "[CV 6/7] END model__alpha=4.3999999999999995;, score=-21059.141 total time=   1.5s\n",
      "[CV 7/7] END model__alpha=4.3999999999999995;, score=-22084.839 total time=   1.7s\n",
      "[CV 1/7] END .............model__alpha=4.5;, score=-21134.246 total time=   1.4s\n",
      "[CV 2/7] END .............model__alpha=4.5;, score=-20934.117 total time=   1.7s\n",
      "[CV 3/7] END .............model__alpha=4.5;, score=-19873.810 total time=   2.3s\n",
      "[CV 4/7] END .............model__alpha=4.5;, score=-20043.816 total time=   0.8s\n",
      "[CV 5/7] END .............model__alpha=4.5;, score=-20070.783 total time=   2.6s\n",
      "[CV 6/7] END .............model__alpha=4.5;, score=-21110.598 total time=   1.2s\n",
      "[CV 7/7] END .............model__alpha=4.5;, score=-22123.959 total time=   1.3s\n",
      "[CV 1/7] END .............model__alpha=4.6;, score=-21182.320 total time=   1.0s\n",
      "[CV 2/7] END .............model__alpha=4.6;, score=-20981.520 total time=   1.5s\n",
      "[CV 3/7] END .............model__alpha=4.6;, score=-19913.501 total time=   2.1s\n",
      "[CV 4/7] END .............model__alpha=4.6;, score=-20081.747 total time=   0.9s\n",
      "[CV 5/7] END .............model__alpha=4.6;, score=-20112.409 total time=   2.4s\n",
      "[CV 6/7] END .............model__alpha=4.6;, score=-21162.995 total time=   0.7s\n",
      "[CV 7/7] END .............model__alpha=4.6;, score=-22164.080 total time=   0.8s\n",
      "[CV 1/7] END .............model__alpha=4.7;, score=-21230.025 total time=   0.7s\n",
      "[CV 2/7] END .............model__alpha=4.7;, score=-21029.850 total time=   1.1s\n",
      "[CV 3/7] END .............model__alpha=4.7;, score=-19954.008 total time=   2.0s\n",
      "[CV 4/7] END .............model__alpha=4.7;, score=-20120.956 total time=   1.4s\n",
      "[CV 5/7] END .............model__alpha=4.7;, score=-20154.969 total time=   2.4s\n",
      "[CV 6/7] END .............model__alpha=4.7;, score=-21205.726 total time=   0.7s\n",
      "[CV 7/7] END .............model__alpha=4.7;, score=-22204.837 total time=   0.8s\n",
      "[CV 1/7] END .............model__alpha=4.8;, score=-21268.693 total time=   0.7s\n",
      "[CV 2/7] END .............model__alpha=4.8;, score=-21079.046 total time=   0.8s\n",
      "[CV 3/7] END .............model__alpha=4.8;, score=-19995.481 total time=   1.8s\n",
      "[CV 4/7] END .............model__alpha=4.8;, score=-20161.173 total time=   1.6s\n",
      "[CV 5/7] END .............model__alpha=4.8;, score=-20198.462 total time=   2.2s\n",
      "[CV 6/7] END .............model__alpha=4.8;, score=-21247.372 total time=   0.9s\n",
      "[CV 7/7] END .............model__alpha=4.8;, score=-22246.552 total time=   0.8s\n",
      "[CV 1/7] END .............model__alpha=4.9;, score=-21303.522 total time=   0.9s\n",
      "[CV 2/7] END .............model__alpha=4.9;, score=-21129.081 total time=   0.8s\n",
      "[CV 3/7] END .............model__alpha=4.9;, score=-20037.917 total time=   1.6s\n",
      "[CV 4/7] END .............model__alpha=4.9;, score=-20202.338 total time=   1.8s\n",
      "[CV 5/7] END .............model__alpha=4.9;, score=-20242.889 total time=   2.1s\n",
      "[CV 6/7] END .............model__alpha=4.9;, score=-21290.001 total time=   1.4s\n",
      "[CV 7/7] END .............model__alpha=4.9;, score=-22289.362 total time=   1.1s\n",
      "[CV 1/7] END .............model__alpha=5.0;, score=-21339.576 total time=   1.4s\n",
      "[CV 2/7] END .............model__alpha=5.0;, score=-21173.387 total time=   0.9s\n",
      "[CV 3/7] END .............model__alpha=5.0;, score=-20077.884 total time=   1.3s\n",
      "[CV 4/7] END .............model__alpha=5.0;, score=-20243.783 total time=   2.0s\n",
      "[CV 5/7] END .............model__alpha=5.0;, score=-20288.250 total time=   2.0s\n",
      "[CV 6/7] END .............model__alpha=5.0;, score=-21333.430 total time=   1.7s\n",
      "[CV 7/7] END .............model__alpha=5.0;, score=-22327.808 total time=   1.5s\n",
      "[CV 1/7] END .............model__alpha=5.1;, score=-21376.382 total time=   1.7s\n",
      "[CV 2/7] END .............model__alpha=5.1;, score=-21215.900 total time=   1.4s\n",
      "[CV 3/7] END .............model__alpha=5.1;, score=-20113.234 total time=   0.7s\n",
      "[CV 4/7] END .............model__alpha=5.1;, score=-20278.024 total time=   2.2s\n",
      "[CV 5/7] END .............model__alpha=5.1;, score=-20327.553 total time=   1.8s\n",
      "[CV 6/7] END .............model__alpha=5.1;, score=-21377.662 total time=   2.0s\n",
      "[CV 7/7] END .............model__alpha=5.1;, score=-22363.939 total time=   1.8s\n",
      "[CV 1/7] END .............model__alpha=5.2;, score=-21413.911 total time=   1.9s\n",
      "[CV 2/7] END .............model__alpha=5.2;, score=-21259.167 total time=   1.7s\n",
      "[CV 3/7] END .............model__alpha=5.2;, score=-20149.385 total time=   0.7s\n",
      "[CV 4/7] END .............model__alpha=5.2;, score=-20313.238 total time=   2.3s\n",
      "[CV 5/7] END .............model__alpha=5.2;, score=-20366.030 total time=   1.4s\n",
      "[CV 6/7] END .............model__alpha=5.2;, score=-21422.685 total time=   2.1s\n",
      "[CV 7/7] END .............model__alpha=5.2;, score=-22400.809 total time=   2.0s\n",
      "[CV 1/7] END .............model__alpha=5.3;, score=-21452.162 total time=   2.1s\n",
      "[CV 2/7] END .............model__alpha=5.3;, score=-21303.193 total time=   1.9s\n",
      "[CV 3/7] END .............model__alpha=5.3;, score=-20186.864 total time=   1.0s\n",
      "[CV 4/7] END .............model__alpha=5.3;, score=-20349.901 total time=   2.4s\n",
      "[CV 5/7] END .............model__alpha=5.3;, score=-20405.178 total time=   0.9s\n",
      "[CV 6/7] END .............model__alpha=5.3;, score=-21467.786 total time=   2.2s\n",
      "[CV 7/7] END .............model__alpha=5.3;, score=-22437.982 total time=   2.2s\n",
      "[CV 1/7] END .............model__alpha=5.4;, score=-21491.127 total time=   2.2s\n",
      "[CV 2/7] END .............model__alpha=5.4;, score=-21347.974 total time=   2.1s\n",
      "[CV 3/7] END .............model__alpha=5.4;, score=-20225.290 total time=   1.5s\n",
      "[CV 4/7] END .............model__alpha=5.4;, score=-20387.481 total time=   2.5s\n",
      "[CV 5/7] END .............model__alpha=5.4;, score=-20445.061 total time=   0.8s\n",
      "[CV 6/7] END .............model__alpha=5.4;, score=-21510.689 total time=   2.3s\n",
      "[CV 7/7] END .............model__alpha=5.4;, score=-22476.729 total time=   2.4s\n",
      "[CV 1/7] END .............model__alpha=5.5;, score=-21530.818 total time=   2.4s\n",
      "[CV 2/7] END .............model__alpha=5.5;, score=-21393.514 total time=   2.2s\n",
      "[CV 3/7] END .............model__alpha=5.5;, score=-20264.514 total time=   1.8s\n",
      "[CV 4/7] END .............model__alpha=5.5;, score=-20425.897 total time=   2.6s\n",
      "[CV 5/7] END .............model__alpha=5.5;, score=-20485.798 total time=   0.8s\n",
      "[CV 6/7] END .............model__alpha=5.5;, score=-21545.990 total time=   2.2s\n",
      "[CV 7/7] END .............model__alpha=5.5;, score=-22513.627 total time=   2.3s\n",
      "[CV 1/7] END .............model__alpha=5.6;, score=-21571.441 total time=   2.5s\n",
      "[CV 2/7] END .............model__alpha=5.6;, score=-21436.539 total time=   2.2s\n",
      "[CV 3/7] END .............model__alpha=5.6;, score=-20304.155 total time=   2.0s\n",
      "[CV 4/7] END .............model__alpha=5.6;, score=-20464.007 total time=   2.6s\n",
      "[CV 5/7] END .............model__alpha=5.6;, score=-20527.351 total time=   1.3s\n",
      "[CV 6/7] END .............model__alpha=5.6;, score=-21579.703 total time=   2.2s\n",
      "[CV 7/7] END .............model__alpha=5.6;, score=-22545.332 total time=   2.3s\n",
      "[CV 1/7] END .............model__alpha=5.7;, score=-21604.411 total time=   2.4s\n",
      "[CV 2/7] END .............model__alpha=5.7;, score=-21472.752 total time=   2.2s\n",
      "[CV 3/7] END .............model__alpha=5.7;, score=-20340.410 total time=   2.0s\n",
      "[CV 4/7] END .............model__alpha=5.7;, score=-20493.152 total time=   2.5s\n",
      "[CV 5/7] END .............model__alpha=5.7;, score=-20567.415 total time=   1.5s\n",
      "[CV 6/7] END .............model__alpha=5.7;, score=-21613.993 total time=   2.3s\n",
      "[CV 7/7] END .............model__alpha=5.7;, score=-22577.683 total time=   2.3s\n",
      "[CV 1/7] END .............model__alpha=5.8;, score=-21636.516 total time=   2.4s\n",
      "[CV 2/7] END .............model__alpha=5.8;, score=-21509.544 total time=   2.2s\n",
      "[CV 3/7] END .............model__alpha=5.8;, score=-20373.851 total time=   2.0s\n",
      "[CV 4/7] END .............model__alpha=5.8;, score=-20522.750 total time=   2.4s\n",
      "[CV 5/7] END .............model__alpha=5.8;, score=-20603.347 total time=   1.5s\n",
      "[CV 6/7] END .............model__alpha=5.8;, score=-21649.206 total time=   2.3s\n",
      "[CV 7/7] END .............model__alpha=5.8;, score=-22610.682 total time=   2.3s\n",
      "[CV 1/7] END .............model__alpha=5.9;, score=-21667.115 total time=   2.4s\n",
      "[CV 2/7] END .............model__alpha=5.9;, score=-21544.921 total time=   2.2s\n",
      "[CV 3/7] END .............model__alpha=5.9;, score=-20407.923 total time=   2.0s\n",
      "[CV 4/7] END .............model__alpha=5.9;, score=-20552.035 total time=   2.0s\n",
      "[CV 5/7] END .............model__alpha=5.9;, score=-20637.713 total time=   1.6s\n",
      "[CV 6/7] END .............model__alpha=5.9;, score=-21685.054 total time=   2.3s\n",
      "[CV 7/7] END .............model__alpha=5.9;, score=-22642.844 total time=   2.4s\n",
      "[CV 1/7] END .............model__alpha=6.0;, score=-21698.246 total time=   2.4s\n",
      "[CV 2/7] END .............model__alpha=6.0;, score=-21579.844 total time=   2.3s\n",
      "[CV 3/7] END .............model__alpha=6.0;, score=-20440.887 total time=   2.1s\n",
      "[CV 4/7] END .............model__alpha=6.0;, score=-20579.907 total time=   1.8s\n",
      "[CV 5/7] END .............model__alpha=6.0;, score=-20671.796 total time=   1.7s\n",
      "[CV 6/7] END .............model__alpha=6.0;, score=-21721.261 total time=   2.4s\n",
      "[CV 7/7] END .............model__alpha=6.0;, score=-22671.398 total time=   2.4s\n",
      "[CV 1/7] END .............model__alpha=6.1;, score=-21729.910 total time=   2.4s\n",
      "[CV 2/7] END .............model__alpha=6.1;, score=-21615.306 total time=   2.3s\n",
      "[CV 3/7] END .............model__alpha=6.1;, score=-20471.574 total time=   2.1s\n",
      "[CV 4/7] END .............model__alpha=6.1;, score=-20607.354 total time=   1.7s\n",
      "[CV 5/7] END .............model__alpha=6.1;, score=-20706.250 total time=   1.7s\n",
      "[CV 6/7] END .............model__alpha=6.1;, score=-21757.723 total time=   2.4s\n",
      "[CV 7/7] END .............model__alpha=6.1;, score=-22700.519 total time=   2.4s\n",
      "[CV 1/7] END .............model__alpha=6.2;, score=-21761.128 total time=   2.4s\n",
      "[CV 2/7] END .............model__alpha=6.2;, score=-21650.571 total time=   2.4s\n",
      "[CV 3/7] END .............model__alpha=6.2;, score=-20502.484 total time=   2.1s\n",
      "[CV 4/7] END .............model__alpha=6.2;, score=-20635.359 total time=   1.5s\n",
      "[CV 5/7] END .............model__alpha=6.2;, score=-20738.153 total time=   1.7s\n",
      "[CV 6/7] END .............model__alpha=6.2;, score=-21794.309 total time=   2.4s\n",
      "[CV 7/7] END .............model__alpha=6.2;, score=-22730.203 total time=   2.4s\n",
      "[CV 1/7] END .............model__alpha=6.3;, score=-21792.101 total time=   2.4s\n",
      "[CV 2/7] END .............model__alpha=6.3;, score=-21685.395 total time=   2.3s\n",
      "[CV 3/7] END .............model__alpha=6.3;, score=-20533.186 total time=   2.1s\n",
      "[CV 4/7] END .............model__alpha=6.3;, score=-20663.885 total time=   1.3s\n",
      "[CV 5/7] END .............model__alpha=6.3;, score=-20770.391 total time=   1.8s\n",
      "[CV 6/7] END .............model__alpha=6.3;, score=-21829.683 total time=   2.4s\n",
      "[CV 7/7] END .............model__alpha=6.3;, score=-22760.451 total time=   2.5s\n",
      "[CV 1/7] END .............model__alpha=6.4;, score=-21823.000 total time=   2.5s\n",
      "[CV 2/7] END .............model__alpha=6.4;, score=-21720.737 total time=   2.4s\n",
      "[CV 3/7] END .............model__alpha=6.4;, score=-20563.679 total time=   2.2s\n",
      "[CV 4/7] END .............model__alpha=6.4;, score=-20692.023 total time=   1.3s\n",
      "[CV 5/7] END .............model__alpha=6.4;, score=-20803.132 total time=   1.8s\n",
      "[CV 6/7] END .............model__alpha=6.4;, score=-21865.177 total time=   2.4s\n",
      "[CV 7/7] END .............model__alpha=6.4;, score=-22791.263 total time=   2.5s\n",
      "[CV 1/7] END .............model__alpha=6.5;, score=-21853.579 total time=   2.0s\n",
      "[CV 2/7] END .............model__alpha=6.5;, score=-21756.130 total time=   2.2s\n",
      "[CV 3/7] END .............model__alpha=6.5;, score=-20594.435 total time=   2.2s\n",
      "[CV 4/7] END .............model__alpha=6.5;, score=-20720.079 total time=   1.2s\n",
      "[CV 5/7] END .............model__alpha=6.5;, score=-20836.313 total time=   1.8s\n",
      "[CV 6/7] END .............model__alpha=6.5;, score=-21899.541 total time=   2.2s\n",
      "[CV 7/7] END .............model__alpha=6.5;, score=-22822.124 total time=   2.1s\n",
      "[CV 1/7] END .............model__alpha=6.6;, score=-21884.474 total time=   1.7s\n",
      "[CV 2/7] END .............model__alpha=6.6;, score=-21791.720 total time=   1.7s\n",
      "[CV 3/7] END .............model__alpha=6.6;, score=-20625.687 total time=   2.3s\n",
      "[CV 4/7] END .............model__alpha=6.6;, score=-20748.421 total time=   1.1s\n",
      "[CV 5/7] END .............model__alpha=6.6;, score=-20869.409 total time=   1.9s\n",
      "[CV 6/7] END .............model__alpha=6.6;, score=-21933.937 total time=   1.8s\n",
      "[CV 7/7] END .............model__alpha=6.6;, score=-22852.986 total time=   1.8s\n",
      "[CV 1/7] END .............model__alpha=6.7;, score=-21915.853 total time=   1.5s\n",
      "[CV 2/7] END .............model__alpha=6.7;, score=-21827.316 total time=   1.5s\n",
      "[CV 3/7] END .............model__alpha=6.7;, score=-20657.762 total time=   2.3s\n",
      "[CV 4/7] END .............model__alpha=6.7;, score=-20777.262 total time=   1.1s\n",
      "[CV 5/7] END .............model__alpha=6.7;, score=-20901.303 total time=   1.9s\n",
      "[CV 6/7] END .............model__alpha=6.7;, score=-21968.819 total time=   1.6s\n",
      "[CV 7/7] END .............model__alpha=6.7;, score=-22883.749 total time=   1.6s\n",
      "[CV 1/7] END .............model__alpha=6.8;, score=-21947.711 total time=   1.4s\n",
      "[CV 2/7] END .............model__alpha=6.8;, score=-21863.298 total time=   1.4s\n",
      "[CV 3/7] END .............model__alpha=6.8;, score=-20689.890 total time=   1.9s\n",
      "[CV 4/7] END .............model__alpha=6.8;, score=-20805.038 total time=   1.0s\n",
      "[CV 5/7] END .............model__alpha=6.8;, score=-20932.936 total time=   2.1s\n",
      "[CV 6/7] END .............model__alpha=6.8;, score=-22004.193 total time=   1.4s\n",
      "[CV 7/7] END .............model__alpha=6.8;, score=-22913.214 total time=   1.4s\n",
      "[CV 1/7] END .............model__alpha=6.9;, score=-21980.057 total time=   1.3s\n",
      "[CV 2/7] END .............model__alpha=6.9;, score=-21899.735 total time=   1.3s\n",
      "[CV 3/7] END .............model__alpha=6.9;, score=-20722.448 total time=   1.6s\n",
      "[CV 4/7] END .............model__alpha=6.9;, score=-20832.106 total time=   1.0s\n",
      "[CV 5/7] END .............model__alpha=6.9;, score=-20965.036 total time=   2.0s\n",
      "[CV 6/7] END .............model__alpha=6.9;, score=-22040.032 total time=   1.3s\n",
      "[CV 7/7] END .............model__alpha=6.9;, score=-22942.280 total time=   1.3s\n",
      "[CV 1/7] END .............model__alpha=7.0;, score=-22012.702 total time=   1.2s\n",
      "[CV 2/7] END .............model__alpha=7.0;, score=-21934.201 total time=   1.2s\n",
      "[CV 3/7] END .............model__alpha=7.0;, score=-20755.496 total time=   1.4s\n",
      "[CV 4/7] END .............model__alpha=7.0;, score=-20859.608 total time=   1.0s\n",
      "[CV 5/7] END .............model__alpha=7.0;, score=-20997.605 total time=   2.1s\n",
      "[CV 6/7] END .............model__alpha=7.0;, score=-22076.348 total time=   1.2s\n",
      "[CV 7/7] END .............model__alpha=7.0;, score=-22971.807 total time=   1.2s\n",
      "[CV 1/7] END .............model__alpha=7.1;, score=-22044.664 total time=   1.2s\n",
      "[CV 2/7] END .............model__alpha=7.1;, score=-21969.113 total time=   1.1s\n",
      "[CV 3/7] END .............model__alpha=7.1;, score=-20789.022 total time=   1.3s\n",
      "[CV 4/7] END .............model__alpha=7.1;, score=-20887.588 total time=   0.9s\n",
      "[CV 5/7] END .............model__alpha=7.1;, score=-21030.640 total time=   2.1s\n",
      "[CV 6/7] END .............model__alpha=7.1;, score=-22112.721 total time=   1.2s\n",
      "[CV 7/7] END .............model__alpha=7.1;, score=-23001.783 total time=   1.2s\n",
      "[CV 1/7] END .............model__alpha=7.2;, score=-22077.100 total time=   1.1s\n",
      "[CV 2/7] END .............model__alpha=7.2;, score=-22004.693 total time=   1.0s\n",
      "[CV 3/7] END .............model__alpha=7.2;, score=-20823.043 total time=   1.2s\n",
      "[CV 4/7] END .............model__alpha=7.2;, score=-20916.026 total time=   0.9s\n",
      "[CV 5/7] END .............model__alpha=7.2;, score=-21064.141 total time=   2.2s\n",
      "[CV 6/7] END .............model__alpha=7.2;, score=-22147.948 total time=   1.1s\n",
      "[CV 7/7] END .............model__alpha=7.2;, score=-23032.225 total time=   1.1s\n",
      "[CV 1/7] END .............model__alpha=7.3;, score=-22109.987 total time=   1.1s\n",
      "[CV 2/7] END .............model__alpha=7.3;, score=-22040.784 total time=   1.0s\n",
      "[CV 3/7] END .............model__alpha=7.3;, score=-20857.555 total time=   1.1s\n",
      "[CV 4/7] END .............model__alpha=7.3;, score=-20944.937 total time=   0.9s\n",
      "[CV 5/7] END .............model__alpha=7.3;, score=-21098.110 total time=   2.2s\n",
      "[CV 6/7] END .............model__alpha=7.3;, score=-22183.624 total time=   1.0s\n",
      "[CV 7/7] END .............model__alpha=7.3;, score=-23063.391 total time=   1.1s\n",
      "[CV 1/7] END .............model__alpha=7.4;, score=-22143.322 total time=   1.0s\n",
      "[CV 2/7] END .............model__alpha=7.4;, score=-22077.338 total time=   0.9s\n",
      "[CV 3/7] END .............model__alpha=7.4;, score=-20892.458 total time=   1.0s\n",
      "[CV 4/7] END .............model__alpha=7.4;, score=-20974.300 total time=   0.8s\n",
      "[CV 5/7] END .............model__alpha=7.4;, score=-21132.338 total time=   1.8s\n",
      "[CV 6/7] END .............model__alpha=7.4;, score=-22219.455 total time=   1.0s\n",
      "[CV 7/7] END .............model__alpha=7.4;, score=-23095.023 total time=   1.0s\n",
      "[CV 1/7] END .............model__alpha=7.5;, score=-22177.065 total time=   1.0s\n",
      "[CV 2/7] END .............model__alpha=7.5;, score=-22113.344 total time=   0.9s\n",
      "[CV 3/7] END .............model__alpha=7.5;, score=-20927.067 total time=   1.0s\n",
      "[CV 4/7] END .............model__alpha=7.5;, score=-21004.151 total time=   0.8s\n",
      "[CV 5/7] END .............model__alpha=7.5;, score=-21167.060 total time=   1.5s\n",
      "[CV 6/7] END .............model__alpha=7.5;, score=-22255.402 total time=   1.0s\n",
      "[CV 7/7] END .............model__alpha=7.5;, score=-23127.120 total time=   1.1s\n",
      "[CV 1/7] END .............model__alpha=7.6;, score=-22210.836 total time=   1.0s\n",
      "[CV 2/7] END .............model__alpha=7.6;, score=-22149.683 total time=   0.9s\n",
      "[CV 3/7] END .............model__alpha=7.6;, score=-20962.147 total time=   0.9s\n",
      "[CV 4/7] END .............model__alpha=7.6;, score=-21034.067 total time=   0.8s\n",
      "[CV 5/7] END .............model__alpha=7.6;, score=-21202.236 total time=   1.3s\n",
      "[CV 6/7] END .............model__alpha=7.6;, score=-22292.153 total time=   0.9s\n",
      "[CV 7/7] END .............model__alpha=7.6;, score=-23159.667 total time=   1.0s\n",
      "[CV 1/7] END .............model__alpha=7.7;, score=-22245.055 total time=   0.9s\n",
      "[CV 2/7] END .............model__alpha=7.7;, score=-22186.445 total time=   0.8s\n",
      "[CV 3/7] END .............model__alpha=7.7;, score=-20997.692 total time=   0.9s\n",
      "[CV 4/7] END .............model__alpha=7.7;, score=-21063.302 total time=   0.8s\n",
      "[CV 5/7] END .............model__alpha=7.7;, score=-21237.874 total time=   1.2s\n",
      "[CV 6/7] END .............model__alpha=7.7;, score=-22329.367 total time=   0.9s\n",
      "[CV 7/7] END .............model__alpha=7.7;, score=-23192.685 total time=   0.9s\n",
      "[CV 1/7] END .............model__alpha=7.8;, score=-22279.721 total time=   0.9s\n",
      "[CV 2/7] END .............model__alpha=7.8;, score=-22223.778 total time=   0.8s\n",
      "[CV 3/7] END .............model__alpha=7.8;, score=-21030.317 total time=   0.8s\n",
      "[CV 4/7] END .............model__alpha=7.8;, score=-21092.983 total time=   0.7s\n",
      "[CV 5/7] END .............model__alpha=7.8;, score=-21273.972 total time=   1.1s\n",
      "[CV 6/7] END .............model__alpha=7.8;, score=-22367.028 total time=   0.8s\n",
      "[CV 7/7] END .............model__alpha=7.8;, score=-23226.172 total time=   0.9s\n",
      "[CV 1/7] END .............model__alpha=7.9;, score=-22314.831 total time=   0.9s\n",
      "[CV 2/7] END .............model__alpha=7.9;, score=-22261.404 total time=   0.8s\n",
      "[CV 3/7] END .............model__alpha=7.9;, score=-21062.678 total time=   0.8s\n",
      "[CV 4/7] END .............model__alpha=7.9;, score=-21123.126 total time=   0.7s\n",
      "[CV 5/7] END .............model__alpha=7.9;, score=-21310.445 total time=   1.1s\n",
      "[CV 6/7] END .............model__alpha=7.9;, score=-22404.540 total time=   0.8s\n",
      "[CV 7/7] END .............model__alpha=7.9;, score=-23259.181 total time=   0.9s\n",
      "[CV 1/7] END .............model__alpha=8.0;, score=-22350.394 total time=   0.8s\n",
      "[CV 2/7] END .............model__alpha=8.0;, score=-22299.176 total time=   0.8s\n",
      "[CV 3/7] END .............model__alpha=8.0;, score=-21094.391 total time=   0.8s\n",
      "[CV 4/7] END .............model__alpha=8.0;, score=-21153.876 total time=   0.7s\n",
      "[CV 5/7] END .............model__alpha=8.0;, score=-21346.504 total time=   1.0s\n",
      "[CV 6/7] END .............model__alpha=8.0;, score=-22438.677 total time=   0.8s\n",
      "[CV 7/7] END .............model__alpha=8.0;, score=-23292.408 total time=   0.8s\n",
      "[CV 1/7] END .............model__alpha=8.1;, score=-22386.410 total time=   0.8s\n",
      "[CV 2/7] END .............model__alpha=8.1;, score=-22337.384 total time=   0.7s\n",
      "[CV 3/7] END .............model__alpha=8.1;, score=-21126.161 total time=   0.7s\n",
      "[CV 4/7] END .............model__alpha=8.1;, score=-21183.022 total time=   0.6s\n",
      "[CV 5/7] END .............model__alpha=8.1;, score=-21379.617 total time=   0.9s\n",
      "[CV 6/7] END .............model__alpha=8.1;, score=-22473.005 total time=   0.7s\n",
      "[CV 7/7] END .............model__alpha=8.1;, score=-23326.087 total time=   0.8s\n",
      "[CV 1/7] END .............model__alpha=8.2;, score=-22422.876 total time=   0.8s\n",
      "[CV 2/7] END .............model__alpha=8.2;, score=-22375.658 total time=   0.7s\n",
      "[CV 3/7] END .............model__alpha=8.2;, score=-21158.341 total time=   0.7s\n",
      "[CV 4/7] END .............model__alpha=8.2;, score=-21211.207 total time=   0.6s\n",
      "[CV 5/7] END .............model__alpha=8.2;, score=-21413.138 total time=   0.9s\n",
      "[CV 6/7] END .............model__alpha=8.2;, score=-22507.659 total time=   0.7s\n",
      "[CV 7/7] END .............model__alpha=8.2;, score=-23360.204 total time=   0.8s\n",
      "[CV 1/7] END .............model__alpha=8.3;, score=-22458.798 total time=   0.8s\n",
      "[CV 2/7] END .............model__alpha=8.3;, score=-22411.924 total time=   0.7s\n",
      "[CV 3/7] END .............model__alpha=8.3;, score=-21190.924 total time=   0.7s\n",
      "[CV 4/7] END .............model__alpha=8.3;, score=-21239.745 total time=   0.6s\n",
      "[CV 5/7] END .............model__alpha=8.3;, score=-21446.964 total time=   0.8s\n",
      "[CV 6/7] END .............model__alpha=8.3;, score=-22542.703 total time=   0.7s\n",
      "[CV 7/7] END .............model__alpha=8.3;, score=-23395.102 total time=   0.8s\n",
      "[CV 1/7] END .............model__alpha=8.4;, score=-22493.844 total time=   0.7s\n",
      "[CV 2/7] END .............model__alpha=8.4;, score=-22448.482 total time=   0.7s\n",
      "[CV 3/7] END .............model__alpha=8.4;, score=-21223.893 total time=   0.6s\n",
      "[CV 4/7] END .............model__alpha=8.4;, score=-21268.699 total time=   0.6s\n",
      "[CV 5/7] END .............model__alpha=8.4;, score=-21481.156 total time=   0.8s\n",
      "[CV 6/7] END .............model__alpha=8.4;, score=-22578.145 total time=   0.7s\n",
      "[CV 7/7] END .............model__alpha=8.4;, score=-23430.151 total time=   0.8s\n",
      "[CV 1/7] END .............model__alpha=8.5;, score=-22527.728 total time=   0.7s\n",
      "[CV 2/7] END .............model__alpha=8.5;, score=-22484.558 total time=   0.7s\n",
      "[CV 3/7] END .............model__alpha=8.5;, score=-21257.021 total time=   0.6s\n",
      "[CV 4/7] END .............model__alpha=8.5;, score=-21298.047 total time=   0.6s\n",
      "[CV 5/7] END .............model__alpha=8.5;, score=-21514.465 total time=   0.7s\n",
      "[CV 6/7] END .............model__alpha=8.5;, score=-22613.983 total time=   0.7s\n",
      "[CV 7/7] END .............model__alpha=8.5;, score=-23463.408 total time=   0.7s\n",
      "[CV 1/7] END .............model__alpha=8.6;, score=-22561.250 total time=   0.7s\n",
      "[CV 2/7] END .............model__alpha=8.6;, score=-22521.008 total time=   0.7s\n",
      "[CV 3/7] END .............model__alpha=8.6;, score=-21289.372 total time=   0.6s\n",
      "[CV 4/7] END .............model__alpha=8.6;, score=-21327.801 total time=   0.6s\n",
      "[CV 5/7] END .............model__alpha=8.6;, score=-21547.998 total time=   0.7s\n",
      "[CV 6/7] END .............model__alpha=8.6;, score=-22650.211 total time=   0.7s\n",
      "[CV 7/7] END .............model__alpha=8.6;, score=-23497.056 total time=   0.7s\n",
      "[CV 1/7] END .............model__alpha=8.7;, score=-22594.943 total time=   0.7s\n",
      "[CV 2/7] END .............model__alpha=8.7;, score=-22557.813 total time=   0.6s\n",
      "[CV 3/7] END .............model__alpha=8.7;, score=-21321.171 total time=   0.6s\n",
      "[CV 4/7] END .............model__alpha=8.7;, score=-21357.991 total time=   0.7s\n",
      "[CV 5/7] END .............model__alpha=8.7;, score=-21581.466 total time=   0.6s\n",
      "[CV 6/7] END .............model__alpha=8.7;, score=-22685.149 total time=   0.7s\n",
      "[CV 7/7] END .............model__alpha=8.7;, score=-23530.438 total time=   0.7s\n",
      "[CV 1/7] END .............model__alpha=8.8;, score=-22627.827 total time=   0.6s\n",
      "[CV 2/7] END .............model__alpha=8.8;, score=-22594.976 total time=   0.6s\n",
      "[CV 3/7] END .............model__alpha=8.8;, score=-21353.033 total time=   0.6s\n",
      "[CV 4/7] END .............model__alpha=8.8;, score=-21388.700 total time=   0.7s\n",
      "[CV 5/7] END .............model__alpha=8.8;, score=-21613.157 total time=   0.6s\n",
      "[CV 6/7] END .............model__alpha=8.8;, score=-22718.514 total time=   0.7s\n",
      "[CV 7/7] END .............model__alpha=8.8;, score=-23563.945 total time=   0.7s\n",
      "[CV 1/7] END .............model__alpha=8.9;, score=-22658.635 total time=   0.7s\n",
      "[CV 2/7] END .............model__alpha=8.9;, score=-22630.281 total time=   0.7s\n",
      "[CV 3/7] END .............model__alpha=8.9;, score=-21382.401 total time=   0.6s\n",
      "[CV 4/7] END .............model__alpha=8.9;, score=-21419.820 total time=   0.7s\n",
      "[CV 5/7] END .............model__alpha=8.9;, score=-21645.169 total time=   0.6s\n",
      "[CV 6/7] END .............model__alpha=8.9;, score=-22751.275 total time=   0.7s\n",
      "[CV 7/7] END .............model__alpha=8.9;, score=-23597.835 total time=   0.7s\n",
      "[CV 1/7] END .............model__alpha=9.0;, score=-22689.873 total time=   0.7s\n",
      "[CV 2/7] END .............model__alpha=9.0;, score=-22663.502 total time=   0.7s\n",
      "[CV 3/7] END .............model__alpha=9.0;, score=-21412.212 total time=   0.7s\n",
      "[CV 4/7] END .............model__alpha=9.0;, score=-21450.682 total time=   0.7s\n",
      "[CV 5/7] END .............model__alpha=9.0;, score=-21677.489 total time=   0.6s\n",
      "[CV 6/7] END .............model__alpha=9.0;, score=-22782.553 total time=   0.7s\n",
      "[CV 7/7] END .............model__alpha=9.0;, score=-23632.091 total time=   0.6s\n",
      "[CV 1/7] END .............model__alpha=9.1;, score=-22721.460 total time=   0.7s\n",
      "[CV 2/7] END .............model__alpha=9.1;, score=-22697.053 total time=   0.7s\n",
      "[CV 3/7] END .............model__alpha=9.1;, score=-21442.382 total time=   0.7s\n",
      "[CV 4/7] END .............model__alpha=9.1;, score=-21481.874 total time=   0.7s\n",
      "[CV 5/7] END .............model__alpha=9.1;, score=-21707.782 total time=   0.6s\n",
      "[CV 6/7] END .............model__alpha=9.1;, score=-22814.130 total time=   0.8s\n",
      "[CV 7/7] END .............model__alpha=9.1;, score=-23665.714 total time=   0.6s\n",
      "[CV 1/7] END .............model__alpha=9.2;, score=-22753.216 total time=   0.6s\n",
      "[CV 2/7] END .............model__alpha=9.2;, score=-22730.965 total time=   0.7s\n",
      "[CV 3/7] END .............model__alpha=9.2;, score=-21472.907 total time=   0.7s\n",
      "[CV 4/7] END .............model__alpha=9.2;, score=-21513.464 total time=   0.7s\n",
      "[CV 5/7] END .............model__alpha=9.2;, score=-21738.280 total time=   0.7s\n",
      "[CV 6/7] END .............model__alpha=9.2;, score=-22846.043 total time=   0.8s\n",
      "[CV 7/7] END .............model__alpha=9.2;, score=-23696.220 total time=   0.6s\n",
      "[CV 1/7] END .............model__alpha=9.3;, score=-22784.760 total time=   0.6s\n",
      "[CV 2/7] END .............model__alpha=9.3;, score=-22765.209 total time=   0.8s\n",
      "[CV 3/7] END .............model__alpha=9.3;, score=-21503.779 total time=   0.7s\n",
      "[CV 4/7] END .............model__alpha=9.3;, score=-21543.613 total time=   0.8s\n",
      "[CV 5/7] END .............model__alpha=9.3;, score=-21769.365 total time=   0.7s\n",
      "[CV 6/7] END .............model__alpha=9.3;, score=-22878.404 total time=   0.8s\n",
      "[CV 7/7] END .............model__alpha=9.3;, score=-23726.913 total time=   0.6s\n",
      "[CV 1/7] END .............model__alpha=9.4;, score=-22816.621 total time=   0.6s\n",
      "[CV 2/7] END .............model__alpha=9.4;, score=-22799.806 total time=   0.8s\n",
      "[CV 3/7] END .............model__alpha=9.4;, score=-21534.990 total time=   0.7s\n",
      "[CV 4/7] END .............model__alpha=9.4;, score=-21572.345 total time=   0.8s\n",
      "[CV 5/7] END .............model__alpha=9.4;, score=-21800.842 total time=   0.7s\n",
      "[CV 6/7] END .............model__alpha=9.4;, score=-22911.181 total time=   0.8s\n",
      "[CV 7/7] END .............model__alpha=9.4;, score=-23758.072 total time=   0.7s\n",
      "[CV 1/7] END .............model__alpha=9.5;, score=-22848.939 total time=   0.6s\n",
      "[CV 2/7] END .............model__alpha=9.5;, score=-22834.726 total time=   0.8s\n",
      "[CV 3/7] END .............model__alpha=9.5;, score=-21566.558 total time=   0.8s\n",
      "[CV 4/7] END .............model__alpha=9.5;, score=-21601.432 total time=   0.8s\n",
      "[CV 5/7] END .............model__alpha=9.5;, score=-21832.649 total time=   0.7s\n",
      "[CV 6/7] END .............model__alpha=9.5;, score=-22942.778 total time=   0.9s\n",
      "[CV 7/7] END .............model__alpha=9.5;, score=-23789.570 total time=   0.7s\n",
      "[CV 1/7] END .............model__alpha=9.6;, score=-22881.656 total time=   0.7s\n",
      "[CV 2/7] END .............model__alpha=9.6;, score=-22869.994 total time=   0.8s\n",
      "[CV 3/7] END .............model__alpha=9.6;, score=-21598.481 total time=   0.8s\n",
      "[CV 4/7] END .............model__alpha=9.6;, score=-21630.846 total time=   0.8s\n",
      "[CV 5/7] END .............model__alpha=9.6;, score=-21864.801 total time=   0.8s\n",
      "[CV 6/7] END .............model__alpha=9.6;, score=-22973.528 total time=   0.9s\n",
      "[CV 7/7] END .............model__alpha=9.6;, score=-23821.408 total time=   0.7s\n",
      "[CV 1/7] END model__alpha=9.700000000000001;, score=-22914.696 total time=   0.7s\n",
      "[CV 2/7] END model__alpha=9.700000000000001;, score=-22902.233 total time=   0.8s\n",
      "[CV 3/7] END model__alpha=9.700000000000001;, score=-21630.681 total time=   0.8s\n",
      "[CV 4/7] END model__alpha=9.700000000000001;, score=-21660.614 total time=   0.8s\n",
      "[CV 5/7] END model__alpha=9.700000000000001;, score=-21897.296 total time=   0.8s\n",
      "[CV 6/7] END model__alpha=9.700000000000001;, score=-23004.565 total time=   0.9s\n",
      "[CV 7/7] END model__alpha=9.700000000000001;, score=-23852.950 total time=   0.7s\n",
      "[CV 1/7] END .............model__alpha=9.8;, score=-22948.112 total time=   0.7s\n",
      "[CV 2/7] END .............model__alpha=9.8;, score=-22933.757 total time=   0.8s\n",
      "[CV 3/7] END .............model__alpha=9.8;, score=-21662.458 total time=   0.8s\n",
      "[CV 4/7] END .............model__alpha=9.8;, score=-21688.368 total time=   0.8s\n",
      "[CV 5/7] END .............model__alpha=9.8;, score=-21930.108 total time=   0.8s\n",
      "[CV 6/7] END .............model__alpha=9.8;, score=-23031.641 total time=   0.9s\n",
      "[CV 7/7] END .............model__alpha=9.8;, score=-23881.450 total time=   0.8s\n",
      "[CV 1/7] END .............model__alpha=9.9;, score=-22981.847 total time=   0.7s\n",
      "[CV 2/7] END .............model__alpha=9.9;, score=-22964.000 total time=   0.8s\n",
      "[CV 3/7] END .............model__alpha=9.9;, score=-21692.624 total time=   0.8s\n",
      "[CV 4/7] END .............model__alpha=9.9;, score=-21714.844 total time=   0.9s\n",
      "[CV 5/7] END .............model__alpha=9.9;, score=-21963.259 total time=   0.8s\n",
      "[CV 6/7] END .............model__alpha=9.9;, score=-23058.888 total time=   0.9s\n",
      "[CV 7/7] END .............model__alpha=9.9;, score=-23910.263 total time=   0.8s\n"
     ]
    },
    {
     "name": "stderr",
     "output_type": "stream",
     "text": [
      "/Users/mayukha/opt/miniconda3/lib/python3.9/site-packages/sklearn/linear_model/_coordinate_descent.py:647: ConvergenceWarning: Objective did not converge. You might want to increase the number of iterations, check the scale of the features or consider increasing regularisation. Duality gap: 2.193e+06, tolerance: 1.492e+05\n",
      "  model = cd_fast.enet_coordinate_descent(\n"
     ]
    },
    {
     "data": {
      "text/plain": [
       "GridSearchCV(cv=7,\n",
       "             estimator=Pipeline(steps=[('scaler', StandardScaler()),\n",
       "                                       ('model', Lasso())]),\n",
       "             param_grid={'model__alpha': array([0.1, 0.2, 0.3, 0.4, 0.5, 0.6, 0.7, 0.8, 0.9, 1. , 1.1, 1.2, 1.3,\n",
       "       1.4, 1.5, 1.6, 1.7, 1.8, 1.9, 2. , 2.1, 2.2, 2.3, 2.4, 2.5, 2.6,\n",
       "       2.7, 2.8, 2.9, 3. , 3.1, 3.2, 3.3, 3.4, 3.5, 3.6, 3.7, 3.8, 3.9,\n",
       "       4. , 4.1, 4.2, 4.3, 4.4, 4.5, 4.6, 4.7, 4.8, 4.9, 5. , 5.1, 5.2,\n",
       "       5.3, 5.4, 5.5, 5.6, 5.7, 5.8, 5.9, 6. , 6.1, 6.2, 6.3, 6.4, 6.5,\n",
       "       6.6, 6.7, 6.8, 6.9, 7. , 7.1, 7.2, 7.3, 7.4, 7.5, 7.6, 7.7, 7.8,\n",
       "       7.9, 8. , 8.1, 8.2, 8.3, 8.4, 8.5, 8.6, 8.7, 8.8, 8.9, 9. , 9.1,\n",
       "       9.2, 9.3, 9.4, 9.5, 9.6, 9.7, 9.8, 9.9])},\n",
       "             scoring='neg_mean_squared_error', verbose=3)"
      ]
     },
     "execution_count": 8,
     "metadata": {},
     "output_type": "execute_result"
    }
   ],
   "source": [
    "search.fit(train_features,train_labels)"
   ]
  },
  {
   "cell_type": "code",
   "execution_count": 9,
   "id": "e4bd0917-4e9e-456a-8189-d81876dd56f3",
   "metadata": {},
   "outputs": [
    {
     "data": {
      "text/plain": [
       "{'model__alpha': 0.1}"
      ]
     },
     "execution_count": 9,
     "metadata": {},
     "output_type": "execute_result"
    }
   ],
   "source": [
    "search.best_params_"
   ]
  },
  {
   "cell_type": "code",
   "execution_count": 10,
   "id": "c5956585-bb8a-4f48-8425-68d5e4afbc87",
   "metadata": {},
   "outputs": [],
   "source": [
    "coefficients = search.best_estimator_.named_steps['model'].coef_"
   ]
  },
  {
   "cell_type": "code",
   "execution_count": 11,
   "id": "3d825076-1167-4088-bd25-6e888e46d111",
   "metadata": {},
   "outputs": [],
   "source": [
    "importance = np.abs(coefficients)"
   ]
  },
  {
   "cell_type": "code",
   "execution_count": 16,
   "id": "f8dd7857-b368-4669-bebc-bd1f9c3346a6",
   "metadata": {},
   "outputs": [
    {
     "name": "stdout",
     "output_type": "stream",
     "text": [
      "SumPcpn18_20 3.427531297656784\n",
      "SumPcpn19_21 20.745990560583934\n",
      "SumPcpn20_22 4.212364669791497\n",
      "SumPcpn21_23 32.95657958039015\n",
      "SumPcpn22_24 24.404601074961988\n",
      "SumPcpn23_25 0.0\n",
      "SumPcpn24_26 43.355146946382526\n",
      "SumPcpn25_27 27.203380531748703\n",
      "SumPcpn26_28 17.266249282673613\n",
      "SumPcpn27_29 4.180450011158476\n",
      "SumPcpn28_30 23.443357332523725\n",
      "SumPcpn29_31 4.14624412879969\n",
      "SumPcpn30_32 5.163784983581353\n",
      "SumPcpn31_33 0.17307011703104863\n",
      "SumPcpn32_34 24.208063187425847\n",
      "SumPcpn33_35 4.216054930348537\n",
      "SumPcpn34_36 42.55317348454688\n",
      "SumPcpn35_37 26.201947727587413\n",
      "SumPcpn36_38 6.57441922905779\n",
      "SumPcpn37_39 2.08564703104573\n",
      "SumPcpn38_40 2.4701335733726215\n",
      "SumEGDD_C18_20 10.841098357630518\n",
      "SumEGDD_C19_21 121.44624357459612\n",
      "SumEGDD_C20_22 89.88843282863111\n",
      "SumEGDD_C21_23 46.144469171749016\n",
      "SumEGDD_C22_24 50.684037468774804\n",
      "SumEGDD_C23_25 59.3982215797339\n",
      "SumEGDD_C24_26 0.0\n",
      "SumEGDD_C25_27 9.34023397455091\n",
      "SumEGDD_C26_28 22.07926322271535\n",
      "SumEGDD_C27_29 3.390941697624646\n",
      "SumEGDD_C28_30 54.627016263608525\n",
      "SumEGDD_C29_31 13.203604902013671\n",
      "SumEGDD_C30_32 8.766946295687331\n",
      "SumEGDD_C31_33 35.41707435511106\n",
      "SumEGDD_C32_34 23.831166114686496\n",
      "SumEGDD_C33_35 23.742668182962838\n",
      "SumEGDD_C34_36 138.55475294421848\n",
      "SumEGDD_C35_37 88.39595250266734\n",
      "SumEGDD_C36_38 22.430434745530235\n",
      "SumEGDD_C37_39 19.547695941130957\n",
      "SumEGDD_C38_40 34.52088546584985\n",
      "SumHeatD18_20 8.48704316094993\n",
      "SumHeatD19_21 0.0\n",
      "SumHeatD20_22 3.6742770553383943\n",
      "SumHeatD21_23 6.414670290936993\n",
      "SumHeatD22_24 0.029081042786375542\n",
      "SumHeatD23_25 22.52811693592289\n",
      "SumHeatD24_26 3.9822046445933004\n",
      "SumHeatD25_27 28.735983793827486\n",
      "SumHeatD26_28 35.788961639721215\n",
      "SumHeatD27_29 12.057614376192221\n",
      "SumHeatD28_30 14.859012020355076\n",
      "SumHeatD29_31 0.0\n",
      "SumHeatD30_32 8.753405223405254\n",
      "SumHeatD31_33 3.479570625163737\n",
      "SumHeatD32_34 12.935739568658837\n",
      "SumHeatD33_35 31.55434857382267\n",
      "SumHeatD34_36 0.0\n",
      "SumHeatD35_37 0.0\n",
      "SumHeatD36_38 1.9658294252185846\n",
      "SumHeatD37_39 7.511182850067347\n",
      "SumHeatD38_40 15.735514045376869\n",
      "SumFrostD18_20 0.0\n",
      "SumFrostD19_21 0.09276171571876492\n",
      "SumFrostD20_22 19.38930727287991\n",
      "SumFrostD21_23 47.48930157596278\n",
      "SumFrostD22_24 33.93831084106764\n",
      "SumFrostD23_25 9.440648492565439\n",
      "SumFrostD24_26 0.0\n",
      "SumFrostD25_27 2.420589272455549\n",
      "SumFrostD26_28 7.248839324476814\n",
      "SumFrostD27_29 12.131731294500284\n",
      "SumFrostD28_30 5.799608750751244\n",
      "SumFrostD29_31 3.732564155288309\n",
      "SumFrostD30_32 0.6958801010543512\n",
      "SumFrostD31_33 2.99482949823398\n",
      "SumFrostD32_34 5.6184474912673315\n",
      "SumFrostD33_35 6.76381319490064\n",
      "SumFrostD34_36 4.785811468844594\n",
      "SumFrostD35_37 0.0\n",
      "SumFrostD36_38 3.2053900850276857\n",
      "SumFrostD37_39 18.076935841224632\n",
      "SumFrostD38_40 43.14614655114807\n",
      "AvgSI18_20 0.1471386445849045\n",
      "AvgSI19_21 11.653435285484262\n",
      "AvgSI20_22 5.179759982300652\n",
      "AvgSI21_23 30.17716991901575\n",
      "AvgSI22_24 28.387945573598248\n",
      "AvgSI23_25 10.07235125359358\n",
      "AvgSI24_26 0.0\n",
      "AvgSI25_27 1.5987124042903142\n",
      "AvgSI26_28 0.0\n",
      "AvgSI27_29 0.0\n",
      "AvgSI28_30 10.284523931285495\n",
      "AvgSI29_31 0.0\n",
      "AvgSI30_32 3.2424137131889768\n",
      "AvgSI31_33 0.0\n",
      "AvgSI32_34 0.0\n",
      "AvgSI33_35 0.0\n",
      "AvgSI34_36 14.81664777930207\n",
      "AvgSI35_37 25.652305263931307\n",
      "AvgSI36_38 0.0\n",
      "AvgSI37_39 0.0\n",
      "AvgSI38_40 2.8015690513797904\n",
      "AvgPrcnAWHC18_20 71.48861768846189\n",
      "AvgPrcnAWHC19_21 75.23901243367972\n",
      "AvgPrcnAWHC20_22 0.4447516672485539\n",
      "AvgPrcnAWHC21_23 0.0\n",
      "AvgPrcnAWHC22_24 4.535723908858514\n",
      "AvgPrcnAWHC23_25 0.0\n",
      "AvgPrcnAWHC24_26 0.0\n",
      "AvgPrcnAWHC25_27 0.0\n",
      "AvgPrcnAWHC26_28 0.0\n",
      "AvgPrcnAWHC27_29 0.8309104919128938\n",
      "AvgPrcnAWHC28_30 0.0\n",
      "AvgPrcnAWHC29_31 0.0\n",
      "AvgPrcnAWHC30_32 4.543490907039419\n",
      "AvgPrcnAWHC31_33 10.389779245215697\n",
      "AvgPrcnAWHC32_34 0.0\n",
      "AvgPrcnAWHC33_35 30.759852368897853\n",
      "AvgPrcnAWHC34_36 0.0\n",
      "AvgPrcnAWHC35_37 12.558253728917535\n",
      "AvgPrcnAWHC36_38 0.0\n",
      "AvgPrcnAWHC37_39 0.0\n",
      "AvgPrcnAWHC38_40 19.75746041276137\n",
      "NDVI18_20 0.0\n",
      "NDVI19_21 30.3592477081001\n",
      "NDVI20_22 0.0\n",
      "NDVI21_23 0.0\n",
      "NDVI22_24 0.0\n",
      "NDVI23_25 10.646166341332457\n",
      "NDVI24_26 30.840216462134883\n",
      "NDVI25_27 0.0\n",
      "NDVI26_28 18.8327610132623\n",
      "NDVI27_29 0.0\n",
      "NDVI28_30 2.582873696173376\n",
      "NDVI29_31 0.0\n",
      "NDVI30_32 24.896805854898403\n",
      "NDVI31_33 0.0\n",
      "NDVI32_34 74.63598258602664\n",
      "NDVI33_35 0.0\n",
      "NDVI34_36 0.0\n",
      "NDVI35_37 2.872033676853693\n",
      "NDVI36_38 73.43833576808974\n",
      "SoilMoisture23_25 7.900316483240867\n",
      "SoilMoisture24_26 12.849956953601252\n",
      "SoilMoisture25_27 17.256874823606083\n",
      "SoilMoisture26_28 20.563537141185854\n",
      "SoilMoisture27_29 22.326508989651458\n",
      "SoilMoisture28_30 0.0\n",
      "SoilMoisture29_31 10.913631039965034\n",
      "SoilMoisture30_32 4.6292626194691655\n",
      "SoilMoisture31_33 18.33472634196708\n",
      "SoilMoisture32_34 13.297931532330253\n",
      "SoilMoisture33_35 2.373085457470854\n",
      "SoilMoisture34_36 0.0\n",
      "SoilMoisture35_37 16.277773007131795\n",
      "SoilMoisture36_38 0.0\n",
      "SoilMoisture37_39 11.442947529514228\n",
      "SoilMoisture38_40 0.0\n"
     ]
    }
   ],
   "source": [
    "for i in range(0,len(importance)):\n",
    "    print(feature_list[i],importance[i])\n"
   ]
  },
  {
   "cell_type": "markdown",
   "id": "73cfc3ea-303d-4795-ad89-33d4be47f303",
   "metadata": {},
   "source": [
    "**Important Features**"
   ]
  },
  {
   "cell_type": "code",
   "execution_count": 12,
   "id": "852112dd-7d0d-4afa-ada7-76b8f66c3185",
   "metadata": {},
   "outputs": [
    {
     "data": {
      "text/plain": [
       "array(['SumPcpn18_20', 'SumPcpn19_21', 'SumPcpn20_22', 'SumPcpn21_23',\n",
       "       'SumPcpn22_24', 'SumPcpn24_26', 'SumPcpn25_27', 'SumPcpn26_28',\n",
       "       'SumPcpn27_29', 'SumPcpn28_30', 'SumPcpn29_31', 'SumPcpn30_32',\n",
       "       'SumPcpn31_33', 'SumPcpn32_34', 'SumPcpn33_35', 'SumPcpn34_36',\n",
       "       'SumPcpn35_37', 'SumPcpn36_38', 'SumPcpn37_39', 'SumPcpn38_40',\n",
       "       'SumEGDD_C18_20', 'SumEGDD_C19_21', 'SumEGDD_C20_22',\n",
       "       'SumEGDD_C21_23', 'SumEGDD_C22_24', 'SumEGDD_C23_25',\n",
       "       'SumEGDD_C25_27', 'SumEGDD_C26_28', 'SumEGDD_C27_29',\n",
       "       'SumEGDD_C28_30', 'SumEGDD_C29_31', 'SumEGDD_C30_32',\n",
       "       'SumEGDD_C31_33', 'SumEGDD_C32_34', 'SumEGDD_C33_35',\n",
       "       'SumEGDD_C34_36', 'SumEGDD_C35_37', 'SumEGDD_C36_38',\n",
       "       'SumEGDD_C37_39', 'SumEGDD_C38_40', 'SumHeatD18_20',\n",
       "       'SumHeatD20_22', 'SumHeatD21_23', 'SumHeatD22_24', 'SumHeatD23_25',\n",
       "       'SumHeatD24_26', 'SumHeatD25_27', 'SumHeatD26_28', 'SumHeatD27_29',\n",
       "       'SumHeatD28_30', 'SumHeatD30_32', 'SumHeatD31_33', 'SumHeatD32_34',\n",
       "       'SumHeatD33_35', 'SumHeatD36_38', 'SumHeatD37_39', 'SumHeatD38_40',\n",
       "       'SumFrostD19_21', 'SumFrostD20_22', 'SumFrostD21_23',\n",
       "       'SumFrostD22_24', 'SumFrostD23_25', 'SumFrostD25_27',\n",
       "       'SumFrostD26_28', 'SumFrostD27_29', 'SumFrostD28_30',\n",
       "       'SumFrostD29_31', 'SumFrostD30_32', 'SumFrostD31_33',\n",
       "       'SumFrostD32_34', 'SumFrostD33_35', 'SumFrostD34_36',\n",
       "       'SumFrostD36_38', 'SumFrostD37_39', 'SumFrostD38_40', 'AvgSI18_20',\n",
       "       'AvgSI19_21', 'AvgSI20_22', 'AvgSI21_23', 'AvgSI22_24',\n",
       "       'AvgSI23_25', 'AvgSI25_27', 'AvgSI28_30', 'AvgSI30_32',\n",
       "       'AvgSI34_36', 'AvgSI35_37', 'AvgSI38_40', 'AvgPrcnAWHC18_20',\n",
       "       'AvgPrcnAWHC19_21', 'AvgPrcnAWHC20_22', 'AvgPrcnAWHC22_24',\n",
       "       'AvgPrcnAWHC27_29', 'AvgPrcnAWHC30_32', 'AvgPrcnAWHC31_33',\n",
       "       'AvgPrcnAWHC33_35', 'AvgPrcnAWHC35_37', 'AvgPrcnAWHC38_40',\n",
       "       'NDVI19_21', 'NDVI23_25', 'NDVI24_26', 'NDVI26_28', 'NDVI28_30',\n",
       "       'NDVI30_32', 'NDVI32_34', 'NDVI35_37', 'NDVI36_38',\n",
       "       'SoilMoisture23_25', 'SoilMoisture24_26', 'SoilMoisture25_27',\n",
       "       'SoilMoisture26_28', 'SoilMoisture27_29', 'SoilMoisture29_31',\n",
       "       'SoilMoisture30_32', 'SoilMoisture31_33', 'SoilMoisture32_34',\n",
       "       'SoilMoisture33_35', 'SoilMoisture35_37', 'SoilMoisture37_39'],\n",
       "      dtype='<U17')"
      ]
     },
     "execution_count": 12,
     "metadata": {},
     "output_type": "execute_result"
    }
   ],
   "source": [
    "np.array(feature_list)[importance > 0]"
   ]
  },
  {
   "cell_type": "markdown",
   "id": "79ca3d2c-4430-41d4-8d0f-85aef1d7e47f",
   "metadata": {},
   "source": [
    "**Features with zero importance**"
   ]
  },
  {
   "cell_type": "code",
   "execution_count": 13,
   "id": "13bd1436-7263-4856-b52b-993ec7f13412",
   "metadata": {},
   "outputs": [
    {
     "data": {
      "text/plain": [
       "array(['SumPcpn23_25', 'SumEGDD_C24_26', 'SumHeatD19_21', 'SumHeatD29_31',\n",
       "       'SumHeatD34_36', 'SumHeatD35_37', 'SumFrostD18_20',\n",
       "       'SumFrostD24_26', 'SumFrostD35_37', 'AvgSI24_26', 'AvgSI26_28',\n",
       "       'AvgSI27_29', 'AvgSI29_31', 'AvgSI31_33', 'AvgSI32_34',\n",
       "       'AvgSI33_35', 'AvgSI36_38', 'AvgSI37_39', 'AvgPrcnAWHC21_23',\n",
       "       'AvgPrcnAWHC23_25', 'AvgPrcnAWHC24_26', 'AvgPrcnAWHC25_27',\n",
       "       'AvgPrcnAWHC26_28', 'AvgPrcnAWHC28_30', 'AvgPrcnAWHC29_31',\n",
       "       'AvgPrcnAWHC32_34', 'AvgPrcnAWHC34_36', 'AvgPrcnAWHC36_38',\n",
       "       'AvgPrcnAWHC37_39', 'NDVI18_20', 'NDVI20_22', 'NDVI21_23',\n",
       "       'NDVI22_24', 'NDVI25_27', 'NDVI27_29', 'NDVI29_31', 'NDVI31_33',\n",
       "       'NDVI33_35', 'NDVI34_36', 'SoilMoisture28_30', 'SoilMoisture34_36',\n",
       "       'SoilMoisture36_38', 'SoilMoisture38_40'], dtype='<U17')"
      ]
     },
     "execution_count": 13,
     "metadata": {},
     "output_type": "execute_result"
    }
   ],
   "source": [
    "np.array(feature_list)[importance == 0]"
   ]
  },
  {
   "cell_type": "code",
   "execution_count": null,
   "id": "ff5d0ff5-359f-4776-9a34-f7c4978f6acb",
   "metadata": {},
   "outputs": [],
   "source": []
  }
 ],
 "metadata": {
  "kernelspec": {
   "display_name": "Python 3 (ipykernel)",
   "language": "python",
   "name": "python3"
  },
  "language_info": {
   "codemirror_mode": {
    "name": "ipython",
    "version": 3
   },
   "file_extension": ".py",
   "mimetype": "text/x-python",
   "name": "python",
   "nbconvert_exporter": "python",
   "pygments_lexer": "ipython3",
   "version": "3.9.12"
  }
 },
 "nbformat": 4,
 "nbformat_minor": 5
}
