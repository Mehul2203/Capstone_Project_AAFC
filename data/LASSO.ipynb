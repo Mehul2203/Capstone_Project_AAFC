{
 "cells": [
  {
   "cell_type": "markdown",
   "id": "a85c0f8c-63c0-4870-9f7d-3f65aa3ea129",
   "metadata": {},
   "source": [
    "**Loading packages and cleaning**"
   ]
  },
  {
   "cell_type": "code",
   "execution_count": 1,
   "id": "83249cc7-65a6-414a-b399-ea8f4a312930",
   "metadata": {},
   "outputs": [],
   "source": [
    "import pandas as pd\n",
    "import numpy as np\n",
    "from sklearn.model_selection import train_test_split\n",
    "from sklearn.preprocessing import StandardScaler\n",
    "from sklearn.linear_model import Lasso\n",
    "from sklearn.linear_model import LassoCV\n",
    "from sklearn.metrics import mean_squared_error"
   ]
  },
  {
   "cell_type": "code",
   "execution_count": 2,
   "id": "5f4e7b73-e7e6-4613-bcc3-3435c6df0042",
   "metadata": {},
   "outputs": [
    {
     "data": {
      "text/html": [
       "<div>\n",
       "<style scoped>\n",
       "    .dataframe tbody tr th:only-of-type {\n",
       "        vertical-align: middle;\n",
       "    }\n",
       "\n",
       "    .dataframe tbody tr th {\n",
       "        vertical-align: top;\n",
       "    }\n",
       "\n",
       "    .dataframe thead th {\n",
       "        text-align: right;\n",
       "    }\n",
       "</style>\n",
       "<table border=\"1\" class=\"dataframe\">\n",
       "  <thead>\n",
       "    <tr style=\"text-align: right;\">\n",
       "      <th></th>\n",
       "      <th>Unnamed: 0</th>\n",
       "      <th>TWP_ID</th>\n",
       "      <th>ECODISTRICT_ID</th>\n",
       "      <th>YEAR</th>\n",
       "      <th>YieldKgAcre</th>\n",
       "      <th>SumPcpn18_20</th>\n",
       "      <th>SumPcpn19_21</th>\n",
       "      <th>SumPcpn20_22</th>\n",
       "      <th>SumPcpn21_23</th>\n",
       "      <th>SumPcpn22_24</th>\n",
       "      <th>...</th>\n",
       "      <th>SoilMoisture29_31</th>\n",
       "      <th>SoilMoisture30_32</th>\n",
       "      <th>SoilMoisture31_33</th>\n",
       "      <th>SoilMoisture32_34</th>\n",
       "      <th>SoilMoisture33_35</th>\n",
       "      <th>SoilMoisture34_36</th>\n",
       "      <th>SoilMoisture35_37</th>\n",
       "      <th>SoilMoisture36_38</th>\n",
       "      <th>SoilMoisture37_39</th>\n",
       "      <th>SoilMoisture38_40</th>\n",
       "    </tr>\n",
       "  </thead>\n",
       "  <tbody>\n",
       "    <tr>\n",
       "      <th>0</th>\n",
       "      <td>0</td>\n",
       "      <td>00101E1</td>\n",
       "      <td>852.0</td>\n",
       "      <td>2010</td>\n",
       "      <td>867.766846</td>\n",
       "      <td>53.6</td>\n",
       "      <td>111.1</td>\n",
       "      <td>109.7</td>\n",
       "      <td>117.9</td>\n",
       "      <td>46.4</td>\n",
       "      <td>...</td>\n",
       "      <td>16.960125</td>\n",
       "      <td>18.766207</td>\n",
       "      <td>17.186998</td>\n",
       "      <td>15.461519</td>\n",
       "      <td>19.738222</td>\n",
       "      <td>22.958089</td>\n",
       "      <td>27.206203</td>\n",
       "      <td>26.480087</td>\n",
       "      <td>28.678156</td>\n",
       "      <td>26.308484</td>\n",
       "    </tr>\n",
       "    <tr>\n",
       "      <th>1</th>\n",
       "      <td>1</td>\n",
       "      <td>00101W1</td>\n",
       "      <td>852.0</td>\n",
       "      <td>2010</td>\n",
       "      <td>673.685028</td>\n",
       "      <td>57.2</td>\n",
       "      <td>114.7</td>\n",
       "      <td>110.5</td>\n",
       "      <td>114.0</td>\n",
       "      <td>46.2</td>\n",
       "      <td>...</td>\n",
       "      <td>16.328520</td>\n",
       "      <td>17.926029</td>\n",
       "      <td>16.787544</td>\n",
       "      <td>14.779726</td>\n",
       "      <td>20.245149</td>\n",
       "      <td>23.608204</td>\n",
       "      <td>28.560990</td>\n",
       "      <td>27.324254</td>\n",
       "      <td>29.079177</td>\n",
       "      <td>26.927224</td>\n",
       "    </tr>\n",
       "    <tr>\n",
       "      <th>2</th>\n",
       "      <td>2</td>\n",
       "      <td>00101W2</td>\n",
       "      <td>796.0</td>\n",
       "      <td>2010</td>\n",
       "      <td>824.303864</td>\n",
       "      <td>39.0</td>\n",
       "      <td>96.4</td>\n",
       "      <td>109.8</td>\n",
       "      <td>101.2</td>\n",
       "      <td>111.4</td>\n",
       "      <td>...</td>\n",
       "      <td>13.117879</td>\n",
       "      <td>12.869142</td>\n",
       "      <td>12.831834</td>\n",
       "      <td>14.126196</td>\n",
       "      <td>16.385776</td>\n",
       "      <td>18.650751</td>\n",
       "      <td>20.287069</td>\n",
       "      <td>20.514132</td>\n",
       "      <td>19.564788</td>\n",
       "      <td>16.681692</td>\n",
       "    </tr>\n",
       "    <tr>\n",
       "      <th>3</th>\n",
       "      <td>3</td>\n",
       "      <td>00102E1</td>\n",
       "      <td>853.0</td>\n",
       "      <td>2010</td>\n",
       "      <td>1006.708496</td>\n",
       "      <td>37.5</td>\n",
       "      <td>158.2</td>\n",
       "      <td>157.8</td>\n",
       "      <td>161.4</td>\n",
       "      <td>46.9</td>\n",
       "      <td>...</td>\n",
       "      <td>17.060778</td>\n",
       "      <td>18.699156</td>\n",
       "      <td>17.345822</td>\n",
       "      <td>15.998957</td>\n",
       "      <td>20.091525</td>\n",
       "      <td>22.761273</td>\n",
       "      <td>26.337430</td>\n",
       "      <td>25.559602</td>\n",
       "      <td>27.611729</td>\n",
       "      <td>25.575794</td>\n",
       "    </tr>\n",
       "    <tr>\n",
       "      <th>4</th>\n",
       "      <td>4</td>\n",
       "      <td>00102W1</td>\n",
       "      <td>852.0</td>\n",
       "      <td>2010</td>\n",
       "      <td>869.040283</td>\n",
       "      <td>57.2</td>\n",
       "      <td>114.7</td>\n",
       "      <td>110.5</td>\n",
       "      <td>114.0</td>\n",
       "      <td>46.2</td>\n",
       "      <td>...</td>\n",
       "      <td>16.050993</td>\n",
       "      <td>17.556860</td>\n",
       "      <td>16.612026</td>\n",
       "      <td>14.480150</td>\n",
       "      <td>20.467884</td>\n",
       "      <td>23.893858</td>\n",
       "      <td>29.156274</td>\n",
       "      <td>27.695178</td>\n",
       "      <td>29.255386</td>\n",
       "      <td>27.199097</td>\n",
       "    </tr>\n",
       "  </tbody>\n",
       "</table>\n",
       "<p>5 rows × 166 columns</p>\n",
       "</div>"
      ],
      "text/plain": [
       "   Unnamed: 0   TWP_ID  ECODISTRICT_ID  YEAR  YieldKgAcre  SumPcpn18_20  \\\n",
       "0           0  00101E1           852.0  2010   867.766846          53.6   \n",
       "1           1  00101W1           852.0  2010   673.685028          57.2   \n",
       "2           2  00101W2           796.0  2010   824.303864          39.0   \n",
       "3           3  00102E1           853.0  2010  1006.708496          37.5   \n",
       "4           4  00102W1           852.0  2010   869.040283          57.2   \n",
       "\n",
       "   SumPcpn19_21  SumPcpn20_22  SumPcpn21_23  SumPcpn22_24  ...  \\\n",
       "0         111.1         109.7         117.9          46.4  ...   \n",
       "1         114.7         110.5         114.0          46.2  ...   \n",
       "2          96.4         109.8         101.2         111.4  ...   \n",
       "3         158.2         157.8         161.4          46.9  ...   \n",
       "4         114.7         110.5         114.0          46.2  ...   \n",
       "\n",
       "   SoilMoisture29_31  SoilMoisture30_32  SoilMoisture31_33  SoilMoisture32_34  \\\n",
       "0          16.960125          18.766207          17.186998          15.461519   \n",
       "1          16.328520          17.926029          16.787544          14.779726   \n",
       "2          13.117879          12.869142          12.831834          14.126196   \n",
       "3          17.060778          18.699156          17.345822          15.998957   \n",
       "4          16.050993          17.556860          16.612026          14.480150   \n",
       "\n",
       "   SoilMoisture33_35  SoilMoisture34_36  SoilMoisture35_37  SoilMoisture36_38  \\\n",
       "0          19.738222          22.958089          27.206203          26.480087   \n",
       "1          20.245149          23.608204          28.560990          27.324254   \n",
       "2          16.385776          18.650751          20.287069          20.514132   \n",
       "3          20.091525          22.761273          26.337430          25.559602   \n",
       "4          20.467884          23.893858          29.156274          27.695178   \n",
       "\n",
       "   SoilMoisture37_39  SoilMoisture38_40  \n",
       "0          28.678156          26.308484  \n",
       "1          29.079177          26.927224  \n",
       "2          19.564788          16.681692  \n",
       "3          27.611729          25.575794  \n",
       "4          29.255386          27.199097  \n",
       "\n",
       "[5 rows x 166 columns]"
      ]
     },
     "execution_count": 2,
     "metadata": {},
     "output_type": "execute_result"
    }
   ],
   "source": [
    "aafc_data=pd.read_csv(\"aafc_data.txt\",index_col=None)\n",
    "aafc_data.head()"
   ]
  },
  {
   "cell_type": "code",
   "execution_count": 82,
   "id": "4f499c4e-99c6-43fd-aae0-36cbf8c73342",
   "metadata": {
    "scrolled": true,
    "tags": []
   },
   "outputs": [
    {
     "data": {
      "text/plain": [
       "ECODISTRICT_ID\n",
       "375.0     24\n",
       "379.0      1\n",
       "647.0      1\n",
       "652.0      3\n",
       "657.0      5\n",
       "659.0      1\n",
       "660.0      4\n",
       "661.0     11\n",
       "662.0      1\n",
       "668.0      1\n",
       "669.0      9\n",
       "672.0      6\n",
       "677.0      5\n",
       "680.0     20\n",
       "682.0     10\n",
       "685.0     15\n",
       "686.0      2\n",
       "687.0     34\n",
       "689.0     24\n",
       "690.0     18\n",
       "691.0      5\n",
       "693.0     23\n",
       "694.0     22\n",
       "695.0     16\n",
       "696.0     39\n",
       "697.0     17\n",
       "698.0     16\n",
       "699.0      6\n",
       "700.0     15\n",
       "701.0     31\n",
       "702.0     25\n",
       "704.0     20\n",
       "705.0     31\n",
       "706.0     27\n",
       "707.0     48\n",
       "709.0     83\n",
       "710.0     16\n",
       "711.0     23\n",
       "714.0     24\n",
       "715.0     19\n",
       "716.0     12\n",
       "717.0     32\n",
       "718.0      3\n",
       "720.0      2\n",
       "723.0     41\n",
       "724.0     45\n",
       "726.0     33\n",
       "729.0     86\n",
       "733.0     39\n",
       "734.0     14\n",
       "735.0     25\n",
       "736.0     43\n",
       "739.0     11\n",
       "741.0     26\n",
       "742.0      7\n",
       "743.0      5\n",
       "745.0    100\n",
       "747.0     19\n",
       "748.0    109\n",
       "749.0     67\n",
       "751.0     21\n",
       "752.0    101\n",
       "753.0     86\n",
       "754.0     36\n",
       "755.0     30\n",
       "756.0     57\n",
       "757.0     20\n",
       "758.0     34\n",
       "759.0      5\n",
       "760.0     78\n",
       "761.0      7\n",
       "762.0     14\n",
       "763.0     42\n",
       "764.0     14\n",
       "765.0     54\n",
       "766.0     34\n",
       "767.0     70\n",
       "768.0      6\n",
       "770.0     54\n",
       "771.0     15\n",
       "772.0      8\n",
       "773.0     51\n",
       "774.0     14\n",
       "775.0     13\n",
       "776.0     19\n",
       "778.0      6\n",
       "780.0     42\n",
       "782.0     81\n",
       "783.0     41\n",
       "784.0     22\n",
       "785.0     14\n",
       "789.0     26\n",
       "792.0     92\n",
       "794.0     69\n",
       "795.0     45\n",
       "796.0     16\n",
       "803.0     28\n",
       "805.0     15\n",
       "807.0     19\n",
       "808.0     97\n",
       "809.0     16\n",
       "810.0     15\n",
       "811.0      2\n",
       "813.0     27\n",
       "815.0      9\n",
       "816.0     64\n",
       "817.0     20\n",
       "819.0      4\n",
       "820.0     22\n",
       "821.0     22\n",
       "822.0     37\n",
       "824.0     15\n",
       "825.0     80\n",
       "826.0    107\n",
       "827.0      5\n",
       "830.0     62\n",
       "831.0     22\n",
       "832.0     42\n",
       "833.0      1\n",
       "834.0      1\n",
       "837.0      8\n",
       "838.0     20\n",
       "839.0     24\n",
       "840.0     16\n",
       "841.0     26\n",
       "843.0     11\n",
       "844.0     15\n",
       "846.0      9\n",
       "847.0     10\n",
       "848.0      4\n",
       "849.0     91\n",
       "850.0     31\n",
       "851.0     14\n",
       "852.0     26\n",
       "853.0      7\n",
       "854.0     16\n",
       "855.0      2\n",
       "Name: TWP_ID, dtype: int64"
      ]
     },
     "execution_count": 82,
     "metadata": {},
     "output_type": "execute_result"
    }
   ],
   "source": [
    "aafc_data.groupby('ECODISTRICT_ID')['TWP_ID'].nunique()"
   ]
  },
  {
   "cell_type": "code",
   "execution_count": 83,
   "id": "5b8145a9-5e54-4de3-80b7-b3eb5e798b34",
   "metadata": {
    "scrolled": true,
    "tags": []
   },
   "outputs": [
    {
     "data": {
      "text/plain": [
       "ECODISTRICT_ID\n",
       "375.0     264\n",
       "379.0      11\n",
       "647.0      11\n",
       "652.0      33\n",
       "657.0      55\n",
       "659.0      11\n",
       "660.0      44\n",
       "661.0     119\n",
       "662.0      11\n",
       "668.0      11\n",
       "669.0      99\n",
       "672.0      66\n",
       "677.0      55\n",
       "680.0     220\n",
       "682.0     110\n",
       "685.0     165\n",
       "686.0      22\n",
       "687.0     374\n",
       "689.0     264\n",
       "690.0     198\n",
       "691.0      55\n",
       "693.0     253\n",
       "694.0     242\n",
       "695.0     176\n",
       "696.0     429\n",
       "697.0     187\n",
       "698.0     176\n",
       "699.0      66\n",
       "700.0     165\n",
       "701.0     341\n",
       "702.0     275\n",
       "704.0     220\n",
       "705.0     341\n",
       "706.0     297\n",
       "707.0     528\n",
       "709.0     913\n",
       "710.0     176\n",
       "711.0     253\n",
       "714.0     264\n",
       "715.0     209\n",
       "716.0     132\n",
       "717.0     352\n",
       "718.0      33\n",
       "720.0      22\n",
       "723.0     451\n",
       "724.0     495\n",
       "726.0     363\n",
       "729.0     946\n",
       "733.0     429\n",
       "734.0     154\n",
       "735.0     275\n",
       "736.0     473\n",
       "739.0     121\n",
       "741.0     286\n",
       "742.0      77\n",
       "743.0      55\n",
       "745.0    1100\n",
       "747.0     209\n",
       "748.0    1199\n",
       "749.0     737\n",
       "751.0     231\n",
       "752.0    1111\n",
       "753.0     946\n",
       "754.0     396\n",
       "755.0     330\n",
       "756.0     627\n",
       "757.0     220\n",
       "758.0     374\n",
       "759.0      55\n",
       "760.0     858\n",
       "761.0      77\n",
       "762.0     154\n",
       "763.0     462\n",
       "764.0     154\n",
       "765.0     594\n",
       "766.0     374\n",
       "767.0     770\n",
       "768.0      66\n",
       "770.0     594\n",
       "771.0     165\n",
       "772.0      88\n",
       "773.0     561\n",
       "774.0     154\n",
       "775.0     143\n",
       "776.0     209\n",
       "778.0      66\n",
       "780.0     462\n",
       "782.0     891\n",
       "783.0     451\n",
       "784.0     242\n",
       "785.0     154\n",
       "789.0     286\n",
       "792.0    1012\n",
       "794.0     759\n",
       "795.0     495\n",
       "796.0     176\n",
       "803.0     308\n",
       "805.0     165\n",
       "807.0     209\n",
       "808.0    1067\n",
       "809.0     176\n",
       "810.0     165\n",
       "811.0      22\n",
       "813.0     297\n",
       "815.0      99\n",
       "816.0     704\n",
       "817.0     220\n",
       "819.0      44\n",
       "820.0     242\n",
       "821.0     242\n",
       "822.0     407\n",
       "824.0     165\n",
       "825.0     880\n",
       "826.0    1177\n",
       "827.0      55\n",
       "830.0     682\n",
       "831.0     242\n",
       "832.0     462\n",
       "833.0      11\n",
       "834.0      11\n",
       "837.0      88\n",
       "838.0     220\n",
       "839.0     264\n",
       "840.0     176\n",
       "841.0     286\n",
       "843.0     121\n",
       "844.0     165\n",
       "846.0      99\n",
       "847.0     110\n",
       "848.0      44\n",
       "849.0    1001\n",
       "850.0     341\n",
       "851.0     154\n",
       "852.0     286\n",
       "853.0      77\n",
       "854.0     176\n",
       "855.0      22\n",
       "dtype: int64"
      ]
     },
     "execution_count": 83,
     "metadata": {},
     "output_type": "execute_result"
    }
   ],
   "source": [
    "pd.set_option('display.max_rows', None)\n",
    "aafc_data.groupby(['ECODISTRICT_ID']).size()"
   ]
  },
  {
   "cell_type": "markdown",
   "id": "6f66b45d-0ebb-4098-a45d-2a1efc9e90c5",
   "metadata": {
    "tags": []
   },
   "source": [
    "# LASSO for Ecodistrict 748"
   ]
  },
  {
   "cell_type": "code",
   "execution_count": 4,
   "id": "57d06e31-489a-46e8-9467-cd34bfbd51a0",
   "metadata": {
    "tags": []
   },
   "outputs": [],
   "source": [
    "aafc_data_748=aafc_data[aafc_data['ECODISTRICT_ID']==748.0]"
   ]
  },
  {
   "cell_type": "code",
   "execution_count": 5,
   "id": "9c8edbee-f75b-4f4a-afd5-d0cc82f61d65",
   "metadata": {},
   "outputs": [],
   "source": [
    "# Labels are the values we want to predict\n",
    "labels = np.array(aafc_data_748['YieldKgAcre'])\n",
    "# Remove the labels from the features\n",
    "# axis 1 refers to the columns\n",
    "features= aafc_data_748.drop(['YieldKgAcre','YEAR','TWP_ID','Unnamed: 0','ECODISTRICT_ID'], axis = 1)\n",
    "# Saving feature names for later use\n",
    "feature_list = list(features.columns)\n",
    "# Convert to numpy array\n",
    "features = np.array(features)"
   ]
  },
  {
   "cell_type": "code",
   "execution_count": 6,
   "id": "4ee6358a-6a90-4f62-8da3-897f86e01960",
   "metadata": {},
   "outputs": [],
   "source": [
    "# Split the data into training and testing sets\n",
    "train_features, test_features, train_labels, test_labels = train_test_split(features, labels, test_size = 0.25, random_state = 42)"
   ]
  },
  {
   "cell_type": "code",
   "execution_count": 7,
   "id": "8ea3af64-e99b-4340-8ef8-0f8f5d813cfd",
   "metadata": {},
   "outputs": [],
   "source": [
    "scaler = StandardScaler().fit(train_features)"
   ]
  },
  {
   "cell_type": "code",
   "execution_count": 8,
   "id": "68a4f99b-dc3f-4494-ad39-713e162572fb",
   "metadata": {},
   "outputs": [],
   "source": [
    "train_features = scaler.transform(train_features)\n",
    "\n",
    "test_features = scaler.transform(test_features)"
   ]
  },
  {
   "cell_type": "code",
   "execution_count": 9,
   "id": "3227e9da-bd2a-4c9f-b7ea-3db84fe904f2",
   "metadata": {},
   "outputs": [
    {
     "name": "stdout",
     "output_type": "stream",
     "text": [
      "Lasso(alpha=0.13700269991838376)\n"
     ]
    },
    {
     "name": "stderr",
     "output_type": "stream",
     "text": [
      "/Users/mayukha/opt/miniconda3/lib/python3.9/site-packages/sklearn/linear_model/_coordinate_descent.py:647: ConvergenceWarning: Objective did not converge. You might want to increase the number of iterations, check the scale of the features or consider increasing regularisation. Duality gap: 1.185e+05, tolerance: 3.441e+03\n",
      "  model = cd_fast.enet_coordinate_descent(\n"
     ]
    },
    {
     "data": {
      "text/plain": [
       "Lasso(alpha=0.13700269991838376)"
      ]
     },
     "execution_count": 9,
     "metadata": {},
     "output_type": "execute_result"
    }
   ],
   "source": [
    "model = LassoCV(cv=10, random_state=0, max_iter=10000)\n",
    "model.fit(train_features, train_labels)\n",
    "lasso_best = Lasso(alpha=model.alpha_)\n",
    "print(lasso_best)\n",
    "lasso_best.fit(train_features, train_labels)"
   ]
  },
  {
   "cell_type": "code",
   "execution_count": 10,
   "id": "ca02de76-03d9-407e-9e85-2ff2b132c079",
   "metadata": {},
   "outputs": [
    {
     "name": "stdout",
     "output_type": "stream",
     "text": [
      "R squared training set 84.25\n",
      "R squared test set 82.26\n"
     ]
    }
   ],
   "source": [
    "print('R squared training set', round(lasso_best.score(train_features, train_labels)*100, 2))\n",
    "print('R squared test set', round(lasso_best.score(test_features, test_labels)*100, 2))\n"
   ]
  },
  {
   "cell_type": "code",
   "execution_count": 11,
   "id": "7580adec-173a-45a3-b5a0-795e1d647006",
   "metadata": {},
   "outputs": [
    {
     "name": "stdout",
     "output_type": "stream",
     "text": [
      "MSE training set 77.64\n",
      "MSE test set 84.29\n"
     ]
    }
   ],
   "source": [
    "# Training data\n",
    "pred_train = lasso_best.predict(train_features)\n",
    "mse_train = mean_squared_error(train_labels, pred_train,squared=False)\n",
    "print('MSE training set', round(mse_train, 2))\n",
    "\n",
    "# Test data\n",
    "pred = lasso_best.predict(test_features)\n",
    "mse_test =mean_squared_error(test_labels, pred,squared=False)\n",
    "print('MSE test set', round(mse_test, 2))"
   ]
  },
  {
   "cell_type": "code",
   "execution_count": 12,
   "id": "2178b3f1-50be-47d3-b20e-441defeac9ca",
   "metadata": {},
   "outputs": [
    {
     "name": "stdout",
     "output_type": "stream",
     "text": [
      "Mean Absolute Error: 65.8 degrees.\n"
     ]
    }
   ],
   "source": [
    "\n",
    "# Calculate the absolute errors\n",
    "errors = abs(pred - test_labels)\n",
    "# Print out the mean absolute error (mae)\n",
    "print('Mean Absolute Error:', round(np.mean(errors), 2), 'degrees.')"
   ]
  },
  {
   "cell_type": "code",
   "execution_count": 13,
   "id": "fb244746-db25-4032-afd7-9c56c4db5686",
   "metadata": {},
   "outputs": [
    {
     "name": "stdout",
     "output_type": "stream",
     "text": [
      "Accuracy: 90.3 %.\n"
     ]
    }
   ],
   "source": [
    "# Calculate mean absolute percentage error (MAPE)\n",
    "mape = 100 * (errors / test_labels)\n",
    "# Calculate and display accuracy\n",
    "accuracy = 100 - np.mean(mape)\n",
    "print('Accuracy:', round(accuracy, 2), '%.')"
   ]
  },
  {
   "cell_type": "markdown",
   "id": "037bd3bc-721d-4eae-a6e8-38153ced220a",
   "metadata": {},
   "source": [
    "# LASSO for Ecodistrict 826"
   ]
  },
  {
   "cell_type": "code",
   "execution_count": 14,
   "id": "000a1d0e-202c-401a-9fb4-1af06b3eb33c",
   "metadata": {},
   "outputs": [],
   "source": [
    "aafc_data_826=aafc_data[aafc_data['ECODISTRICT_ID']==826.0]\n",
    "\n",
    "labels = np.array(aafc_data_826['YieldKgAcre'])\n",
    "\n",
    "features= aafc_data_826.drop(['YieldKgAcre','YEAR','TWP_ID','Unnamed: 0','ECODISTRICT_ID'], axis = 1)\n",
    "\n",
    "feature_list = list(features.columns)\n",
    "\n",
    "features = np.array(features)"
   ]
  },
  {
   "cell_type": "code",
   "execution_count": 15,
   "id": "156ee542-2b77-4ce4-af07-b2cd950917b8",
   "metadata": {},
   "outputs": [],
   "source": [
    "\n",
    "# Split the data into training and testing sets\n",
    "train_features, test_features, train_labels, test_labels = train_test_split(features, labels, test_size = 0.25, random_state = 42)\n",
    "scaler = StandardScaler().fit(train_features)\n",
    "train_features = scaler.transform(train_features)\n",
    "\n",
    "test_features = scaler.transform(test_features)"
   ]
  },
  {
   "cell_type": "code",
   "execution_count": 16,
   "id": "eaa8060d-0e75-431c-9754-e71b06d677e9",
   "metadata": {},
   "outputs": [
    {
     "name": "stdout",
     "output_type": "stream",
     "text": [
      "Lasso(alpha=0.1364611722810638)\n"
     ]
    },
    {
     "name": "stderr",
     "output_type": "stream",
     "text": [
      "/Users/mayukha/opt/miniconda3/lib/python3.9/site-packages/sklearn/linear_model/_coordinate_descent.py:647: ConvergenceWarning: Objective did not converge. You might want to increase the number of iterations, check the scale of the features or consider increasing regularisation. Duality gap: 1.610e+05, tolerance: 3.748e+03\n",
      "  model = cd_fast.enet_coordinate_descent(\n"
     ]
    },
    {
     "data": {
      "text/plain": [
       "Lasso(alpha=0.1364611722810638)"
      ]
     },
     "execution_count": 16,
     "metadata": {},
     "output_type": "execute_result"
    }
   ],
   "source": [
    "model = LassoCV(cv=10, random_state=0, max_iter=10000)\n",
    "model.fit(train_features, train_labels)\n",
    "lasso_best = Lasso(alpha=model.alpha_)\n",
    "print(lasso_best)\n",
    "lasso_best.fit(train_features, train_labels)"
   ]
  },
  {
   "cell_type": "code",
   "execution_count": 17,
   "id": "071d6a54-fe7d-4545-a68f-97d339865410",
   "metadata": {},
   "outputs": [
    {
     "name": "stdout",
     "output_type": "stream",
     "text": [
      "R squared training set 76.43\n",
      "R squared test set 68.61\n"
     ]
    }
   ],
   "source": [
    "print('R squared training set', round(lasso_best.score(train_features, train_labels)*100, 2))\n",
    "print('R squared test set', round(lasso_best.score(test_features, test_labels)*100, 2))\n"
   ]
  },
  {
   "cell_type": "code",
   "execution_count": 18,
   "id": "0389cc82-d49b-4bfe-8a39-d45cb8547dee",
   "metadata": {},
   "outputs": [
    {
     "name": "stdout",
     "output_type": "stream",
     "text": [
      "MSE training set 100.08\n",
      "MSE test set 112.91\n"
     ]
    }
   ],
   "source": [
    "\n",
    "# Training data\n",
    "pred_train = lasso_best.predict(train_features)\n",
    "mse_train = mean_squared_error(train_labels, pred_train,squared=False)\n",
    "print('MSE training set', round(mse_train, 2))\n",
    "\n",
    "# Test data\n",
    "pred = lasso_best.predict(test_features)\n",
    "mse_test =mean_squared_error(test_labels, pred,squared=False)\n",
    "print('MSE test set', round(mse_test, 2))"
   ]
  },
  {
   "cell_type": "code",
   "execution_count": 19,
   "id": "0bc556f4-c2ab-4390-b377-e0633d3ffc7a",
   "metadata": {},
   "outputs": [
    {
     "name": "stdout",
     "output_type": "stream",
     "text": [
      "Mean Absolute Error: 83.58 degrees.\n"
     ]
    }
   ],
   "source": [
    "\n",
    "# Calculate the absolute errors\n",
    "errors = abs(pred - test_labels)\n",
    "# Print out the mean absolute error (mae)\n",
    "print('Mean Absolute Error:', round(np.mean(errors), 2), 'degrees.')"
   ]
  },
  {
   "cell_type": "code",
   "execution_count": 20,
   "id": "c4926c9e-10b9-40d8-a5e8-2a8ac54f1f59",
   "metadata": {},
   "outputs": [
    {
     "name": "stdout",
     "output_type": "stream",
     "text": [
      "Accuracy: 86.38 %.\n"
     ]
    }
   ],
   "source": [
    "# Calculate mean absolute percentage error (MAPE)\n",
    "mape = 100 * (errors / test_labels)\n",
    "# Calculate and display accuracy\n",
    "accuracy = 100 - np.mean(mape)\n",
    "print('Accuracy:', round(accuracy, 2), '%.')"
   ]
  },
  {
   "cell_type": "markdown",
   "id": "34e48ff7-6c25-4690-a1d6-a0ce3cf9b5d5",
   "metadata": {},
   "source": [
    "# LASSO for Ecodistrict 752"
   ]
  },
  {
   "cell_type": "code",
   "execution_count": 21,
   "id": "d40e89ce-5286-44ed-84cd-dcf94898ddaf",
   "metadata": {},
   "outputs": [],
   "source": [
    "aafc_data_752=aafc_data[aafc_data['ECODISTRICT_ID']==752.0]\n",
    "\n",
    "labels = np.array(aafc_data_752['YieldKgAcre'])\n",
    "\n",
    "features= aafc_data_752.drop(['YieldKgAcre','YEAR','TWP_ID','Unnamed: 0','ECODISTRICT_ID'], axis = 1)\n",
    "\n",
    "feature_list = list(features.columns)\n",
    "\n",
    "features = np.array(features)"
   ]
  },
  {
   "cell_type": "code",
   "execution_count": 22,
   "id": "9bd9665f-d039-40ab-a0f6-4194f1ea7075",
   "metadata": {},
   "outputs": [],
   "source": [
    "\n",
    "# Split the data into training and testing sets\n",
    "train_features, test_features, train_labels, test_labels = train_test_split(features, labels, test_size = 0.25, random_state = 42)\n",
    "scaler = StandardScaler().fit(train_features)\n",
    "train_features = scaler.transform(train_features)\n",
    "\n",
    "test_features = scaler.transform(test_features)"
   ]
  },
  {
   "cell_type": "code",
   "execution_count": 23,
   "id": "1d1d48e3-3224-4fa6-8404-7f06802bd5d8",
   "metadata": {},
   "outputs": [
    {
     "name": "stdout",
     "output_type": "stream",
     "text": [
      "Lasso(alpha=0.19329979313638276)\n"
     ]
    },
    {
     "name": "stderr",
     "output_type": "stream",
     "text": [
      "/Users/mayukha/opt/miniconda3/lib/python3.9/site-packages/sklearn/linear_model/_coordinate_descent.py:647: ConvergenceWarning: Objective did not converge. You might want to increase the number of iterations, check the scale of the features or consider increasing regularisation. Duality gap: 7.825e+03, tolerance: 3.638e+03\n",
      "  model = cd_fast.enet_coordinate_descent(\n"
     ]
    },
    {
     "data": {
      "text/plain": [
       "Lasso(alpha=0.19329979313638276)"
      ]
     },
     "execution_count": 23,
     "metadata": {},
     "output_type": "execute_result"
    }
   ],
   "source": [
    "model = LassoCV(cv=10, random_state=0, max_iter=10000)\n",
    "model.fit(train_features, train_labels)\n",
    "lasso_best = Lasso(alpha=model.alpha_)\n",
    "print(lasso_best)\n",
    "lasso_best.fit(train_features, train_labels)"
   ]
  },
  {
   "cell_type": "code",
   "execution_count": 24,
   "id": "085105d8-d0d2-46b3-ae43-f85933d24f48",
   "metadata": {},
   "outputs": [
    {
     "name": "stdout",
     "output_type": "stream",
     "text": [
      "R squared training set 84.81\n",
      "R squared test set 81.22\n"
     ]
    }
   ],
   "source": [
    "print('R squared training set', round(lasso_best.score(train_features, train_labels)*100, 2))\n",
    "print('R squared test set', round(lasso_best.score(test_features, test_labels)*100, 2))\n"
   ]
  },
  {
   "cell_type": "code",
   "execution_count": 26,
   "id": "73fa7b14-1299-4e1c-84e4-77369731dc86",
   "metadata": {},
   "outputs": [
    {
     "name": "stdout",
     "output_type": "stream",
     "text": [
      "MSE training set 81.46\n",
      "MSE test set 90.96\n"
     ]
    }
   ],
   "source": [
    "from sklearn.metrics import mean_squared_error\n",
    "\n",
    "# Training data\n",
    "pred_train = lasso_best.predict(train_features)\n",
    "mse_train = mean_squared_error(train_labels, pred_train,squared=False)\n",
    "print('MSE training set', round(mse_train, 2))\n",
    "\n",
    "# Test data\n",
    "pred = lasso_best.predict(test_features)\n",
    "mse_test =mean_squared_error(test_labels, pred,squared=False)\n",
    "print('MSE test set', round(mse_test, 2))"
   ]
  },
  {
   "cell_type": "code",
   "execution_count": 27,
   "id": "d2d7796e-7d57-45df-be18-9e58cb93737d",
   "metadata": {},
   "outputs": [
    {
     "name": "stdout",
     "output_type": "stream",
     "text": [
      "Mean Absolute Error: 71.35 degrees.\n"
     ]
    }
   ],
   "source": [
    "\n",
    "# Calculate the absolute errors\n",
    "errors = abs(pred - test_labels)\n",
    "# Print out the mean absolute error (mae)\n",
    "print('Mean Absolute Error:', round(np.mean(errors), 2), 'degrees.')"
   ]
  },
  {
   "cell_type": "code",
   "execution_count": 28,
   "id": "bf437673-14db-4972-a562-54969bc00788",
   "metadata": {},
   "outputs": [
    {
     "name": "stdout",
     "output_type": "stream",
     "text": [
      "Accuracy: 90.17 %.\n"
     ]
    }
   ],
   "source": [
    "# Calculate mean absolute percentage error (MAPE)\n",
    "mape = 100 * (errors / test_labels)\n",
    "# Calculate and display accuracy\n",
    "accuracy = 100 - np.mean(mape)\n",
    "print('Accuracy:', round(accuracy, 2), '%.')"
   ]
  },
  {
   "cell_type": "markdown",
   "id": "d6bd71b4-38a5-42f6-865c-7ef843283c00",
   "metadata": {},
   "source": [
    "# LASSO for Ecodistrict 745"
   ]
  },
  {
   "cell_type": "code",
   "execution_count": 29,
   "id": "e358adbe-5d18-4e7b-9cc4-e1a8db297982",
   "metadata": {},
   "outputs": [],
   "source": [
    "aafc_data_745=aafc_data[aafc_data['ECODISTRICT_ID']==745.0]\n",
    "\n",
    "labels = np.array(aafc_data_745['YieldKgAcre'])\n",
    "\n",
    "features= aafc_data_745.drop(['YieldKgAcre','YEAR','TWP_ID','Unnamed: 0','ECODISTRICT_ID'], axis = 1)\n",
    "\n",
    "feature_list = list(features.columns)\n",
    "\n",
    "features = np.array(features)"
   ]
  },
  {
   "cell_type": "code",
   "execution_count": 30,
   "id": "d111d906-a1ee-47d7-bc7c-88f87b586714",
   "metadata": {},
   "outputs": [],
   "source": [
    "\n",
    "# Split the data into training and testing sets\n",
    "train_features, test_features, train_labels, test_labels = train_test_split(features, labels, test_size = 0.25, random_state = 42)\n",
    "scaler = StandardScaler().fit(train_features)\n",
    "train_features = scaler.transform(train_features)\n",
    "\n",
    "test_features = scaler.transform(test_features)"
   ]
  },
  {
   "cell_type": "code",
   "execution_count": 32,
   "id": "15f3844f-51b7-4a8e-9ace-dae3ab561399",
   "metadata": {},
   "outputs": [
    {
     "name": "stdout",
     "output_type": "stream",
     "text": [
      "Lasso(alpha=0.29520255449486854)\n"
     ]
    },
    {
     "name": "stderr",
     "output_type": "stream",
     "text": [
      "/Users/mayukha/opt/miniconda3/lib/python3.9/site-packages/sklearn/linear_model/_coordinate_descent.py:647: ConvergenceWarning: Objective did not converge. You might want to increase the number of iterations, check the scale of the features or consider increasing regularisation. Duality gap: 4.346e+03, tolerance: 4.205e+03\n",
      "  model = cd_fast.enet_coordinate_descent(\n"
     ]
    },
    {
     "data": {
      "text/plain": [
       "Lasso(alpha=0.29520255449486854)"
      ]
     },
     "execution_count": 32,
     "metadata": {},
     "output_type": "execute_result"
    }
   ],
   "source": [
    "model = LassoCV(cv=10, random_state=0, max_iter=10000)\n",
    "model.fit(train_features, train_labels)\n",
    "lasso_best = Lasso(alpha=model.alpha_)\n",
    "print(lasso_best)\n",
    "lasso_best.fit(train_features, train_labels)"
   ]
  },
  {
   "cell_type": "code",
   "execution_count": 33,
   "id": "3f1cc329-9e3f-4c8b-be9a-66d3f8379329",
   "metadata": {},
   "outputs": [
    {
     "name": "stdout",
     "output_type": "stream",
     "text": [
      "R squared training set 88.82\n",
      "R squared test set 87.02\n"
     ]
    }
   ],
   "source": [
    "print('R squared training set', round(lasso_best.score(train_features, train_labels)*100, 2))\n",
    "print('R squared test set', round(lasso_best.score(test_features, test_labels)*100, 2))\n"
   ]
  },
  {
   "cell_type": "code",
   "execution_count": 36,
   "id": "fb8c95c0-555b-4d9b-bd37-0d25ab88664e",
   "metadata": {},
   "outputs": [
    {
     "name": "stdout",
     "output_type": "stream",
     "text": [
      "MSE training set 75.47\n",
      "MSE test set 86.12\n"
     ]
    }
   ],
   "source": [
    "from sklearn.metrics import mean_squared_error\n",
    "\n",
    "# Training data\n",
    "pred_train = lasso_best.predict(train_features)\n",
    "mse_train = mean_squared_error(train_labels, pred_train, squared=False)\n",
    "print('MSE training set', round(mse_train, 2))\n",
    "\n",
    "# Test data\n",
    "pred = lasso_best.predict(test_features)\n",
    "mse_test =mean_squared_error(test_labels, pred, squared=False)\n",
    "print('MSE test set', round(mse_test, 2))"
   ]
  },
  {
   "cell_type": "code",
   "execution_count": 37,
   "id": "ee2cb241-cc73-40d4-b869-ce2cf43ca7f4",
   "metadata": {},
   "outputs": [
    {
     "name": "stdout",
     "output_type": "stream",
     "text": [
      "Mean Absolute Error: 65.93 degrees.\n"
     ]
    }
   ],
   "source": [
    "\n",
    "# Calculate the absolute errors\n",
    "errors = abs(pred - test_labels)\n",
    "# Print out the mean absolute error (mae)\n",
    "print('Mean Absolute Error:', round(np.mean(errors), 2), 'degrees.')"
   ]
  },
  {
   "cell_type": "code",
   "execution_count": 38,
   "id": "0105c163-0a4e-447e-9a4a-37fad99bb316",
   "metadata": {},
   "outputs": [
    {
     "name": "stdout",
     "output_type": "stream",
     "text": [
      "Accuracy: 91.95 %.\n"
     ]
    }
   ],
   "source": [
    "# Calculate mean absolute percentage error (MAPE)\n",
    "mape = 100 * (errors / test_labels)\n",
    "# Calculate and display accuracy\n",
    "accuracy = 100 - np.mean(mape)\n",
    "print('Accuracy:', round(accuracy, 2), '%.')"
   ]
  },
  {
   "cell_type": "markdown",
   "id": "138b5202-884b-43b0-9c15-6b1bf3372c0a",
   "metadata": {},
   "source": [
    "# LASSO for Ecodistrict 808"
   ]
  },
  {
   "cell_type": "code",
   "execution_count": 39,
   "id": "e507c113-96e6-4e42-a96a-fcf192350a9c",
   "metadata": {},
   "outputs": [],
   "source": [
    "aafc_data_808=aafc_data[aafc_data['ECODISTRICT_ID']==808.0]\n",
    "\n",
    "labels = np.array(aafc_data_808['YieldKgAcre'])\n",
    "\n",
    "features= aafc_data_808.drop(['YieldKgAcre','YEAR','TWP_ID','Unnamed: 0','ECODISTRICT_ID'], axis = 1)\n",
    "\n",
    "feature_list = list(features.columns)\n",
    "\n",
    "features = np.array(features)"
   ]
  },
  {
   "cell_type": "code",
   "execution_count": 40,
   "id": "cbb616e5-751e-4975-b363-b122eeb451ed",
   "metadata": {},
   "outputs": [],
   "source": [
    "\n",
    "# Split the data into training and testing sets\n",
    "train_features, test_features, train_labels, test_labels = train_test_split(features, labels, test_size = 0.25, random_state = 42)\n",
    "scaler = StandardScaler().fit(train_features)\n",
    "train_features = scaler.transform(train_features)\n",
    "\n",
    "test_features = scaler.transform(test_features)"
   ]
  },
  {
   "cell_type": "code",
   "execution_count": 41,
   "id": "5dc74bdf-c8ad-4955-bbea-21f6875a553d",
   "metadata": {},
   "outputs": [
    {
     "name": "stdout",
     "output_type": "stream",
     "text": [
      "Lasso(alpha=0.3922599255959099)\n"
     ]
    },
    {
     "data": {
      "text/plain": [
       "Lasso(alpha=0.3922599255959099)"
      ]
     },
     "execution_count": 41,
     "metadata": {},
     "output_type": "execute_result"
    }
   ],
   "source": [
    "model = LassoCV(cv=10, random_state=0, max_iter=10000)\n",
    "model.fit(train_features, train_labels)\n",
    "lasso_best = Lasso(alpha=model.alpha_)\n",
    "print(lasso_best)\n",
    "lasso_best.fit(train_features, train_labels)"
   ]
  },
  {
   "cell_type": "code",
   "execution_count": 42,
   "id": "90fdf63d-e3ef-49bb-9855-fef57a919098",
   "metadata": {},
   "outputs": [
    {
     "name": "stdout",
     "output_type": "stream",
     "text": [
      "R squared training set 69.21\n",
      "R squared test set 67.26\n"
     ]
    }
   ],
   "source": [
    "print('R squared training set', round(lasso_best.score(train_features, train_labels)*100, 2))\n",
    "print('R squared test set', round(lasso_best.score(test_features, test_labels)*100, 2))\n"
   ]
  },
  {
   "cell_type": "code",
   "execution_count": 44,
   "id": "c9297bbc-c4ff-415c-a4d9-494a14f3834a",
   "metadata": {},
   "outputs": [
    {
     "name": "stdout",
     "output_type": "stream",
     "text": [
      "MSE training set 111.02\n",
      "MSE test set 119.34\n"
     ]
    }
   ],
   "source": [
    "from sklearn.metrics import mean_squared_error\n",
    "\n",
    "# Training data\n",
    "pred_train = lasso_best.predict(train_features)\n",
    "mse_train = mean_squared_error(train_labels, pred_train,squared=False)\n",
    "print('MSE training set', round(mse_train, 2))\n",
    "\n",
    "# Test data\n",
    "pred = lasso_best.predict(test_features)\n",
    "mse_test =mean_squared_error(test_labels, pred,squared=False)\n",
    "print('MSE test set', round(mse_test, 2))"
   ]
  },
  {
   "cell_type": "code",
   "execution_count": 45,
   "id": "afe8e794-77f1-4810-9c93-699ba268eacd",
   "metadata": {},
   "outputs": [
    {
     "name": "stdout",
     "output_type": "stream",
     "text": [
      "Mean Absolute Error: 94.65 degrees.\n"
     ]
    }
   ],
   "source": [
    "\n",
    "# Calculate the absolute errors\n",
    "errors = abs(pred - test_labels)\n",
    "# Print out the mean absolute error (mae)\n",
    "print('Mean Absolute Error:', round(np.mean(errors), 2), 'degrees.')"
   ]
  },
  {
   "cell_type": "code",
   "execution_count": 46,
   "id": "ccdc9e47-7794-4811-879a-cceda00dd1e6",
   "metadata": {},
   "outputs": [
    {
     "name": "stdout",
     "output_type": "stream",
     "text": [
      "Accuracy: 86.83 %.\n"
     ]
    }
   ],
   "source": [
    "# Calculate mean absolute percentage error (MAPE)\n",
    "mape = 100 * (errors / test_labels)\n",
    "# Calculate and display accuracy\n",
    "accuracy = 100 - np.mean(mape)\n",
    "print('Accuracy:', round(accuracy, 2), '%.')"
   ]
  },
  {
   "cell_type": "markdown",
   "id": "1d2e3f80-f774-4c1e-9144-433b272ee901",
   "metadata": {},
   "source": [
    "# LASSO for Ecodistrict 792"
   ]
  },
  {
   "cell_type": "code",
   "execution_count": 47,
   "id": "8a34b208-99d1-447e-9b6c-8e01a20f89c8",
   "metadata": {},
   "outputs": [],
   "source": [
    "aafc_data_792=aafc_data[aafc_data['ECODISTRICT_ID']==792.0]\n",
    "\n",
    "labels = np.array(aafc_data_792['YieldKgAcre'])\n",
    "\n",
    "features= aafc_data_792.drop(['YieldKgAcre','YEAR','TWP_ID','Unnamed: 0','ECODISTRICT_ID'], axis = 1)\n",
    "\n",
    "feature_list = list(features.columns)\n",
    "\n",
    "features = np.array(features)"
   ]
  },
  {
   "cell_type": "code",
   "execution_count": 48,
   "id": "977343c5-933a-4f06-bf9e-5a9f74d95859",
   "metadata": {},
   "outputs": [],
   "source": [
    "\n",
    "# Split the data into training and testing sets\n",
    "train_features, test_features, train_labels, test_labels = train_test_split(features, labels, test_size = 0.25, random_state = 42)\n",
    "scaler = StandardScaler().fit(train_features)\n",
    "train_features = scaler.transform(train_features)\n",
    "\n",
    "test_features = scaler.transform(test_features)"
   ]
  },
  {
   "cell_type": "code",
   "execution_count": 49,
   "id": "1a2c4697-6a88-42d2-9389-2494da57ba4f",
   "metadata": {},
   "outputs": [
    {
     "name": "stdout",
     "output_type": "stream",
     "text": [
      "Lasso(alpha=0.2741273855697071)\n"
     ]
    },
    {
     "name": "stderr",
     "output_type": "stream",
     "text": [
      "/Users/mayukha/opt/miniconda3/lib/python3.9/site-packages/sklearn/linear_model/_coordinate_descent.py:647: ConvergenceWarning: Objective did not converge. You might want to increase the number of iterations, check the scale of the features or consider increasing regularisation. Duality gap: 3.556e+04, tolerance: 3.200e+03\n",
      "  model = cd_fast.enet_coordinate_descent(\n"
     ]
    },
    {
     "data": {
      "text/plain": [
       "Lasso(alpha=0.2741273855697071)"
      ]
     },
     "execution_count": 49,
     "metadata": {},
     "output_type": "execute_result"
    }
   ],
   "source": [
    "model = LassoCV(cv=10, random_state=0, max_iter=10000)\n",
    "model.fit(train_features, train_labels)\n",
    "lasso_best = Lasso(alpha=model.alpha_)\n",
    "print(lasso_best)\n",
    "lasso_best.fit(train_features, train_labels)"
   ]
  },
  {
   "cell_type": "code",
   "execution_count": 50,
   "id": "925dabe2-f418-45f0-badd-219da07f009a",
   "metadata": {},
   "outputs": [
    {
     "name": "stdout",
     "output_type": "stream",
     "text": [
      "R squared training set 78.87\n",
      "R squared test set 72.17\n"
     ]
    }
   ],
   "source": [
    "print('R squared training set', round(lasso_best.score(train_features, train_labels)*100, 2))\n",
    "print('R squared test set', round(lasso_best.score(test_features, test_labels)*100, 2))\n"
   ]
  },
  {
   "cell_type": "code",
   "execution_count": 51,
   "id": "a9ee7852-2f19-4513-a5a6-d1ff5f7cc97f",
   "metadata": {},
   "outputs": [
    {
     "name": "stdout",
     "output_type": "stream",
     "text": [
      "MSE training set 94.39\n",
      "MSE test set 106.76\n"
     ]
    }
   ],
   "source": [
    "from sklearn.metrics import mean_squared_error\n",
    "\n",
    "# Training data\n",
    "pred_train = lasso_best.predict(train_features)\n",
    "mse_train = mean_squared_error(train_labels, pred_train,squared=False)\n",
    "print('MSE training set', round(mse_train, 2))\n",
    "\n",
    "# Test data\n",
    "pred = lasso_best.predict(test_features)\n",
    "mse_test =mean_squared_error(test_labels, pred,squared=False)\n",
    "print('MSE test set', round(mse_test, 2))"
   ]
  },
  {
   "cell_type": "code",
   "execution_count": 52,
   "id": "4999039d-e72f-4929-ac89-02d33a30d252",
   "metadata": {},
   "outputs": [
    {
     "name": "stdout",
     "output_type": "stream",
     "text": [
      "Mean Absolute Error: 83.5 degrees.\n"
     ]
    }
   ],
   "source": [
    "\n",
    "# Calculate the absolute errors\n",
    "errors = abs(pred - test_labels)\n",
    "# Print out the mean absolute error (mae)\n",
    "print('Mean Absolute Error:', round(np.mean(errors), 2), 'degrees.')"
   ]
  },
  {
   "cell_type": "code",
   "execution_count": 53,
   "id": "7e2bec89-72ef-40a2-bbcc-b116fd81f01f",
   "metadata": {},
   "outputs": [
    {
     "name": "stdout",
     "output_type": "stream",
     "text": [
      "Accuracy: 89.21 %.\n"
     ]
    }
   ],
   "source": [
    "# Calculate mean absolute percentage error (MAPE)\n",
    "mape = 100 * (errors / test_labels)\n",
    "# Calculate and display accuracy\n",
    "accuracy = 100 - np.mean(mape)\n",
    "print('Accuracy:', round(accuracy, 2), '%.')"
   ]
  },
  {
   "cell_type": "markdown",
   "id": "94983c59-0902-4895-9e1e-2799bad2a343",
   "metadata": {},
   "source": [
    "# LASSO for Ecodistrict 849"
   ]
  },
  {
   "cell_type": "code",
   "execution_count": 54,
   "id": "af5cf451-72ff-4e03-a9f9-4eb585f7290e",
   "metadata": {},
   "outputs": [],
   "source": [
    "aafc_data_849=aafc_data[aafc_data['ECODISTRICT_ID']==849.0]\n",
    "\n",
    "labels = np.array(aafc_data_849['YieldKgAcre'])\n",
    "\n",
    "features= aafc_data_849.drop(['YieldKgAcre','YEAR','TWP_ID','Unnamed: 0','ECODISTRICT_ID'], axis = 1)\n",
    "\n",
    "feature_list = list(features.columns)\n",
    "\n",
    "features = np.array(features)"
   ]
  },
  {
   "cell_type": "code",
   "execution_count": 55,
   "id": "4e537c5a-ae9e-4339-be2c-3f7dce2a604f",
   "metadata": {},
   "outputs": [],
   "source": [
    "\n",
    "# Split the data into training and testing sets\n",
    "train_features, test_features, train_labels, test_labels = train_test_split(features, labels, test_size = 0.25, random_state = 42)\n",
    "scaler = StandardScaler().fit(train_features)\n",
    "train_features = scaler.transform(train_features)\n",
    "\n",
    "test_features = scaler.transform(test_features)"
   ]
  },
  {
   "cell_type": "code",
   "execution_count": 56,
   "id": "8e582bf1-9f2a-410d-aee5-71f16f4e53d4",
   "metadata": {},
   "outputs": [
    {
     "name": "stdout",
     "output_type": "stream",
     "text": [
      "Lasso(alpha=0.18960732797695926)\n"
     ]
    },
    {
     "name": "stderr",
     "output_type": "stream",
     "text": [
      "/Users/mayukha/opt/miniconda3/lib/python3.9/site-packages/sklearn/linear_model/_coordinate_descent.py:647: ConvergenceWarning: Objective did not converge. You might want to increase the number of iterations, check the scale of the features or consider increasing regularisation. Duality gap: 2.842e+04, tolerance: 4.906e+03\n",
      "  model = cd_fast.enet_coordinate_descent(\n"
     ]
    },
    {
     "data": {
      "text/plain": [
       "Lasso(alpha=0.18960732797695926)"
      ]
     },
     "execution_count": 56,
     "metadata": {},
     "output_type": "execute_result"
    }
   ],
   "source": [
    "model = LassoCV(cv=10, random_state=0, max_iter=10000)\n",
    "model.fit(train_features, train_labels)\n",
    "lasso_best = Lasso(alpha=model.alpha_)\n",
    "print(lasso_best)\n",
    "lasso_best.fit(train_features, train_labels)"
   ]
  },
  {
   "cell_type": "code",
   "execution_count": 57,
   "id": "b61e4da0-0646-4739-b8d5-3399ebce1038",
   "metadata": {},
   "outputs": [
    {
     "name": "stdout",
     "output_type": "stream",
     "text": [
      "R squared training set 90.06\n",
      "R squared test set 86.2\n"
     ]
    }
   ],
   "source": [
    "print('R squared training set', round(lasso_best.score(train_features, train_labels)*100, 2))\n",
    "print('R squared test set', round(lasso_best.score(test_features, test_labels)*100, 2))\n"
   ]
  },
  {
   "cell_type": "code",
   "execution_count": 58,
   "id": "f273a02a-89d2-4235-8476-e8e2f4ff34fe",
   "metadata": {},
   "outputs": [
    {
     "name": "stdout",
     "output_type": "stream",
     "text": [
      "MSE training set 80.64\n",
      "MSE test set 97.19\n"
     ]
    }
   ],
   "source": [
    "from sklearn.metrics import mean_squared_error\n",
    "\n",
    "# Training data\n",
    "pred_train = lasso_best.predict(train_features)\n",
    "mse_train = mean_squared_error(train_labels, pred_train,squared=False)\n",
    "print('MSE training set', round(mse_train, 2))\n",
    "\n",
    "# Test data\n",
    "pred = lasso_best.predict(test_features)\n",
    "mse_test =mean_squared_error(test_labels, pred,squared=False)\n",
    "print('MSE test set', round(mse_test, 2))"
   ]
  },
  {
   "cell_type": "code",
   "execution_count": 59,
   "id": "253ae391-ac38-4588-9244-40dda91f57f5",
   "metadata": {},
   "outputs": [
    {
     "name": "stdout",
     "output_type": "stream",
     "text": [
      "Mean Absolute Error: 73.91 degrees.\n"
     ]
    }
   ],
   "source": [
    "\n",
    "# Calculate the absolute errors\n",
    "errors = abs(pred - test_labels)\n",
    "# Print out the mean absolute error (mae)\n",
    "print('Mean Absolute Error:', round(np.mean(errors), 2), 'degrees.')"
   ]
  },
  {
   "cell_type": "code",
   "execution_count": 60,
   "id": "7a81cf82-1438-4499-aaf1-0268c3c7507a",
   "metadata": {},
   "outputs": [
    {
     "name": "stdout",
     "output_type": "stream",
     "text": [
      "Accuracy: 89.21 %.\n"
     ]
    }
   ],
   "source": [
    "# Calculate mean absolute percentage error (MAPE)\n",
    "mape = 100 * (errors / test_labels)\n",
    "# Calculate and display accuracy\n",
    "accuracy = 100 - np.mean(mape)\n",
    "print('Accuracy:', round(accuracy, 2), '%.')"
   ]
  },
  {
   "cell_type": "markdown",
   "id": "f8188340-4cc9-4344-8942-cec31162ccfe",
   "metadata": {},
   "source": [
    "# LASSO for Ecodistrict 729"
   ]
  },
  {
   "cell_type": "code",
   "execution_count": 61,
   "id": "439923c4-3f70-40b0-a7d8-a7a686c3a7b9",
   "metadata": {},
   "outputs": [],
   "source": [
    "aafc_data_729=aafc_data[aafc_data['ECODISTRICT_ID']==729.0]\n",
    "\n",
    "labels = np.array(aafc_data_729['YieldKgAcre'])\n",
    "\n",
    "features= aafc_data_729.drop(['YieldKgAcre','YEAR','TWP_ID','Unnamed: 0','ECODISTRICT_ID'], axis = 1)\n",
    "\n",
    "feature_list = list(features.columns)\n",
    "\n",
    "features = np.array(features)"
   ]
  },
  {
   "cell_type": "code",
   "execution_count": 62,
   "id": "693b1f89-f1e5-408f-8e56-7a0fa306dcd1",
   "metadata": {},
   "outputs": [],
   "source": [
    "\n",
    "# Split the data into training and testing sets\n",
    "train_features, test_features, train_labels, test_labels = train_test_split(features, labels, test_size = 0.25, random_state = 42)\n",
    "scaler = StandardScaler().fit(train_features)\n",
    "train_features = scaler.transform(train_features)\n",
    "\n",
    "test_features = scaler.transform(test_features)"
   ]
  },
  {
   "cell_type": "code",
   "execution_count": 63,
   "id": "0a81b0c3-f935-4cf9-bec1-51d8148b1fb8",
   "metadata": {},
   "outputs": [
    {
     "name": "stdout",
     "output_type": "stream",
     "text": [
      "Lasso(alpha=0.11212055741708106)\n"
     ]
    },
    {
     "name": "stderr",
     "output_type": "stream",
     "text": [
      "/Users/mayukha/opt/miniconda3/lib/python3.9/site-packages/sklearn/linear_model/_coordinate_descent.py:647: ConvergenceWarning: Objective did not converge. You might want to increase the number of iterations, check the scale of the features or consider increasing regularisation. Duality gap: 6.780e+04, tolerance: 2.205e+03\n",
      "  model = cd_fast.enet_coordinate_descent(\n"
     ]
    },
    {
     "data": {
      "text/plain": [
       "Lasso(alpha=0.11212055741708106)"
      ]
     },
     "execution_count": 63,
     "metadata": {},
     "output_type": "execute_result"
    }
   ],
   "source": [
    "model = LassoCV(cv=10, random_state=0, max_iter=10000)\n",
    "model.fit(train_features, train_labels)\n",
    "lasso_best = Lasso(alpha=model.alpha_)\n",
    "print(lasso_best)\n",
    "lasso_best.fit(train_features, train_labels)"
   ]
  },
  {
   "cell_type": "code",
   "execution_count": 64,
   "id": "7a659d81-0ab7-4b46-98d2-703fa9a148ea",
   "metadata": {},
   "outputs": [
    {
     "name": "stdout",
     "output_type": "stream",
     "text": [
      "R squared training set 81.52\n",
      "R squared test set 66.29\n"
     ]
    }
   ],
   "source": [
    "print('R squared training set', round(lasso_best.score(train_features, train_labels)*100, 2))\n",
    "print('R squared test set', round(lasso_best.score(test_features, test_labels)*100, 2))\n"
   ]
  },
  {
   "cell_type": "code",
   "execution_count": 65,
   "id": "e40d8f56-21fa-4556-bdf4-b141d48aeeb6",
   "metadata": {},
   "outputs": [
    {
     "name": "stdout",
     "output_type": "stream",
     "text": [
      "MSE training set 75.81\n",
      "MSE test set 85.2\n"
     ]
    }
   ],
   "source": [
    "from sklearn.metrics import mean_squared_error\n",
    "\n",
    "# Training data\n",
    "pred_train = lasso_best.predict(train_features)\n",
    "mse_train = mean_squared_error(train_labels, pred_train,squared=False)\n",
    "print('MSE training set', round(mse_train, 2))\n",
    "\n",
    "# Test data\n",
    "pred = lasso_best.predict(test_features)\n",
    "mse_test =mean_squared_error(test_labels, pred,squared=False)\n",
    "print('MSE test set', round(mse_test, 2))"
   ]
  },
  {
   "cell_type": "code",
   "execution_count": 66,
   "id": "f462e7a5-1e7c-4865-9a8c-ae21b9f36c78",
   "metadata": {},
   "outputs": [
    {
     "name": "stdout",
     "output_type": "stream",
     "text": [
      "Mean Absolute Error: 65.27 degrees.\n"
     ]
    }
   ],
   "source": [
    "\n",
    "# Calculate the absolute errors\n",
    "errors = abs(pred - test_labels)\n",
    "# Print out the mean absolute error (mae)\n",
    "print('Mean Absolute Error:', round(np.mean(errors), 2), 'degrees.')"
   ]
  },
  {
   "cell_type": "code",
   "execution_count": 67,
   "id": "e8c6ff1f-b984-42b1-bfc2-a82493a3861e",
   "metadata": {},
   "outputs": [
    {
     "name": "stdout",
     "output_type": "stream",
     "text": [
      "Accuracy: 92.86 %.\n"
     ]
    }
   ],
   "source": [
    "# Calculate mean absolute percentage error (MAPE)\n",
    "mape = 100 * (errors / test_labels)\n",
    "# Calculate and display accuracy\n",
    "accuracy = 100 - np.mean(mape)\n",
    "print('Accuracy:', round(accuracy, 2), '%.')"
   ]
  },
  {
   "cell_type": "markdown",
   "id": "52608712-5124-41cc-994c-96132fdd8efd",
   "metadata": {},
   "source": [
    "# LASSO for Ecodistrict 753"
   ]
  },
  {
   "cell_type": "code",
   "execution_count": 68,
   "id": "650cad01-8960-4b75-a95a-183be5463176",
   "metadata": {},
   "outputs": [],
   "source": [
    "aafc_data_753=aafc_data[aafc_data['ECODISTRICT_ID']==753.0]\n",
    "\n",
    "labels = np.array(aafc_data_753['YieldKgAcre'])\n",
    "\n",
    "features= aafc_data_753.drop(['YieldKgAcre','YEAR','TWP_ID','Unnamed: 0','ECODISTRICT_ID'], axis = 1)\n",
    "\n",
    "feature_list = list(features.columns)\n",
    "\n",
    "features = np.array(features)"
   ]
  },
  {
   "cell_type": "code",
   "execution_count": 69,
   "id": "0575b119-a8ec-459d-ab37-87ee98d7d921",
   "metadata": {},
   "outputs": [],
   "source": [
    "\n",
    "# Split the data into training and testing sets\n",
    "train_features, test_features, train_labels, test_labels = train_test_split(features, labels, test_size = 0.25, random_state = 42)\n",
    "scaler = StandardScaler().fit(train_features)\n",
    "train_features = scaler.transform(train_features)\n",
    "\n",
    "test_features = scaler.transform(test_features)"
   ]
  },
  {
   "cell_type": "code",
   "execution_count": 70,
   "id": "af165c8f-177c-423c-aa03-01bbee5b7187",
   "metadata": {},
   "outputs": [
    {
     "name": "stdout",
     "output_type": "stream",
     "text": [
      "Lasso(alpha=0.13534582567858963)\n"
     ]
    },
    {
     "name": "stderr",
     "output_type": "stream",
     "text": [
      "/Users/mayukha/opt/miniconda3/lib/python3.9/site-packages/sklearn/linear_model/_coordinate_descent.py:647: ConvergenceWarning: Objective did not converge. You might want to increase the number of iterations, check the scale of the features or consider increasing regularisation. Duality gap: 1.705e+04, tolerance: 2.282e+03\n",
      "  model = cd_fast.enet_coordinate_descent(\n"
     ]
    },
    {
     "data": {
      "text/plain": [
       "Lasso(alpha=0.13534582567858963)"
      ]
     },
     "execution_count": 70,
     "metadata": {},
     "output_type": "execute_result"
    }
   ],
   "source": [
    "model = LassoCV(cv=10, random_state=0, max_iter=10000)\n",
    "model.fit(train_features, train_labels)\n",
    "lasso_best = Lasso(alpha=model.alpha_)\n",
    "print(lasso_best)\n",
    "lasso_best.fit(train_features, train_labels)"
   ]
  },
  {
   "cell_type": "code",
   "execution_count": 71,
   "id": "f847727c-9ece-4250-886e-eee2c4a662de",
   "metadata": {},
   "outputs": [
    {
     "name": "stdout",
     "output_type": "stream",
     "text": [
      "R squared training set 89.44\n",
      "R squared test set 82.58\n"
     ]
    }
   ],
   "source": [
    "print('R squared training set', round(lasso_best.score(train_features, train_labels)*100, 2))\n",
    "print('R squared test set', round(lasso_best.score(test_features, test_labels)*100, 2))\n"
   ]
  },
  {
   "cell_type": "code",
   "execution_count": 72,
   "id": "cc056ca6-7768-4f4d-b8f0-c20c0b39eb6a",
   "metadata": {},
   "outputs": [
    {
     "name": "stdout",
     "output_type": "stream",
     "text": [
      "MSE training set 58.3\n",
      "MSE test set 69.73\n"
     ]
    }
   ],
   "source": [
    "from sklearn.metrics import mean_squared_error\n",
    "\n",
    "# Training data\n",
    "pred_train = lasso_best.predict(train_features)\n",
    "mse_train = mean_squared_error(train_labels, pred_train,squared=False)\n",
    "print('MSE training set', round(mse_train, 2))\n",
    "\n",
    "# Test data\n",
    "pred = lasso_best.predict(test_features)\n",
    "mse_test =mean_squared_error(test_labels, pred,squared=False)\n",
    "print('MSE test set', round(mse_test, 2))"
   ]
  },
  {
   "cell_type": "code",
   "execution_count": 73,
   "id": "e1adfc0f-07eb-4c78-a5a3-9fcaa2c80424",
   "metadata": {},
   "outputs": [
    {
     "name": "stdout",
     "output_type": "stream",
     "text": [
      "Mean Absolute Error: 55.03 degrees.\n"
     ]
    }
   ],
   "source": [
    "\n",
    "# Calculate the absolute errors\n",
    "errors = abs(pred - test_labels)\n",
    "# Print out the mean absolute error (mae)\n",
    "print('Mean Absolute Error:', round(np.mean(errors), 2), 'degrees.')"
   ]
  },
  {
   "cell_type": "code",
   "execution_count": 74,
   "id": "3f596ce3-23b2-4fb2-8b71-5e83ea50c5ba",
   "metadata": {},
   "outputs": [
    {
     "name": "stdout",
     "output_type": "stream",
     "text": [
      "Accuracy: 93.86 %.\n"
     ]
    }
   ],
   "source": [
    "# Calculate mean absolute percentage error (MAPE)\n",
    "mape = 100 * (errors / test_labels)\n",
    "# Calculate and display accuracy\n",
    "accuracy = 100 - np.mean(mape)\n",
    "print('Accuracy:', round(accuracy, 2), '%.')"
   ]
  },
  {
   "cell_type": "markdown",
   "id": "21c75e8c-0091-4ef4-bd1c-d99ed6533004",
   "metadata": {},
   "source": [
    "# LASSO for Ecodistrict 709"
   ]
  },
  {
   "cell_type": "code",
   "execution_count": 75,
   "id": "6fbcdf62-c9b7-4216-9fe4-690bcf739248",
   "metadata": {},
   "outputs": [],
   "source": [
    "aafc_data_709=aafc_data[aafc_data['ECODISTRICT_ID']==709.0]\n",
    "\n",
    "labels = np.array(aafc_data_709['YieldKgAcre'])\n",
    "\n",
    "features= aafc_data_709.drop(['YieldKgAcre','YEAR','TWP_ID','Unnamed: 0','ECODISTRICT_ID'], axis = 1)\n",
    "\n",
    "feature_list = list(features.columns)\n",
    "\n",
    "features = np.array(features)"
   ]
  },
  {
   "cell_type": "code",
   "execution_count": 76,
   "id": "795cb66c-9032-4db8-9978-2da7caf9ed15",
   "metadata": {},
   "outputs": [],
   "source": [
    "\n",
    "# Split the data into training and testing sets\n",
    "train_features, test_features, train_labels, test_labels = train_test_split(features, labels, test_size = 0.25, random_state = 42)\n",
    "scaler = StandardScaler().fit(train_features)\n",
    "train_features = scaler.transform(train_features)\n",
    "\n",
    "test_features = scaler.transform(test_features)"
   ]
  },
  {
   "cell_type": "code",
   "execution_count": 77,
   "id": "5d570671-e675-42bf-b927-2686048c891e",
   "metadata": {},
   "outputs": [
    {
     "name": "stdout",
     "output_type": "stream",
     "text": [
      "Lasso(alpha=0.16865185704287242)\n"
     ]
    },
    {
     "name": "stderr",
     "output_type": "stream",
     "text": [
      "/Users/mayukha/opt/miniconda3/lib/python3.9/site-packages/sklearn/linear_model/_coordinate_descent.py:647: ConvergenceWarning: Objective did not converge. You might want to increase the number of iterations, check the scale of the features or consider increasing regularisation. Duality gap: 4.128e+04, tolerance: 4.033e+03\n",
      "  model = cd_fast.enet_coordinate_descent(\n"
     ]
    },
    {
     "data": {
      "text/plain": [
       "Lasso(alpha=0.16865185704287242)"
      ]
     },
     "execution_count": 77,
     "metadata": {},
     "output_type": "execute_result"
    }
   ],
   "source": [
    "model = LassoCV(cv=10, random_state=0, max_iter=10000)\n",
    "model.fit(train_features, train_labels)\n",
    "lasso_best = Lasso(alpha=model.alpha_)\n",
    "print(lasso_best)\n",
    "lasso_best.fit(train_features, train_labels)"
   ]
  },
  {
   "cell_type": "code",
   "execution_count": 78,
   "id": "dd2512a4-edaf-4862-8c38-c904000b734a",
   "metadata": {},
   "outputs": [
    {
     "name": "stdout",
     "output_type": "stream",
     "text": [
      "R squared training set 88.65\n",
      "R squared test set 82.8\n"
     ]
    }
   ],
   "source": [
    "print('R squared training set', round(lasso_best.score(train_features, train_labels)*100, 2))\n",
    "print('R squared test set', round(lasso_best.score(test_features, test_labels)*100, 2))\n"
   ]
  },
  {
   "cell_type": "code",
   "execution_count": 79,
   "id": "985f447b-d920-482e-a8e5-c24e8d0718ab",
   "metadata": {},
   "outputs": [
    {
     "name": "stdout",
     "output_type": "stream",
     "text": [
      "MSE training set 81.82\n",
      "MSE test set 103.32\n"
     ]
    }
   ],
   "source": [
    "from sklearn.metrics import mean_squared_error\n",
    "\n",
    "# Training data\n",
    "pred_train = lasso_best.predict(train_features)\n",
    "mse_train = mean_squared_error(train_labels, pred_train,squared=False)\n",
    "print('MSE training set', round(mse_train, 2))\n",
    "\n",
    "# Test data\n",
    "pred = lasso_best.predict(test_features)\n",
    "mse_test =mean_squared_error(test_labels, pred,squared=False)\n",
    "print('MSE test set', round(mse_test, 2))"
   ]
  },
  {
   "cell_type": "code",
   "execution_count": 80,
   "id": "1fce4ec8-354b-44a0-99fa-3a815bb7f823",
   "metadata": {},
   "outputs": [
    {
     "name": "stdout",
     "output_type": "stream",
     "text": [
      "Mean Absolute Error: 77.41 degrees.\n"
     ]
    }
   ],
   "source": [
    "\n",
    "# Calculate the absolute errors\n",
    "errors = abs(pred - test_labels)\n",
    "# Print out the mean absolute error (mae)\n",
    "print('Mean Absolute Error:', round(np.mean(errors), 2), 'degrees.')"
   ]
  },
  {
   "cell_type": "code",
   "execution_count": 81,
   "id": "54726ed4-8be0-472f-8b93-867a9ffa7dd4",
   "metadata": {},
   "outputs": [
    {
     "name": "stdout",
     "output_type": "stream",
     "text": [
      "Accuracy: 90.63 %.\n"
     ]
    }
   ],
   "source": [
    "# Calculate mean absolute percentage error (MAPE)\n",
    "mape = 100 * (errors / test_labels)\n",
    "# Calculate and display accuracy\n",
    "accuracy = 100 - np.mean(mape)\n",
    "print('Accuracy:', round(accuracy, 2), '%.')"
   ]
  }
 ],
 "metadata": {
  "kernelspec": {
   "display_name": "Python 3 (ipykernel)",
   "language": "python",
   "name": "python3"
  },
  "language_info": {
   "codemirror_mode": {
    "name": "ipython",
    "version": 3
   },
   "file_extension": ".py",
   "mimetype": "text/x-python",
   "name": "python",
   "nbconvert_exporter": "python",
   "pygments_lexer": "ipython3",
   "version": "3.9.12"
  }
 },
 "nbformat": 4,
 "nbformat_minor": 5
}
