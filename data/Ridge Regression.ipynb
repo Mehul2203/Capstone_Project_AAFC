{
 "cells": [
  {
   "cell_type": "markdown",
   "id": "1ff0056a-1165-40ff-a826-9fe361d962a8",
   "metadata": {},
   "source": [
    "## Ridge Regression"
   ]
  },
  {
   "cell_type": "code",
   "execution_count": 131,
   "id": "04286471-364a-4cd8-9739-fd6e5e096909",
   "metadata": {},
   "outputs": [],
   "source": [
    "import pandas as pd\n",
    "import numpy as np\n",
    "from sklearn import model_selection\n",
    "from sklearn.linear_model import LinearRegression\n",
    "from sklearn.linear_model import Ridge\n",
    "from sklearn.linear_model import Lasso\n",
    "from sklearn.linear_model import ElasticNet\n",
    "from sklearn.neighbors import KNeighborsRegressor\n",
    "from sklearn.tree import DecisionTreeRegressor\n",
    "from sklearn.svm import SVR\n",
    "from sklearn.ensemble import RandomForestRegressor\n",
    "from sklearn.metrics import r2_score\n",
    "from sklearn.model_selection import train_test_split\n",
    "from sklearn.metrics import mean_squared_error\n",
    "from sklearn.model_selection import RepeatedKFold\n",
    "from sklearn.linear_model import RidgeCV\n",
    "from sklearn.preprocessing import scale\n",
    "from math import sqrt"
   ]
  },
  {
   "cell_type": "code",
   "execution_count": 132,
   "id": "98cf5c90-b750-4d68-b79b-25be282a59af",
   "metadata": {},
   "outputs": [
    {
     "name": "stdout",
     "output_type": "stream",
     "text": [
      "(42007, 166)\n",
      "\n",
      "\n"
     ]
    },
    {
     "data": {
      "text/html": [
       "<div>\n",
       "<style scoped>\n",
       "    .dataframe tbody tr th:only-of-type {\n",
       "        vertical-align: middle;\n",
       "    }\n",
       "\n",
       "    .dataframe tbody tr th {\n",
       "        vertical-align: top;\n",
       "    }\n",
       "\n",
       "    .dataframe thead th {\n",
       "        text-align: right;\n",
       "    }\n",
       "</style>\n",
       "<table border=\"1\" class=\"dataframe\">\n",
       "  <thead>\n",
       "    <tr style=\"text-align: right;\">\n",
       "      <th></th>\n",
       "      <th>Unnamed: 0</th>\n",
       "      <th>TWP_ID</th>\n",
       "      <th>ECODISTRICT_ID</th>\n",
       "      <th>YEAR</th>\n",
       "      <th>YieldKgAcre</th>\n",
       "      <th>SumPcpn18_20</th>\n",
       "      <th>SumPcpn19_21</th>\n",
       "      <th>SumPcpn20_22</th>\n",
       "      <th>SumPcpn21_23</th>\n",
       "      <th>SumPcpn22_24</th>\n",
       "      <th>...</th>\n",
       "      <th>SoilMoisture29_31</th>\n",
       "      <th>SoilMoisture30_32</th>\n",
       "      <th>SoilMoisture31_33</th>\n",
       "      <th>SoilMoisture32_34</th>\n",
       "      <th>SoilMoisture33_35</th>\n",
       "      <th>SoilMoisture34_36</th>\n",
       "      <th>SoilMoisture35_37</th>\n",
       "      <th>SoilMoisture36_38</th>\n",
       "      <th>SoilMoisture37_39</th>\n",
       "      <th>SoilMoisture38_40</th>\n",
       "    </tr>\n",
       "  </thead>\n",
       "  <tbody>\n",
       "    <tr>\n",
       "      <th>0</th>\n",
       "      <td>0</td>\n",
       "      <td>00101E1</td>\n",
       "      <td>852.0</td>\n",
       "      <td>2010</td>\n",
       "      <td>867.766846</td>\n",
       "      <td>53.6</td>\n",
       "      <td>111.1</td>\n",
       "      <td>109.7</td>\n",
       "      <td>117.9</td>\n",
       "      <td>46.4</td>\n",
       "      <td>...</td>\n",
       "      <td>16.960125</td>\n",
       "      <td>18.766207</td>\n",
       "      <td>17.186998</td>\n",
       "      <td>15.461519</td>\n",
       "      <td>19.738222</td>\n",
       "      <td>22.958089</td>\n",
       "      <td>27.206203</td>\n",
       "      <td>26.480087</td>\n",
       "      <td>28.678156</td>\n",
       "      <td>26.308484</td>\n",
       "    </tr>\n",
       "    <tr>\n",
       "      <th>1</th>\n",
       "      <td>1</td>\n",
       "      <td>00101W1</td>\n",
       "      <td>852.0</td>\n",
       "      <td>2010</td>\n",
       "      <td>673.685028</td>\n",
       "      <td>57.2</td>\n",
       "      <td>114.7</td>\n",
       "      <td>110.5</td>\n",
       "      <td>114.0</td>\n",
       "      <td>46.2</td>\n",
       "      <td>...</td>\n",
       "      <td>16.328520</td>\n",
       "      <td>17.926029</td>\n",
       "      <td>16.787544</td>\n",
       "      <td>14.779726</td>\n",
       "      <td>20.245149</td>\n",
       "      <td>23.608204</td>\n",
       "      <td>28.560990</td>\n",
       "      <td>27.324254</td>\n",
       "      <td>29.079177</td>\n",
       "      <td>26.927224</td>\n",
       "    </tr>\n",
       "    <tr>\n",
       "      <th>2</th>\n",
       "      <td>2</td>\n",
       "      <td>00101W2</td>\n",
       "      <td>796.0</td>\n",
       "      <td>2010</td>\n",
       "      <td>824.303864</td>\n",
       "      <td>39.0</td>\n",
       "      <td>96.4</td>\n",
       "      <td>109.8</td>\n",
       "      <td>101.2</td>\n",
       "      <td>111.4</td>\n",
       "      <td>...</td>\n",
       "      <td>13.117879</td>\n",
       "      <td>12.869142</td>\n",
       "      <td>12.831834</td>\n",
       "      <td>14.126196</td>\n",
       "      <td>16.385776</td>\n",
       "      <td>18.650751</td>\n",
       "      <td>20.287069</td>\n",
       "      <td>20.514132</td>\n",
       "      <td>19.564788</td>\n",
       "      <td>16.681692</td>\n",
       "    </tr>\n",
       "    <tr>\n",
       "      <th>3</th>\n",
       "      <td>3</td>\n",
       "      <td>00102E1</td>\n",
       "      <td>853.0</td>\n",
       "      <td>2010</td>\n",
       "      <td>1006.708496</td>\n",
       "      <td>37.5</td>\n",
       "      <td>158.2</td>\n",
       "      <td>157.8</td>\n",
       "      <td>161.4</td>\n",
       "      <td>46.9</td>\n",
       "      <td>...</td>\n",
       "      <td>17.060778</td>\n",
       "      <td>18.699156</td>\n",
       "      <td>17.345822</td>\n",
       "      <td>15.998957</td>\n",
       "      <td>20.091525</td>\n",
       "      <td>22.761273</td>\n",
       "      <td>26.337430</td>\n",
       "      <td>25.559602</td>\n",
       "      <td>27.611729</td>\n",
       "      <td>25.575794</td>\n",
       "    </tr>\n",
       "    <tr>\n",
       "      <th>4</th>\n",
       "      <td>4</td>\n",
       "      <td>00102W1</td>\n",
       "      <td>852.0</td>\n",
       "      <td>2010</td>\n",
       "      <td>869.040283</td>\n",
       "      <td>57.2</td>\n",
       "      <td>114.7</td>\n",
       "      <td>110.5</td>\n",
       "      <td>114.0</td>\n",
       "      <td>46.2</td>\n",
       "      <td>...</td>\n",
       "      <td>16.050993</td>\n",
       "      <td>17.556860</td>\n",
       "      <td>16.612026</td>\n",
       "      <td>14.480150</td>\n",
       "      <td>20.467884</td>\n",
       "      <td>23.893858</td>\n",
       "      <td>29.156274</td>\n",
       "      <td>27.695178</td>\n",
       "      <td>29.255386</td>\n",
       "      <td>27.199097</td>\n",
       "    </tr>\n",
       "  </tbody>\n",
       "</table>\n",
       "<p>5 rows × 166 columns</p>\n",
       "</div>"
      ],
      "text/plain": [
       "   Unnamed: 0   TWP_ID  ECODISTRICT_ID  YEAR  YieldKgAcre  SumPcpn18_20  \\\n",
       "0           0  00101E1           852.0  2010   867.766846          53.6   \n",
       "1           1  00101W1           852.0  2010   673.685028          57.2   \n",
       "2           2  00101W2           796.0  2010   824.303864          39.0   \n",
       "3           3  00102E1           853.0  2010  1006.708496          37.5   \n",
       "4           4  00102W1           852.0  2010   869.040283          57.2   \n",
       "\n",
       "   SumPcpn19_21  SumPcpn20_22  SumPcpn21_23  SumPcpn22_24  ...  \\\n",
       "0         111.1         109.7         117.9          46.4  ...   \n",
       "1         114.7         110.5         114.0          46.2  ...   \n",
       "2          96.4         109.8         101.2         111.4  ...   \n",
       "3         158.2         157.8         161.4          46.9  ...   \n",
       "4         114.7         110.5         114.0          46.2  ...   \n",
       "\n",
       "   SoilMoisture29_31  SoilMoisture30_32  SoilMoisture31_33  SoilMoisture32_34  \\\n",
       "0          16.960125          18.766207          17.186998          15.461519   \n",
       "1          16.328520          17.926029          16.787544          14.779726   \n",
       "2          13.117879          12.869142          12.831834          14.126196   \n",
       "3          17.060778          18.699156          17.345822          15.998957   \n",
       "4          16.050993          17.556860          16.612026          14.480150   \n",
       "\n",
       "   SoilMoisture33_35  SoilMoisture34_36  SoilMoisture35_37  SoilMoisture36_38  \\\n",
       "0          19.738222          22.958089          27.206203          26.480087   \n",
       "1          20.245149          23.608204          28.560990          27.324254   \n",
       "2          16.385776          18.650751          20.287069          20.514132   \n",
       "3          20.091525          22.761273          26.337430          25.559602   \n",
       "4          20.467884          23.893858          29.156274          27.695178   \n",
       "\n",
       "   SoilMoisture37_39  SoilMoisture38_40  \n",
       "0          28.678156          26.308484  \n",
       "1          29.079177          26.927224  \n",
       "2          19.564788          16.681692  \n",
       "3          27.611729          25.575794  \n",
       "4          29.255386          27.199097  \n",
       "\n",
       "[5 rows x 166 columns]"
      ]
     },
     "execution_count": 132,
     "metadata": {},
     "output_type": "execute_result"
    }
   ],
   "source": [
    "from matplotlib import pyplot\n",
    "import pandas as pd\n",
    "import numpy as np\n",
    "# load dataset\n",
    "\n",
    "dataframe = pd.read_csv(\"aafc_data.csv\")\n",
    "# summarize shape\n",
    "print(dataframe.shape)\n",
    "print(\"\\n\")\n",
    "# summarize first few lines\n",
    "dataframe.head()"
   ]
  },
  {
   "cell_type": "code",
   "execution_count": 133,
   "id": "115b2b66-9b5f-4699-824b-26fde7727d94",
   "metadata": {},
   "outputs": [],
   "source": [
    "dataframe.drop(['Unnamed: 0', 'TWP_ID', 'YEAR'], axis=1, inplace=True)"
   ]
  },
  {
   "cell_type": "code",
   "execution_count": 134,
   "id": "a45c0e6a-e05d-4748-a3df-71223c15f4f5",
   "metadata": {},
   "outputs": [
    {
     "data": {
      "text/html": [
       "<div>\n",
       "<style scoped>\n",
       "    .dataframe tbody tr th:only-of-type {\n",
       "        vertical-align: middle;\n",
       "    }\n",
       "\n",
       "    .dataframe tbody tr th {\n",
       "        vertical-align: top;\n",
       "    }\n",
       "\n",
       "    .dataframe thead th {\n",
       "        text-align: right;\n",
       "    }\n",
       "</style>\n",
       "<table border=\"1\" class=\"dataframe\">\n",
       "  <thead>\n",
       "    <tr style=\"text-align: right;\">\n",
       "      <th></th>\n",
       "      <th>ECODISTRICT_ID</th>\n",
       "      <th>YieldKgAcre</th>\n",
       "      <th>SumPcpn18_20</th>\n",
       "      <th>SumPcpn19_21</th>\n",
       "      <th>SumPcpn20_22</th>\n",
       "      <th>SumPcpn21_23</th>\n",
       "      <th>SumPcpn22_24</th>\n",
       "      <th>SumPcpn23_25</th>\n",
       "      <th>SumPcpn24_26</th>\n",
       "      <th>SumPcpn25_27</th>\n",
       "      <th>...</th>\n",
       "      <th>SoilMoisture29_31</th>\n",
       "      <th>SoilMoisture30_32</th>\n",
       "      <th>SoilMoisture31_33</th>\n",
       "      <th>SoilMoisture32_34</th>\n",
       "      <th>SoilMoisture33_35</th>\n",
       "      <th>SoilMoisture34_36</th>\n",
       "      <th>SoilMoisture35_37</th>\n",
       "      <th>SoilMoisture36_38</th>\n",
       "      <th>SoilMoisture37_39</th>\n",
       "      <th>SoilMoisture38_40</th>\n",
       "    </tr>\n",
       "  </thead>\n",
       "  <tbody>\n",
       "    <tr>\n",
       "      <th>0</th>\n",
       "      <td>852.0</td>\n",
       "      <td>867.766846</td>\n",
       "      <td>53.6</td>\n",
       "      <td>111.1</td>\n",
       "      <td>109.7</td>\n",
       "      <td>117.9</td>\n",
       "      <td>46.4</td>\n",
       "      <td>69.3</td>\n",
       "      <td>60.0</td>\n",
       "      <td>44.6</td>\n",
       "      <td>...</td>\n",
       "      <td>16.960125</td>\n",
       "      <td>18.766207</td>\n",
       "      <td>17.186998</td>\n",
       "      <td>15.461519</td>\n",
       "      <td>19.738222</td>\n",
       "      <td>22.958089</td>\n",
       "      <td>27.206203</td>\n",
       "      <td>26.480087</td>\n",
       "      <td>28.678156</td>\n",
       "      <td>26.308484</td>\n",
       "    </tr>\n",
       "    <tr>\n",
       "      <th>1</th>\n",
       "      <td>852.0</td>\n",
       "      <td>673.685028</td>\n",
       "      <td>57.2</td>\n",
       "      <td>114.7</td>\n",
       "      <td>110.5</td>\n",
       "      <td>114.0</td>\n",
       "      <td>46.2</td>\n",
       "      <td>68.1</td>\n",
       "      <td>55.9</td>\n",
       "      <td>34.9</td>\n",
       "      <td>...</td>\n",
       "      <td>16.328520</td>\n",
       "      <td>17.926029</td>\n",
       "      <td>16.787544</td>\n",
       "      <td>14.779726</td>\n",
       "      <td>20.245149</td>\n",
       "      <td>23.608204</td>\n",
       "      <td>28.560990</td>\n",
       "      <td>27.324254</td>\n",
       "      <td>29.079177</td>\n",
       "      <td>26.927224</td>\n",
       "    </tr>\n",
       "    <tr>\n",
       "      <th>2</th>\n",
       "      <td>796.0</td>\n",
       "      <td>824.303864</td>\n",
       "      <td>39.0</td>\n",
       "      <td>96.4</td>\n",
       "      <td>109.8</td>\n",
       "      <td>101.2</td>\n",
       "      <td>111.4</td>\n",
       "      <td>153.0</td>\n",
       "      <td>163.6</td>\n",
       "      <td>98.8</td>\n",
       "      <td>...</td>\n",
       "      <td>13.117879</td>\n",
       "      <td>12.869142</td>\n",
       "      <td>12.831834</td>\n",
       "      <td>14.126196</td>\n",
       "      <td>16.385776</td>\n",
       "      <td>18.650751</td>\n",
       "      <td>20.287069</td>\n",
       "      <td>20.514132</td>\n",
       "      <td>19.564788</td>\n",
       "      <td>16.681692</td>\n",
       "    </tr>\n",
       "    <tr>\n",
       "      <th>3</th>\n",
       "      <td>853.0</td>\n",
       "      <td>1006.708496</td>\n",
       "      <td>37.5</td>\n",
       "      <td>158.2</td>\n",
       "      <td>157.8</td>\n",
       "      <td>161.4</td>\n",
       "      <td>46.9</td>\n",
       "      <td>79.5</td>\n",
       "      <td>67.5</td>\n",
       "      <td>40.4</td>\n",
       "      <td>...</td>\n",
       "      <td>17.060778</td>\n",
       "      <td>18.699156</td>\n",
       "      <td>17.345822</td>\n",
       "      <td>15.998957</td>\n",
       "      <td>20.091525</td>\n",
       "      <td>22.761273</td>\n",
       "      <td>26.337430</td>\n",
       "      <td>25.559602</td>\n",
       "      <td>27.611729</td>\n",
       "      <td>25.575794</td>\n",
       "    </tr>\n",
       "    <tr>\n",
       "      <th>4</th>\n",
       "      <td>852.0</td>\n",
       "      <td>869.040283</td>\n",
       "      <td>57.2</td>\n",
       "      <td>114.7</td>\n",
       "      <td>110.5</td>\n",
       "      <td>114.0</td>\n",
       "      <td>46.2</td>\n",
       "      <td>68.1</td>\n",
       "      <td>55.9</td>\n",
       "      <td>34.9</td>\n",
       "      <td>...</td>\n",
       "      <td>16.050993</td>\n",
       "      <td>17.556860</td>\n",
       "      <td>16.612026</td>\n",
       "      <td>14.480150</td>\n",
       "      <td>20.467884</td>\n",
       "      <td>23.893858</td>\n",
       "      <td>29.156274</td>\n",
       "      <td>27.695178</td>\n",
       "      <td>29.255386</td>\n",
       "      <td>27.199097</td>\n",
       "    </tr>\n",
       "  </tbody>\n",
       "</table>\n",
       "<p>5 rows × 163 columns</p>\n",
       "</div>"
      ],
      "text/plain": [
       "   ECODISTRICT_ID  YieldKgAcre  SumPcpn18_20  SumPcpn19_21  SumPcpn20_22  \\\n",
       "0           852.0   867.766846          53.6         111.1         109.7   \n",
       "1           852.0   673.685028          57.2         114.7         110.5   \n",
       "2           796.0   824.303864          39.0          96.4         109.8   \n",
       "3           853.0  1006.708496          37.5         158.2         157.8   \n",
       "4           852.0   869.040283          57.2         114.7         110.5   \n",
       "\n",
       "   SumPcpn21_23  SumPcpn22_24  SumPcpn23_25  SumPcpn24_26  SumPcpn25_27  ...  \\\n",
       "0         117.9          46.4          69.3          60.0          44.6  ...   \n",
       "1         114.0          46.2          68.1          55.9          34.9  ...   \n",
       "2         101.2         111.4         153.0         163.6          98.8  ...   \n",
       "3         161.4          46.9          79.5          67.5          40.4  ...   \n",
       "4         114.0          46.2          68.1          55.9          34.9  ...   \n",
       "\n",
       "   SoilMoisture29_31  SoilMoisture30_32  SoilMoisture31_33  SoilMoisture32_34  \\\n",
       "0          16.960125          18.766207          17.186998          15.461519   \n",
       "1          16.328520          17.926029          16.787544          14.779726   \n",
       "2          13.117879          12.869142          12.831834          14.126196   \n",
       "3          17.060778          18.699156          17.345822          15.998957   \n",
       "4          16.050993          17.556860          16.612026          14.480150   \n",
       "\n",
       "   SoilMoisture33_35  SoilMoisture34_36  SoilMoisture35_37  SoilMoisture36_38  \\\n",
       "0          19.738222          22.958089          27.206203          26.480087   \n",
       "1          20.245149          23.608204          28.560990          27.324254   \n",
       "2          16.385776          18.650751          20.287069          20.514132   \n",
       "3          20.091525          22.761273          26.337430          25.559602   \n",
       "4          20.467884          23.893858          29.156274          27.695178   \n",
       "\n",
       "   SoilMoisture37_39  SoilMoisture38_40  \n",
       "0          28.678156          26.308484  \n",
       "1          29.079177          26.927224  \n",
       "2          19.564788          16.681692  \n",
       "3          27.611729          25.575794  \n",
       "4          29.255386          27.199097  \n",
       "\n",
       "[5 rows x 163 columns]"
      ]
     },
     "execution_count": 134,
     "metadata": {},
     "output_type": "execute_result"
    }
   ],
   "source": [
    "dataframe.head()"
   ]
  },
  {
   "cell_type": "markdown",
   "id": "af20fa3b-4fb7-4927-887a-ae21ce08ab27",
   "metadata": {},
   "source": [
    "---"
   ]
  },
  {
   "cell_type": "code",
   "execution_count": 135,
   "id": "0f54c5a9-5cc0-4790-abff-2b17b09c1299",
   "metadata": {},
   "outputs": [
    {
     "name": "stderr",
     "output_type": "stream",
     "text": [
      "C:\\Users\\Mehul Bhargava\\miniconda3\\lib\\site-packages\\pandas\\core\\frame.py:4906: SettingWithCopyWarning: \n",
      "A value is trying to be set on a copy of a slice from a DataFrame\n",
      "\n",
      "See the caveats in the documentation: https://pandas.pydata.org/pandas-docs/stable/user_guide/indexing.html#returning-a-view-versus-a-copy\n",
      "  return super().drop(\n"
     ]
    }
   ],
   "source": [
    "df1 = dataframe[dataframe['ECODISTRICT_ID']==748]\n",
    "df1.drop(['ECODISTRICT_ID'], axis=1, inplace=True)\n",
    "# split data into X and y\n",
    "x = pd.DataFrame(df1.drop(labels=['YieldKgAcre'], axis=1))\n",
    "y = pd.DataFrame(df1['YieldKgAcre'])"
   ]
  },
  {
   "cell_type": "code",
   "execution_count": 136,
   "id": "dda772f7-1ff1-4e93-8717-b909760b148e",
   "metadata": {},
   "outputs": [
    {
     "name": "stdout",
     "output_type": "stream",
     "text": [
      "(839, 161)\n",
      "(360, 161)\n"
     ]
    }
   ],
   "source": [
    "X_train, X_test, y_train, y_test = train_test_split(x, y, test_size=0.30, random_state=40)\n",
    "\n",
    "# Run standardization on X variables\n",
    "X_train = scale(X_train)\n",
    "X_test = scale(X_test)\n",
    "\n",
    "print(X_train.shape); print(X_test.shape)\n"
   ]
  },
  {
   "cell_type": "code",
   "execution_count": 137,
   "id": "f1abb220-79b9-4707-addc-1dc81d1d71ba",
   "metadata": {},
   "outputs": [
    {
     "name": "stdout",
     "output_type": "stream",
     "text": [
      "Train MSE:  76.1919905362895\n",
      "R squared training set:  84.72096804187296\n",
      "Test MSE:  87.90676524170678\n",
      "R squared test set:  80.78561045557035\n",
      "Mean Absolute Error: YieldKgAcre    69.988648\n",
      "dtype: float64 degrees.\n",
      "Accuracy: YieldKgAcre    90.11\n",
      "dtype: float64 %.\n"
     ]
    }
   ],
   "source": [
    "rr = Ridge(alpha=0.01)\n",
    "rr = RidgeCV(alphas=[0.1, 1.0, 10.0], cv=10)\n",
    "rr.fit(X_train, y_train) \n",
    "pred_train_rr= rr.predict(X_train)\n",
    "print(\"Train MSE: \", np.sqrt(mean_squared_error(y_train,pred_train_rr)))\n",
    "print(\"R squared training set: \", r2_score(y_train, pred_train_rr)*100)\n",
    "\n",
    "pred_test_rr= rr.predict(X_test)\n",
    "print(\"Test MSE: \", np.sqrt(mean_squared_error(y_test,pred_test_rr))) \n",
    "print(\"R squared test set: \", r2_score(y_test, pred_test_rr)*100)\n",
    "\n",
    "\n",
    "\n",
    "\n",
    "\n",
    "\n",
    "# Calculate the absolute errors\n",
    "errors = abs(pred_test_rr - y_test)\n",
    "\n",
    " # Print out the mean absolute error (mae)\n",
    "print('Mean Absolute Error:', np.mean(errors), 'degrees.')\n",
    "\n",
    "\n",
    "\n",
    "# Calculate mean absolute percentage error (MAPE)\n",
    "mape = 100 * (errors / y_test)\n",
    "# Calculate and display accuracy\n",
    "accuracy = 100 - np.mean(mape)\n",
    "print('Accuracy:', round(accuracy, 2), '%.')"
   ]
  },
  {
   "cell_type": "markdown",
   "id": "a73d6a9a-53e6-43d1-8d45-f85ef8a4e490",
   "metadata": {},
   "source": [
    "---"
   ]
  },
  {
   "cell_type": "code",
   "execution_count": 138,
   "id": "be4dc020-aa37-4d39-9aae-03235d97a6cc",
   "metadata": {},
   "outputs": [
    {
     "name": "stderr",
     "output_type": "stream",
     "text": [
      "C:\\Users\\Mehul Bhargava\\miniconda3\\lib\\site-packages\\pandas\\core\\frame.py:4906: SettingWithCopyWarning: \n",
      "A value is trying to be set on a copy of a slice from a DataFrame\n",
      "\n",
      "See the caveats in the documentation: https://pandas.pydata.org/pandas-docs/stable/user_guide/indexing.html#returning-a-view-versus-a-copy\n",
      "  return super().drop(\n"
     ]
    }
   ],
   "source": [
    "df2 = dataframe[dataframe['ECODISTRICT_ID']==826]\n",
    "df2.drop(['ECODISTRICT_ID'], axis=1, inplace=True)\n",
    "# split data into X and y\n",
    "x = pd.DataFrame(df2.drop(labels=['YieldKgAcre'], axis=1))\n",
    "y = pd.DataFrame(df2['YieldKgAcre'])"
   ]
  },
  {
   "cell_type": "code",
   "execution_count": 139,
   "id": "67758728-5980-491b-82c2-a4dd4adf7486",
   "metadata": {},
   "outputs": [
    {
     "name": "stdout",
     "output_type": "stream",
     "text": [
      "(823, 161)\n",
      "(354, 161)\n"
     ]
    }
   ],
   "source": [
    "X_train, X_test, y_train, y_test = train_test_split(x, y, test_size=0.30, random_state=40)\n",
    "\n",
    "# Run standardization on X variables\n",
    "X_train = scale(X_train)\n",
    "X_test = scale(X_test)\n",
    "\n",
    "print(X_train.shape); print(X_test.shape)"
   ]
  },
  {
   "cell_type": "code",
   "execution_count": 140,
   "id": "8891fe58-773e-41a9-9e47-72ac46402569",
   "metadata": {},
   "outputs": [
    {
     "name": "stdout",
     "output_type": "stream",
     "text": [
      "Train MSE:  101.09165827651603\n",
      "R squared training set:  75.60317443634008\n",
      "Test MSE:  105.57282197153029\n",
      "R squared test set:  73.57893809551786\n",
      "Mean Absolute Error: YieldKgAcre    82.970694\n",
      "dtype: float64 degrees.\n",
      "Accuracy: YieldKgAcre    87.34\n",
      "dtype: float64 %.\n"
     ]
    }
   ],
   "source": [
    "rr = Ridge(alpha=0.01)\n",
    "rr = RidgeCV(alphas=[0.1, 1.0, 10.0], cv=10)\n",
    "rr.fit(X_train, y_train) \n",
    "pred_train_rr= rr.predict(X_train)\n",
    "print(\"Train MSE: \", np.sqrt(mean_squared_error(y_train,pred_train_rr)))\n",
    "print(\"R squared training set: \", r2_score(y_train, pred_train_rr)*100)\n",
    "\n",
    "pred_test_rr= rr.predict(X_test)\n",
    "print(\"Test MSE: \", np.sqrt(mean_squared_error(y_test,pred_test_rr))) \n",
    "print(\"R squared test set: \", r2_score(y_test, pred_test_rr)*100)\n",
    "\n",
    "\n",
    "\n",
    "\n",
    "\n",
    "\n",
    "# Calculate the absolute errors\n",
    "errors = abs(pred_test_rr - y_test)\n",
    "\n",
    " # Print out the mean absolute error (mae)\n",
    "print('Mean Absolute Error:', np.mean(errors), 'degrees.')\n",
    "\n",
    "\n",
    "\n",
    "# Calculate mean absolute percentage error (MAPE)\n",
    "mape = 100 * (errors / y_test)\n",
    "# Calculate and display accuracy\n",
    "accuracy = 100 - np.mean(mape)\n",
    "print('Accuracy:', round(accuracy, 2), '%.')"
   ]
  },
  {
   "cell_type": "markdown",
   "id": "1cf3c0be-4c15-418f-933f-a1d005955c17",
   "metadata": {},
   "source": [
    "---"
   ]
  },
  {
   "cell_type": "code",
   "execution_count": 141,
   "id": "71fa9bc7-d66d-44a9-9e47-cff40bd32674",
   "metadata": {},
   "outputs": [
    {
     "name": "stderr",
     "output_type": "stream",
     "text": [
      "C:\\Users\\Mehul Bhargava\\miniconda3\\lib\\site-packages\\pandas\\core\\frame.py:4906: SettingWithCopyWarning: \n",
      "A value is trying to be set on a copy of a slice from a DataFrame\n",
      "\n",
      "See the caveats in the documentation: https://pandas.pydata.org/pandas-docs/stable/user_guide/indexing.html#returning-a-view-versus-a-copy\n",
      "  return super().drop(\n"
     ]
    }
   ],
   "source": [
    "df3 = dataframe[dataframe['ECODISTRICT_ID']==752]\n",
    "df3.drop(['ECODISTRICT_ID'], axis=1, inplace=True)\n",
    "# split data into X and y\n",
    "x = pd.DataFrame(df3.drop(labels=['YieldKgAcre'], axis=1))\n",
    "y = pd.DataFrame(df3['YieldKgAcre'])"
   ]
  },
  {
   "cell_type": "code",
   "execution_count": 142,
   "id": "c53efd2f-8733-4379-aecb-bb350bcc22fe",
   "metadata": {},
   "outputs": [
    {
     "name": "stdout",
     "output_type": "stream",
     "text": [
      "(777, 161)\n",
      "(334, 161)\n"
     ]
    }
   ],
   "source": [
    "X_train, X_test, y_train, y_test = train_test_split(x, y, test_size=0.30, random_state=40)\n",
    "\n",
    "# Run standardization on X variables\n",
    "X_train = scale(X_train)\n",
    "X_test = scale(X_test)\n",
    "\n",
    "print(X_train.shape); print(X_test.shape)"
   ]
  },
  {
   "cell_type": "code",
   "execution_count": 143,
   "id": "b2699470-a0b7-4c12-a75b-71f3c0978b88",
   "metadata": {},
   "outputs": [
    {
     "name": "stdout",
     "output_type": "stream",
     "text": [
      "Train MSE:  78.66255663549335\n",
      "R squared training set:  86.53688382863933\n",
      "Test MSE:  92.89526127482065\n",
      "R squared test set:  77.86303456647643\n",
      "Mean Absolute Error: YieldKgAcre    71.969368\n",
      "dtype: float64 degrees.\n",
      "Accuracy: YieldKgAcre    90.07\n",
      "dtype: float64 %.\n"
     ]
    }
   ],
   "source": [
    "rr = Ridge(alpha=0.01)\n",
    "rr = RidgeCV(alphas=[0.1, 1.0, 10.0], cv=10)\n",
    "rr.fit(X_train, y_train) \n",
    "pred_train_rr= rr.predict(X_train)\n",
    "print(\"Train MSE: \", np.sqrt(mean_squared_error(y_train,pred_train_rr)))\n",
    "print(\"R squared training set: \", r2_score(y_train, pred_train_rr)*100)\n",
    "\n",
    "pred_test_rr= rr.predict(X_test)\n",
    "print(\"Test MSE: \", np.sqrt(mean_squared_error(y_test,pred_test_rr))) \n",
    "print(\"R squared test set: \", r2_score(y_test, pred_test_rr)*100)\n",
    "\n",
    "\n",
    "\n",
    "\n",
    "\n",
    "\n",
    "# Calculate the absolute errors\n",
    "errors = abs(pred_test_rr - y_test)\n",
    "\n",
    " # Print out the mean absolute error (mae)\n",
    "print('Mean Absolute Error:', np.mean(errors), 'degrees.')\n",
    "\n",
    "\n",
    "\n",
    "# Calculate mean absolute percentage error (MAPE)\n",
    "mape = 100 * (errors / y_test)\n",
    "# Calculate and display accuracy\n",
    "accuracy = 100 - np.mean(mape)\n",
    "print('Accuracy:', round(accuracy, 2), '%.')"
   ]
  },
  {
   "cell_type": "markdown",
   "id": "5761eeef-e2cd-478f-8b59-6cb358725b52",
   "metadata": {},
   "source": [
    "---"
   ]
  },
  {
   "cell_type": "code",
   "execution_count": 144,
   "id": "1ce1bf5d-dee8-4594-8418-f4f1b7d189d9",
   "metadata": {},
   "outputs": [
    {
     "name": "stderr",
     "output_type": "stream",
     "text": [
      "C:\\Users\\Mehul Bhargava\\miniconda3\\lib\\site-packages\\pandas\\core\\frame.py:4906: SettingWithCopyWarning: \n",
      "A value is trying to be set on a copy of a slice from a DataFrame\n",
      "\n",
      "See the caveats in the documentation: https://pandas.pydata.org/pandas-docs/stable/user_guide/indexing.html#returning-a-view-versus-a-copy\n",
      "  return super().drop(\n"
     ]
    }
   ],
   "source": [
    "df4 = dataframe[dataframe['ECODISTRICT_ID']==745]\n",
    "df4.drop(['ECODISTRICT_ID'], axis=1, inplace=True)\n",
    "# split data into X and y\n",
    "x = pd.DataFrame(df4.drop(labels=['YieldKgAcre'], axis=1))\n",
    "y = pd.DataFrame(df4['YieldKgAcre'])"
   ]
  },
  {
   "cell_type": "code",
   "execution_count": 145,
   "id": "69d08b74-e87f-4254-8002-8a7069de303c",
   "metadata": {},
   "outputs": [
    {
     "name": "stdout",
     "output_type": "stream",
     "text": [
      "(770, 161)\n",
      "(330, 161)\n"
     ]
    }
   ],
   "source": [
    "X_train, X_test, y_train, y_test = train_test_split(x, y, test_size=0.30, random_state=40)\n",
    "\n",
    "# Run standardization on X variables\n",
    "X_train = scale(X_train)\n",
    "X_test = scale(X_test)\n",
    "\n",
    "\n",
    "print(X_train.shape); print(X_test.shape)"
   ]
  },
  {
   "cell_type": "code",
   "execution_count": 146,
   "id": "c7aee43f-22ec-47c5-a3be-64e4fe23fded",
   "metadata": {},
   "outputs": [
    {
     "name": "stdout",
     "output_type": "stream",
     "text": [
      "Train MSE:  74.30969520931816\n",
      "R squared training set:  89.2187411341816\n",
      "Test MSE:  83.60354856900985\n",
      "R squared test set:  87.42100132377485\n",
      "Mean Absolute Error: YieldKgAcre    64.359002\n",
      "dtype: float64 degrees.\n",
      "Accuracy: YieldKgAcre    91.73\n",
      "dtype: float64 %.\n"
     ]
    }
   ],
   "source": [
    "rr = Ridge(alpha=0.01)\n",
    "rr = RidgeCV(alphas=[0.1, 1.0, 10.0], cv=10)\n",
    "rr.fit(X_train, y_train) \n",
    "pred_train_rr= rr.predict(X_train)\n",
    "print(\"Train MSE: \", np.sqrt(mean_squared_error(y_train,pred_train_rr)))\n",
    "print(\"R squared training set: \", r2_score(y_train, pred_train_rr)*100)\n",
    "\n",
    "pred_test_rr= rr.predict(X_test)\n",
    "print(\"Test MSE: \", np.sqrt(mean_squared_error(y_test,pred_test_rr))) \n",
    "print(\"R squared test set: \", r2_score(y_test, pred_test_rr)*100)\n",
    "\n",
    "\n",
    "\n",
    "\n",
    "\n",
    "\n",
    "# Calculate the absolute errors\n",
    "errors = abs(pred_test_rr - y_test)\n",
    "\n",
    " # Print out the mean absolute error (mae)\n",
    "print('Mean Absolute Error:', np.mean(errors), 'degrees.')\n",
    "\n",
    "\n",
    "\n",
    "# Calculate mean absolute percentage error (MAPE)\n",
    "mape = 100 * (errors / y_test)\n",
    "# Calculate and display accuracy\n",
    "accuracy = 100 - np.mean(mape)\n",
    "print('Accuracy:', round(accuracy, 2), '%.')"
   ]
  },
  {
   "cell_type": "markdown",
   "id": "aff2dc8d-fc3d-46bd-b783-806ef9c16de1",
   "metadata": {},
   "source": [
    "---"
   ]
  },
  {
   "cell_type": "code",
   "execution_count": 147,
   "id": "91eb3ee8-88b5-4915-8609-35b37dedb0e0",
   "metadata": {},
   "outputs": [
    {
     "name": "stderr",
     "output_type": "stream",
     "text": [
      "C:\\Users\\Mehul Bhargava\\miniconda3\\lib\\site-packages\\pandas\\core\\frame.py:4906: SettingWithCopyWarning: \n",
      "A value is trying to be set on a copy of a slice from a DataFrame\n",
      "\n",
      "See the caveats in the documentation: https://pandas.pydata.org/pandas-docs/stable/user_guide/indexing.html#returning-a-view-versus-a-copy\n",
      "  return super().drop(\n"
     ]
    }
   ],
   "source": [
    "df5 = dataframe[dataframe['ECODISTRICT_ID']==808]\n",
    "df5.drop(['ECODISTRICT_ID'], axis=1, inplace=True)\n",
    "# split data into X and y\n",
    "x = pd.DataFrame(df5.drop(labels=['YieldKgAcre'], axis=1))\n",
    "y = pd.DataFrame(df5['YieldKgAcre'])"
   ]
  },
  {
   "cell_type": "code",
   "execution_count": 148,
   "id": "2c26da21-4af6-4fc5-b903-25014f168c4c",
   "metadata": {},
   "outputs": [
    {
     "name": "stdout",
     "output_type": "stream",
     "text": [
      "(746, 161)\n",
      "(321, 161)\n"
     ]
    }
   ],
   "source": [
    "X_train, X_test, y_train, y_test = train_test_split(x, y, test_size=0.30, random_state=40)   \n",
    "   \n",
    "# Run standardization on X variables\n",
    "X_train = scale(X_train)\n",
    "X_test = scale(X_test)     \n",
    "        \n",
    "        \n",
    "print(X_train.shape); print(X_test.shape)"
   ]
  },
  {
   "cell_type": "code",
   "execution_count": 149,
   "id": "c77cde24-1e09-4ea3-8fdf-ff7a0b254e00",
   "metadata": {},
   "outputs": [
    {
     "name": "stdout",
     "output_type": "stream",
     "text": [
      "Train MSE:  108.80776688895307\n",
      "R squared training set:  71.47017415604348\n",
      "Test MSE:  125.33205832535845\n",
      "R squared test set:  60.32007296901117\n",
      "Mean Absolute Error: YieldKgAcre    93.876136\n",
      "dtype: float64 degrees.\n",
      "Accuracy: YieldKgAcre    87.32\n",
      "dtype: float64 %.\n"
     ]
    }
   ],
   "source": [
    "rr = Ridge(alpha=0.01)\n",
    "rr = RidgeCV(alphas=[0.1, 1.0, 10.0], cv=10)\n",
    "rr.fit(X_train, y_train) \n",
    "pred_train_rr= rr.predict(X_train)\n",
    "print(\"Train MSE: \", np.sqrt(mean_squared_error(y_train,pred_train_rr)))\n",
    "print(\"R squared training set: \", r2_score(y_train, pred_train_rr)*100)\n",
    "\n",
    "pred_test_rr= rr.predict(X_test)\n",
    "print(\"Test MSE: \", np.sqrt(mean_squared_error(y_test,pred_test_rr))) \n",
    "print(\"R squared test set: \", r2_score(y_test, pred_test_rr)*100)\n",
    "\n",
    "\n",
    "\n",
    "\n",
    "\n",
    "\n",
    "# Calculate the absolute errors\n",
    "errors = abs(pred_test_rr - y_test)\n",
    "\n",
    " # Print out the mean absolute error (mae)\n",
    "print('Mean Absolute Error:', np.mean(errors), 'degrees.')\n",
    "\n",
    "\n",
    "\n",
    "# Calculate mean absolute percentage error (MAPE)\n",
    "mape = 100 * (errors / y_test)\n",
    "# Calculate and display accuracy\n",
    "accuracy = 100 - np.mean(mape)\n",
    "print('Accuracy:', round(accuracy, 2), '%.')"
   ]
  },
  {
   "cell_type": "markdown",
   "id": "e4d9db81-d866-4dc4-81ac-049a6a5f09de",
   "metadata": {},
   "source": [
    "---"
   ]
  },
  {
   "cell_type": "code",
   "execution_count": 150,
   "id": "108e4805-144d-49c4-927b-b31c083c1da3",
   "metadata": {},
   "outputs": [
    {
     "name": "stderr",
     "output_type": "stream",
     "text": [
      "C:\\Users\\Mehul Bhargava\\miniconda3\\lib\\site-packages\\pandas\\core\\frame.py:4906: SettingWithCopyWarning: \n",
      "A value is trying to be set on a copy of a slice from a DataFrame\n",
      "\n",
      "See the caveats in the documentation: https://pandas.pydata.org/pandas-docs/stable/user_guide/indexing.html#returning-a-view-versus-a-copy\n",
      "  return super().drop(\n"
     ]
    }
   ],
   "source": [
    "df6 = dataframe[dataframe['ECODISTRICT_ID']==792]\n",
    "df6.drop(['ECODISTRICT_ID'], axis=1, inplace=True)\n",
    "# split data into X and y\n",
    "x = pd.DataFrame(df6.drop(labels=['YieldKgAcre'], axis=1))\n",
    "y = pd.DataFrame(df6['YieldKgAcre'])"
   ]
  },
  {
   "cell_type": "code",
   "execution_count": 151,
   "id": "d045e62e-66a0-44d3-b080-c1bf777fed44",
   "metadata": {},
   "outputs": [
    {
     "name": "stdout",
     "output_type": "stream",
     "text": [
      "(708, 161)\n",
      "(304, 161)\n"
     ]
    }
   ],
   "source": [
    "X_train, X_test, y_train, y_test = train_test_split(x, y, test_size=0.30, random_state=40)  \n",
    "\n",
    "# Run standardization on X variables\n",
    "X_train = scale(X_train)\n",
    "X_test = scale(X_test)\n",
    "  \n",
    "    \n",
    "print(X_train.shape); print(X_test.shape)"
   ]
  },
  {
   "cell_type": "code",
   "execution_count": 152,
   "id": "e073c10b-ff46-4275-a15b-d44b08518cba",
   "metadata": {},
   "outputs": [
    {
     "name": "stdout",
     "output_type": "stream",
     "text": [
      "Train MSE:  95.13732923966857\n",
      "R squared training set:  78.53762506583996\n",
      "Test MSE:  107.29538676736196\n",
      "R squared test set:  72.22176207981319\n",
      "Mean Absolute Error: YieldKgAcre    81.675159\n",
      "dtype: float64 degrees.\n",
      "Accuracy: YieldKgAcre    89.82\n",
      "dtype: float64 %.\n"
     ]
    }
   ],
   "source": [
    "rr = Ridge(alpha=0.01)\n",
    "rr = RidgeCV(alphas=[0.1, 1.0, 10.0], cv=10)\n",
    "rr.fit(X_train, y_train) \n",
    "pred_train_rr= rr.predict(X_train)\n",
    "print(\"Train MSE: \", np.sqrt(mean_squared_error(y_train,pred_train_rr)))\n",
    "print(\"R squared training set: \", r2_score(y_train, pred_train_rr)*100)\n",
    "\n",
    "pred_test_rr= rr.predict(X_test)\n",
    "print(\"Test MSE: \", np.sqrt(mean_squared_error(y_test,pred_test_rr))) \n",
    "print(\"R squared test set: \", r2_score(y_test, pred_test_rr)*100)\n",
    "\n",
    "\n",
    "\n",
    "\n",
    "\n",
    "\n",
    "# Calculate the absolute errors\n",
    "errors = abs(pred_test_rr - y_test)\n",
    "\n",
    " # Print out the mean absolute error (mae)\n",
    "print('Mean Absolute Error:', np.mean(errors), 'degrees.')\n",
    "\n",
    "\n",
    "\n",
    "# Calculate mean absolute percentage error (MAPE)\n",
    "mape = 100 * (errors / y_test)\n",
    "# Calculate and display accuracy\n",
    "accuracy = 100 - np.mean(mape)\n",
    "print('Accuracy:', round(accuracy, 2), '%.')"
   ]
  },
  {
   "cell_type": "markdown",
   "id": "68b7e38a-aba9-4bde-b78e-9580d9973ac1",
   "metadata": {},
   "source": [
    "---"
   ]
  },
  {
   "cell_type": "code",
   "execution_count": 153,
   "id": "eb7c5726-28e4-4fe7-9f7a-c3dcd8ee97d8",
   "metadata": {},
   "outputs": [
    {
     "name": "stderr",
     "output_type": "stream",
     "text": [
      "C:\\Users\\Mehul Bhargava\\miniconda3\\lib\\site-packages\\pandas\\core\\frame.py:4906: SettingWithCopyWarning: \n",
      "A value is trying to be set on a copy of a slice from a DataFrame\n",
      "\n",
      "See the caveats in the documentation: https://pandas.pydata.org/pandas-docs/stable/user_guide/indexing.html#returning-a-view-versus-a-copy\n",
      "  return super().drop(\n"
     ]
    }
   ],
   "source": [
    "df7 = dataframe[dataframe['ECODISTRICT_ID']==849]\n",
    "df7.drop(['ECODISTRICT_ID'], axis=1, inplace=True)\n",
    "# split data into X and y\n",
    "x = pd.DataFrame(df7.drop(labels=['YieldKgAcre'], axis=1))\n",
    "y = pd.DataFrame(df7['YieldKgAcre'])"
   ]
  },
  {
   "cell_type": "code",
   "execution_count": 154,
   "id": "72bbf139-4ee2-455d-905d-652cfcaefc96",
   "metadata": {},
   "outputs": [
    {
     "name": "stdout",
     "output_type": "stream",
     "text": [
      "(700, 161)\n",
      "(301, 161)\n"
     ]
    }
   ],
   "source": [
    "X_train, X_test, y_train, y_test = train_test_split(x, y, test_size=0.30, random_state=40)   \n",
    "  \n",
    "# Run standardization on X variables\n",
    "X_train = scale(X_train)\n",
    "X_test = scale(X_test)     \n",
    "        \n",
    "        \n",
    "print(X_train.shape); print(X_test.shape)"
   ]
  },
  {
   "cell_type": "code",
   "execution_count": 155,
   "id": "f63837fb-0892-4d02-8778-b6c217241f15",
   "metadata": {},
   "outputs": [
    {
     "name": "stdout",
     "output_type": "stream",
     "text": [
      "Train MSE:  78.54796667665148\n",
      "R squared training set:  90.73648086893138\n",
      "Test MSE:  95.63859918528432\n",
      "R squared test set:  85.97108872906384\n",
      "Mean Absolute Error: YieldKgAcre    71.924404\n",
      "dtype: float64 degrees.\n",
      "Accuracy: YieldKgAcre    89.99\n",
      "dtype: float64 %.\n"
     ]
    }
   ],
   "source": [
    "rr = Ridge(alpha=0.01)\n",
    "rr = RidgeCV(alphas=[0.1, 1.0, 10.0], cv=10)\n",
    "rr.fit(X_train, y_train) \n",
    "pred_train_rr= rr.predict(X_train)\n",
    "print(\"Train MSE: \", np.sqrt(mean_squared_error(y_train,pred_train_rr)))\n",
    "print(\"R squared training set: \", r2_score(y_train, pred_train_rr)*100)\n",
    "\n",
    "pred_test_rr= rr.predict(X_test)\n",
    "print(\"Test MSE: \", np.sqrt(mean_squared_error(y_test,pred_test_rr))) \n",
    "print(\"R squared test set: \", r2_score(y_test, pred_test_rr)*100)\n",
    "\n",
    "\n",
    "\n",
    "\n",
    "\n",
    "\n",
    "# Calculate the absolute errors\n",
    "errors = abs(pred_test_rr - y_test)\n",
    "\n",
    " # Print out the mean absolute error (mae)\n",
    "print('Mean Absolute Error:', np.mean(errors), 'degrees.')\n",
    "\n",
    "\n",
    "\n",
    "# Calculate mean absolute percentage error (MAPE)\n",
    "mape = 100 * (errors / y_test)\n",
    "# Calculate and display accuracy\n",
    "accuracy = 100 - np.mean(mape)\n",
    "print('Accuracy:', round(accuracy, 2), '%.')"
   ]
  },
  {
   "cell_type": "markdown",
   "id": "bd52a830-7c02-4a46-8108-f6f9da0e352e",
   "metadata": {},
   "source": [
    "---"
   ]
  },
  {
   "cell_type": "code",
   "execution_count": 156,
   "id": "1279d725-e1d6-4699-8b9a-409f7eeb0547",
   "metadata": {},
   "outputs": [
    {
     "name": "stderr",
     "output_type": "stream",
     "text": [
      "C:\\Users\\Mehul Bhargava\\miniconda3\\lib\\site-packages\\pandas\\core\\frame.py:4906: SettingWithCopyWarning: \n",
      "A value is trying to be set on a copy of a slice from a DataFrame\n",
      "\n",
      "See the caveats in the documentation: https://pandas.pydata.org/pandas-docs/stable/user_guide/indexing.html#returning-a-view-versus-a-copy\n",
      "  return super().drop(\n"
     ]
    }
   ],
   "source": [
    "df8 = dataframe[dataframe['ECODISTRICT_ID']==729]\n",
    "df8.drop(['ECODISTRICT_ID'], axis=1, inplace=True)\n",
    "# split data into X and y\n",
    "x = pd.DataFrame(df8.drop(labels=['YieldKgAcre'], axis=1))\n",
    "y = pd.DataFrame(df8['YieldKgAcre'])"
   ]
  },
  {
   "cell_type": "code",
   "execution_count": 157,
   "id": "80ad18d6-dfdb-4b8d-9851-d4caefc151af",
   "metadata": {},
   "outputs": [
    {
     "name": "stdout",
     "output_type": "stream",
     "text": [
      "(662, 161)\n",
      "(284, 161)\n"
     ]
    }
   ],
   "source": [
    "X_train, X_test, y_train, y_test = train_test_split(x, y, test_size=0.30, random_state=40)   \n",
    "\n",
    "# Run standardization on X variables\n",
    "X_train = scale(X_train)\n",
    "X_test = scale(X_test) \n",
    "     \n",
    "         \n",
    "print(X_train.shape); print(X_test.shape)"
   ]
  },
  {
   "cell_type": "code",
   "execution_count": 158,
   "id": "93bc4a07-5dff-4a88-bb8c-54dec7653af9",
   "metadata": {},
   "outputs": [
    {
     "name": "stdout",
     "output_type": "stream",
     "text": [
      "Train MSE:  71.19193192790989\n",
      "R squared training set:  81.91779666344638\n",
      "Test MSE:  98.91196333229948\n",
      "R squared test set:  67.7959532281787\n",
      "Mean Absolute Error: YieldKgAcre    75.362232\n",
      "dtype: float64 degrees.\n",
      "Accuracy: YieldKgAcre    91.5\n",
      "dtype: float64 %.\n"
     ]
    }
   ],
   "source": [
    "rr = Ridge(alpha=0.01)\n",
    "rr = RidgeCV(alphas=[0.1, 1.0, 10.0], cv=10)\n",
    "rr.fit(X_train, y_train) \n",
    "pred_train_rr= rr.predict(X_train)\n",
    "print(\"Train MSE: \", np.sqrt(mean_squared_error(y_train,pred_train_rr)))\n",
    "print(\"R squared training set: \", r2_score(y_train, pred_train_rr)*100)\n",
    "\n",
    "pred_test_rr= rr.predict(X_test)\n",
    "print(\"Test MSE: \", np.sqrt(mean_squared_error(y_test,pred_test_rr))) \n",
    "print(\"R squared test set: \", r2_score(y_test, pred_test_rr)*100)\n",
    "\n",
    "\n",
    "\n",
    "\n",
    "\n",
    "\n",
    "# Calculate the absolute errors\n",
    "errors = abs(pred_test_rr - y_test)\n",
    "\n",
    " # Print out the mean absolute error (mae)\n",
    "print('Mean Absolute Error:', np.mean(errors), 'degrees.')\n",
    "\n",
    "\n",
    "\n",
    "# Calculate mean absolute percentage error (MAPE)\n",
    "mape = 100 * (errors / y_test)\n",
    "# Calculate and display accuracy\n",
    "accuracy = 100 - np.mean(mape)\n",
    "print('Accuracy:', round(accuracy, 2), '%.')"
   ]
  },
  {
   "cell_type": "markdown",
   "id": "9fb056d1-0300-4b6e-a78c-53cfe87804fd",
   "metadata": {},
   "source": [
    "---"
   ]
  },
  {
   "cell_type": "code",
   "execution_count": 159,
   "id": "056582ec-ad7c-4039-87b7-816a807d86d0",
   "metadata": {},
   "outputs": [
    {
     "name": "stderr",
     "output_type": "stream",
     "text": [
      "C:\\Users\\Mehul Bhargava\\miniconda3\\lib\\site-packages\\pandas\\core\\frame.py:4906: SettingWithCopyWarning: \n",
      "A value is trying to be set on a copy of a slice from a DataFrame\n",
      "\n",
      "See the caveats in the documentation: https://pandas.pydata.org/pandas-docs/stable/user_guide/indexing.html#returning-a-view-versus-a-copy\n",
      "  return super().drop(\n"
     ]
    }
   ],
   "source": [
    "df9 = dataframe[dataframe['ECODISTRICT_ID']==753]\n",
    "df9.drop(['ECODISTRICT_ID'], axis=1, inplace=True)\n",
    "# split data into X and y\n",
    "x = pd.DataFrame(df9.drop(labels=['YieldKgAcre'], axis=1))\n",
    "y = pd.DataFrame(df9['YieldKgAcre'])"
   ]
  },
  {
   "cell_type": "code",
   "execution_count": 160,
   "id": "63669b17-98a9-478e-898d-e15eba98235c",
   "metadata": {},
   "outputs": [
    {
     "name": "stdout",
     "output_type": "stream",
     "text": [
      "(662, 161)\n",
      "(284, 161)\n"
     ]
    }
   ],
   "source": [
    "X_train, X_test, y_train, y_test = train_test_split(x, y, test_size=0.30, random_state=40)   \n",
    "  \n",
    "# Run standardization on X variables\n",
    "X_train = scale(X_train)\n",
    "X_test = scale(X_test)  \n",
    "\n",
    "print(X_train.shape); print(X_test.shape)"
   ]
  },
  {
   "cell_type": "code",
   "execution_count": 161,
   "id": "3e3c7b9c-249a-43ae-ac52-2c940871fa4b",
   "metadata": {},
   "outputs": [
    {
     "name": "stdout",
     "output_type": "stream",
     "text": [
      "Train MSE:  58.01717143917308\n",
      "R squared training set:  89.16091262673463\n",
      "Test MSE:  70.3129400188808\n",
      "R squared test set:  84.31207850205715\n",
      "Mean Absolute Error: YieldKgAcre    56.129276\n",
      "dtype: float64 degrees.\n",
      "Accuracy: YieldKgAcre    93.31\n",
      "dtype: float64 %.\n"
     ]
    }
   ],
   "source": [
    "rr = Ridge(alpha=0.01)\n",
    "rr = RidgeCV(alphas=[0.1, 1.0, 10.0], cv=10)\n",
    "rr.fit(X_train, y_train) \n",
    "pred_train_rr= rr.predict(X_train)\n",
    "print(\"Train MSE: \", np.sqrt(mean_squared_error(y_train,pred_train_rr)))\n",
    "print(\"R squared training set: \", r2_score(y_train, pred_train_rr)*100)\n",
    "\n",
    "pred_test_rr= rr.predict(X_test)\n",
    "print(\"Test MSE: \", np.sqrt(mean_squared_error(y_test,pred_test_rr))) \n",
    "print(\"R squared test set: \", r2_score(y_test, pred_test_rr)*100)\n",
    "\n",
    "\n",
    "\n",
    "\n",
    "\n",
    "\n",
    "# Calculate the absolute errors\n",
    "errors = abs(pred_test_rr - y_test)\n",
    "\n",
    " # Print out the mean absolute error (mae)\n",
    "print('Mean Absolute Error:', np.mean(errors), 'degrees.')\n",
    "\n",
    "\n",
    "\n",
    "# Calculate mean absolute percentage error (MAPE)\n",
    "mape = 100 * (errors / y_test)\n",
    "# Calculate and display accuracy\n",
    "accuracy = 100 - np.mean(mape)\n",
    "print('Accuracy:', round(accuracy, 2), '%.')"
   ]
  },
  {
   "cell_type": "markdown",
   "id": "7fe021bd-7393-48b8-82b8-d2a01be1e849",
   "metadata": {},
   "source": [
    "---"
   ]
  },
  {
   "cell_type": "code",
   "execution_count": 162,
   "id": "810d748c-89db-45cf-8c34-2ace95f747cc",
   "metadata": {},
   "outputs": [
    {
     "name": "stderr",
     "output_type": "stream",
     "text": [
      "C:\\Users\\Mehul Bhargava\\miniconda3\\lib\\site-packages\\pandas\\core\\frame.py:4906: SettingWithCopyWarning: \n",
      "A value is trying to be set on a copy of a slice from a DataFrame\n",
      "\n",
      "See the caveats in the documentation: https://pandas.pydata.org/pandas-docs/stable/user_guide/indexing.html#returning-a-view-versus-a-copy\n",
      "  return super().drop(\n"
     ]
    }
   ],
   "source": [
    "df10 = dataframe[dataframe['ECODISTRICT_ID']==709]\n",
    "df10.drop(['ECODISTRICT_ID'], axis=1, inplace=True)\n",
    "# split data into X and y\n",
    "x = pd.DataFrame(df10.drop(labels=['YieldKgAcre'], axis=1))\n",
    "y = pd.DataFrame(df10['YieldKgAcre'])"
   ]
  },
  {
   "cell_type": "code",
   "execution_count": 163,
   "id": "1a24e004-c5d8-4d42-a6c5-3e123277e395",
   "metadata": {},
   "outputs": [
    {
     "name": "stdout",
     "output_type": "stream",
     "text": [
      "(639, 161)\n",
      "(274, 161)\n"
     ]
    }
   ],
   "source": [
    "X_train, X_test, y_train, y_test = train_test_split(x, y, test_size=0.30, random_state=40)   \n",
    "\n",
    "# Run standardization on X variables\n",
    "X_train = scale(X_train)\n",
    "X_test = scale(X_test)\n",
    "     \n",
    "print(X_train.shape); print(X_test.shape)"
   ]
  },
  {
   "cell_type": "code",
   "execution_count": 164,
   "id": "82820d4d-4af3-4c18-8fe1-2fff4b8c972c",
   "metadata": {},
   "outputs": [
    {
     "name": "stdout",
     "output_type": "stream",
     "text": [
      "Train MSE:  84.4591216123592\n",
      "R squared training set:  87.89976256831535\n",
      "Test MSE:  104.67585292319163\n",
      "R squared test set:  82.28193554839056\n",
      "Mean Absolute Error: YieldKgAcre    80.437732\n",
      "dtype: float64 degrees.\n",
      "Accuracy: YieldKgAcre    90.28\n",
      "dtype: float64 %.\n"
     ]
    }
   ],
   "source": [
    "rr = Ridge(alpha=0.01)\n",
    "rr = RidgeCV(alphas=[0.1, 1.0, 10.0], cv=10)\n",
    "rr.fit(X_train, y_train) \n",
    "pred_train_rr= rr.predict(X_train)\n",
    "print(\"Train MSE: \", np.sqrt(mean_squared_error(y_train,pred_train_rr)))\n",
    "print(\"R squared training set: \", r2_score(y_train, pred_train_rr)*100)\n",
    "\n",
    "pred_test_rr= rr.predict(X_test)\n",
    "print(\"Test MSE: \", np.sqrt(mean_squared_error(y_test,pred_test_rr))) \n",
    "print(\"R squared test set: \", r2_score(y_test, pred_test_rr)*100)\n",
    "\n",
    "\n",
    "\n",
    "\n",
    "\n",
    "\n",
    "# Calculate the absolute errors\n",
    "errors = abs(pred_test_rr - y_test)\n",
    "\n",
    " # Print out the mean absolute error (mae)\n",
    "print('Mean Absolute Error:', np.mean(errors), 'degrees.')\n",
    "\n",
    "\n",
    "\n",
    "# Calculate mean absolute percentage error (MAPE)\n",
    "mape = 100 * (errors / y_test)\n",
    "# Calculate and display accuracy\n",
    "accuracy = 100 - np.mean(mape)\n",
    "print('Accuracy:', round(accuracy, 2), '%.')"
   ]
  },
  {
   "cell_type": "code",
   "execution_count": null,
   "id": "c999dea4-02f3-4fd6-ab75-23b3e5f44e46",
   "metadata": {},
   "outputs": [],
   "source": []
  },
  {
   "cell_type": "code",
   "execution_count": null,
   "id": "cf4dc921-d0e4-4da5-b655-d5200d1a3db2",
   "metadata": {},
   "outputs": [],
   "source": []
  },
  {
   "cell_type": "code",
   "execution_count": null,
   "id": "b4c1bc75-c99e-4c45-887f-3ce4156e6c3b",
   "metadata": {},
   "outputs": [],
   "source": []
  }
 ],
 "metadata": {
  "kernelspec": {
   "display_name": "Python 3 (ipykernel)",
   "language": "python",
   "name": "python3"
  },
  "language_info": {
   "codemirror_mode": {
    "name": "ipython",
    "version": 3
   },
   "file_extension": ".py",
   "mimetype": "text/x-python",
   "name": "python",
   "nbconvert_exporter": "python",
   "pygments_lexer": "ipython3",
   "version": "3.9.5"
  }
 },
 "nbformat": 4,
 "nbformat_minor": 5
}
