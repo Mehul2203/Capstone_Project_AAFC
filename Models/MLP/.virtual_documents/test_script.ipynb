from mlp_aafc.MLP import mlp_ecodistrict_model_validation_scoring


import pandas as pd
data=pd.read_csv("aafc_data.csv",index_col='Unnamed: 0')


test=mlp_ecodistrict_model_validation_scoring(data,748)
test.validation_metrics()


test.predicted_train_dataset()


test.predicted_test_dataset()


data_to_score=pd.read_csv("scoring_test_df.csv",index_col='Unnamed: 0')


test.score(data_to_score)
