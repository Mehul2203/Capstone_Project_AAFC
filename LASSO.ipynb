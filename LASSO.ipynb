{
 "cells": [
  {
   "cell_type": "markdown",
   "id": "a85c0f8c-63c0-4870-9f7d-3f65aa3ea129",
   "metadata": {},
   "source": [
    "**Loading packages and cleaning**"
   ]
  },
  {
   "cell_type": "code",
   "execution_count": 31,
   "id": "83249cc7-65a6-414a-b399-ea8f4a312930",
   "metadata": {},
   "outputs": [],
   "source": [
    "import pandas as pd\n",
    "import numpy as np\n",
    "from sklearn.model_selection import train_test_split\n",
    "from sklearn.preprocessing import StandardScaler\n",
    "from sklearn.linear_model import Lasso"
   ]
  },
  {
   "cell_type": "code",
   "execution_count": 2,
   "id": "5f4e7b73-e7e6-4613-bcc3-3435c6df0042",
   "metadata": {},
   "outputs": [
    {
     "data": {
      "text/html": [
       "<div>\n",
       "<style scoped>\n",
       "    .dataframe tbody tr th:only-of-type {\n",
       "        vertical-align: middle;\n",
       "    }\n",
       "\n",
       "    .dataframe tbody tr th {\n",
       "        vertical-align: top;\n",
       "    }\n",
       "\n",
       "    .dataframe thead th {\n",
       "        text-align: right;\n",
       "    }\n",
       "</style>\n",
       "<table border=\"1\" class=\"dataframe\">\n",
       "  <thead>\n",
       "    <tr style=\"text-align: right;\">\n",
       "      <th></th>\n",
       "      <th>Unnamed: 0</th>\n",
       "      <th>TWP_ID</th>\n",
       "      <th>ECODISTRICT_ID</th>\n",
       "      <th>YEAR</th>\n",
       "      <th>YieldKgAcre</th>\n",
       "      <th>SumPcpn18_20</th>\n",
       "      <th>SumPcpn19_21</th>\n",
       "      <th>SumPcpn20_22</th>\n",
       "      <th>SumPcpn21_23</th>\n",
       "      <th>SumPcpn22_24</th>\n",
       "      <th>...</th>\n",
       "      <th>SoilMoisture29_31</th>\n",
       "      <th>SoilMoisture30_32</th>\n",
       "      <th>SoilMoisture31_33</th>\n",
       "      <th>SoilMoisture32_34</th>\n",
       "      <th>SoilMoisture33_35</th>\n",
       "      <th>SoilMoisture34_36</th>\n",
       "      <th>SoilMoisture35_37</th>\n",
       "      <th>SoilMoisture36_38</th>\n",
       "      <th>SoilMoisture37_39</th>\n",
       "      <th>SoilMoisture38_40</th>\n",
       "    </tr>\n",
       "  </thead>\n",
       "  <tbody>\n",
       "    <tr>\n",
       "      <th>0</th>\n",
       "      <td>0</td>\n",
       "      <td>00101E1</td>\n",
       "      <td>852.0</td>\n",
       "      <td>2010</td>\n",
       "      <td>867.766846</td>\n",
       "      <td>53.6</td>\n",
       "      <td>111.1</td>\n",
       "      <td>109.7</td>\n",
       "      <td>117.9</td>\n",
       "      <td>46.4</td>\n",
       "      <td>...</td>\n",
       "      <td>16.960125</td>\n",
       "      <td>18.766207</td>\n",
       "      <td>17.186998</td>\n",
       "      <td>15.461519</td>\n",
       "      <td>19.738222</td>\n",
       "      <td>22.958089</td>\n",
       "      <td>27.206203</td>\n",
       "      <td>26.480087</td>\n",
       "      <td>28.678156</td>\n",
       "      <td>26.308484</td>\n",
       "    </tr>\n",
       "    <tr>\n",
       "      <th>1</th>\n",
       "      <td>1</td>\n",
       "      <td>00101W1</td>\n",
       "      <td>852.0</td>\n",
       "      <td>2010</td>\n",
       "      <td>673.685028</td>\n",
       "      <td>57.2</td>\n",
       "      <td>114.7</td>\n",
       "      <td>110.5</td>\n",
       "      <td>114.0</td>\n",
       "      <td>46.2</td>\n",
       "      <td>...</td>\n",
       "      <td>16.328520</td>\n",
       "      <td>17.926029</td>\n",
       "      <td>16.787544</td>\n",
       "      <td>14.779726</td>\n",
       "      <td>20.245149</td>\n",
       "      <td>23.608204</td>\n",
       "      <td>28.560990</td>\n",
       "      <td>27.324254</td>\n",
       "      <td>29.079177</td>\n",
       "      <td>26.927224</td>\n",
       "    </tr>\n",
       "    <tr>\n",
       "      <th>2</th>\n",
       "      <td>2</td>\n",
       "      <td>00101W2</td>\n",
       "      <td>796.0</td>\n",
       "      <td>2010</td>\n",
       "      <td>824.303864</td>\n",
       "      <td>39.0</td>\n",
       "      <td>96.4</td>\n",
       "      <td>109.8</td>\n",
       "      <td>101.2</td>\n",
       "      <td>111.4</td>\n",
       "      <td>...</td>\n",
       "      <td>13.117879</td>\n",
       "      <td>12.869142</td>\n",
       "      <td>12.831834</td>\n",
       "      <td>14.126196</td>\n",
       "      <td>16.385776</td>\n",
       "      <td>18.650751</td>\n",
       "      <td>20.287069</td>\n",
       "      <td>20.514132</td>\n",
       "      <td>19.564788</td>\n",
       "      <td>16.681692</td>\n",
       "    </tr>\n",
       "    <tr>\n",
       "      <th>3</th>\n",
       "      <td>3</td>\n",
       "      <td>00102E1</td>\n",
       "      <td>853.0</td>\n",
       "      <td>2010</td>\n",
       "      <td>1006.708496</td>\n",
       "      <td>37.5</td>\n",
       "      <td>158.2</td>\n",
       "      <td>157.8</td>\n",
       "      <td>161.4</td>\n",
       "      <td>46.9</td>\n",
       "      <td>...</td>\n",
       "      <td>17.060778</td>\n",
       "      <td>18.699156</td>\n",
       "      <td>17.345822</td>\n",
       "      <td>15.998957</td>\n",
       "      <td>20.091525</td>\n",
       "      <td>22.761273</td>\n",
       "      <td>26.337430</td>\n",
       "      <td>25.559602</td>\n",
       "      <td>27.611729</td>\n",
       "      <td>25.575794</td>\n",
       "    </tr>\n",
       "    <tr>\n",
       "      <th>4</th>\n",
       "      <td>4</td>\n",
       "      <td>00102W1</td>\n",
       "      <td>852.0</td>\n",
       "      <td>2010</td>\n",
       "      <td>869.040283</td>\n",
       "      <td>57.2</td>\n",
       "      <td>114.7</td>\n",
       "      <td>110.5</td>\n",
       "      <td>114.0</td>\n",
       "      <td>46.2</td>\n",
       "      <td>...</td>\n",
       "      <td>16.050993</td>\n",
       "      <td>17.556860</td>\n",
       "      <td>16.612026</td>\n",
       "      <td>14.480150</td>\n",
       "      <td>20.467884</td>\n",
       "      <td>23.893858</td>\n",
       "      <td>29.156274</td>\n",
       "      <td>27.695178</td>\n",
       "      <td>29.255386</td>\n",
       "      <td>27.199097</td>\n",
       "    </tr>\n",
       "  </tbody>\n",
       "</table>\n",
       "<p>5 rows × 166 columns</p>\n",
       "</div>"
      ],
      "text/plain": [
       "   Unnamed: 0   TWP_ID  ECODISTRICT_ID  YEAR  YieldKgAcre  SumPcpn18_20  \\\n",
       "0           0  00101E1           852.0  2010   867.766846          53.6   \n",
       "1           1  00101W1           852.0  2010   673.685028          57.2   \n",
       "2           2  00101W2           796.0  2010   824.303864          39.0   \n",
       "3           3  00102E1           853.0  2010  1006.708496          37.5   \n",
       "4           4  00102W1           852.0  2010   869.040283          57.2   \n",
       "\n",
       "   SumPcpn19_21  SumPcpn20_22  SumPcpn21_23  SumPcpn22_24  ...  \\\n",
       "0         111.1         109.7         117.9          46.4  ...   \n",
       "1         114.7         110.5         114.0          46.2  ...   \n",
       "2          96.4         109.8         101.2         111.4  ...   \n",
       "3         158.2         157.8         161.4          46.9  ...   \n",
       "4         114.7         110.5         114.0          46.2  ...   \n",
       "\n",
       "   SoilMoisture29_31  SoilMoisture30_32  SoilMoisture31_33  SoilMoisture32_34  \\\n",
       "0          16.960125          18.766207          17.186998          15.461519   \n",
       "1          16.328520          17.926029          16.787544          14.779726   \n",
       "2          13.117879          12.869142          12.831834          14.126196   \n",
       "3          17.060778          18.699156          17.345822          15.998957   \n",
       "4          16.050993          17.556860          16.612026          14.480150   \n",
       "\n",
       "   SoilMoisture33_35  SoilMoisture34_36  SoilMoisture35_37  SoilMoisture36_38  \\\n",
       "0          19.738222          22.958089          27.206203          26.480087   \n",
       "1          20.245149          23.608204          28.560990          27.324254   \n",
       "2          16.385776          18.650751          20.287069          20.514132   \n",
       "3          20.091525          22.761273          26.337430          25.559602   \n",
       "4          20.467884          23.893858          29.156274          27.695178   \n",
       "\n",
       "   SoilMoisture37_39  SoilMoisture38_40  \n",
       "0          28.678156          26.308484  \n",
       "1          29.079177          26.927224  \n",
       "2          19.564788          16.681692  \n",
       "3          27.611729          25.575794  \n",
       "4          29.255386          27.199097  \n",
       "\n",
       "[5 rows x 166 columns]"
      ]
     },
     "execution_count": 2,
     "metadata": {},
     "output_type": "execute_result"
    }
   ],
   "source": [
    "aafc_data=pd.read_csv(\"aafc_data.txt\",index_col=None)\n",
    "aafc_data.head()"
   ]
  },
  {
   "cell_type": "code",
   "execution_count": 3,
   "id": "5b8145a9-5e54-4de3-80b7-b3eb5e798b34",
   "metadata": {},
   "outputs": [
    {
     "data": {
      "text/plain": [
       "ECODISTRICT_ID\n",
       "375.0    264\n",
       "379.0     11\n",
       "647.0     11\n",
       "652.0     33\n",
       "657.0     55\n",
       "        ... \n",
       "851.0    154\n",
       "852.0    286\n",
       "853.0     77\n",
       "854.0    176\n",
       "855.0     22\n",
       "Name: TWP_ID, Length: 137, dtype: int64"
      ]
     },
     "execution_count": 3,
     "metadata": {},
     "output_type": "execute_result"
    }
   ],
   "source": [
    "aafc_data.groupby(['ECODISTRICT_ID'])['TWP_ID'].size()\n",
    "\n",
    "p4p5.sort_values(by=['expr'], ascending=[False], inplace=True)"
   ]
  },
  {
   "cell_type": "markdown",
   "id": "6f66b45d-0ebb-4098-a45d-2a1efc9e90c5",
   "metadata": {
    "tags": []
   },
   "source": [
    "# LASSO for Ecodistrict 748"
   ]
  },
  {
   "cell_type": "code",
   "execution_count": 58,
   "id": "57d06e31-489a-46e8-9467-cd34bfbd51a0",
   "metadata": {
    "tags": []
   },
   "outputs": [],
   "source": [
    "aafc_data_748=aafc_data[aafc_data['ECODISTRICT_ID']==748.0]"
   ]
  },
  {
   "cell_type": "code",
   "execution_count": 59,
   "id": "9c8edbee-f75b-4f4a-afd5-d0cc82f61d65",
   "metadata": {},
   "outputs": [],
   "source": [
    "# Labels are the values we want to predict\n",
    "labels = np.array(aafc_data_748['YieldKgAcre'])\n",
    "# Remove the labels from the features\n",
    "# axis 1 refers to the columns\n",
    "features= aafc_data_748.drop(['YieldKgAcre','YEAR','TWP_ID','Unnamed: 0','ECODISTRICT_ID'], axis = 1)\n",
    "# Saving feature names for later use\n",
    "feature_list = list(features.columns)\n",
    "# Convert to numpy array\n",
    "features = np.array(features)"
   ]
  },
  {
   "cell_type": "code",
   "execution_count": 60,
   "id": "4ee6358a-6a90-4f62-8da3-897f86e01960",
   "metadata": {},
   "outputs": [],
   "source": [
    "\n",
    "# Split the data into training and testing sets\n",
    "train_features, test_features, train_labels, test_labels = train_test_split(features, labels, test_size = 0.25, random_state = 42)\n"
   ]
  },
  {
   "cell_type": "code",
   "execution_count": 61,
   "id": "8ea3af64-e99b-4340-8ef8-0f8f5d813cfd",
   "metadata": {},
   "outputs": [],
   "source": [
    "\n",
    "scaler = StandardScaler().fit(train_features)"
   ]
  },
  {
   "cell_type": "code",
   "execution_count": 62,
   "id": "68a4f99b-dc3f-4494-ad39-713e162572fb",
   "metadata": {},
   "outputs": [],
   "source": [
    "train_features = scaler.transform(train_features)\n",
    "\n",
    "test_features = scaler.transform(test_features)"
   ]
  },
  {
   "cell_type": "code",
   "execution_count": 63,
   "id": "4fa70aee-3c51-42d0-8469-e5c3662e0709",
   "metadata": {},
   "outputs": [
    {
     "data": {
      "text/plain": [
       "Lasso(alpha=1)"
      ]
     },
     "execution_count": 63,
     "metadata": {},
     "output_type": "execute_result"
    }
   ],
   "source": [
    "reg = Lasso(alpha=1)\n",
    "reg.fit(train_features, train_labels)"
   ]
  },
  {
   "cell_type": "code",
   "execution_count": 64,
   "id": "78c3546f-1ba4-4a4f-bf15-986efebdd36c",
   "metadata": {},
   "outputs": [
    {
     "name": "stdout",
     "output_type": "stream",
     "text": [
      "R squared training set 82.62\n",
      "R squared test set 80.77\n"
     ]
    }
   ],
   "source": [
    "print('R squared training set', round(reg.score(train_features, train_labels)*100, 2))\n",
    "print('R squared test set', round(reg.score(test_features, test_labels)*100, 2))\n"
   ]
  },
  {
   "cell_type": "code",
   "execution_count": 65,
   "id": "7580adec-173a-45a3-b5a0-795e1d647006",
   "metadata": {},
   "outputs": [
    {
     "name": "stdout",
     "output_type": "stream",
     "text": [
      "MSE training set 6653.92\n",
      "MSE test set 7701.83\n"
     ]
    }
   ],
   "source": [
    "from sklearn.metrics import mean_squared_error\n",
    "\n",
    "# Training data\n",
    "pred_train = reg.predict(train_features)\n",
    "mse_train = mean_squared_error(train_labels, pred_train)\n",
    "print('MSE training set', round(mse_train, 2))\n",
    "\n",
    "# Test data\n",
    "pred = reg.predict(test_features)\n",
    "mse_test =mean_squared_error(test_labels, pred)\n",
    "print('MSE test set', round(mse_test, 2))"
   ]
  },
  {
   "cell_type": "code",
   "execution_count": 66,
   "id": "2178b3f1-50be-47d3-b20e-441defeac9ca",
   "metadata": {},
   "outputs": [
    {
     "name": "stdout",
     "output_type": "stream",
     "text": [
      "Mean Absolute Error: 68.51 degrees.\n"
     ]
    }
   ],
   "source": [
    "\n",
    "# Calculate the absolute errors\n",
    "errors = abs(pred - test_labels)\n",
    "# Print out the mean absolute error (mae)\n",
    "print('Mean Absolute Error:', round(np.mean(errors), 2), 'degrees.')"
   ]
  },
  {
   "cell_type": "code",
   "execution_count": 67,
   "id": "fb244746-db25-4032-afd7-9c56c4db5686",
   "metadata": {},
   "outputs": [
    {
     "name": "stdout",
     "output_type": "stream",
     "text": [
      "Accuracy: 90.0 %.\n"
     ]
    }
   ],
   "source": [
    "# Calculate mean absolute percentage error (MAPE)\n",
    "mape = 100 * (errors / test_labels)\n",
    "# Calculate and display accuracy\n",
    "accuracy = 100 - np.mean(mape)\n",
    "print('Accuracy:', round(accuracy, 2), '%.')"
   ]
  },
  {
   "cell_type": "markdown",
   "id": "037bd3bc-721d-4eae-a6e8-38153ced220a",
   "metadata": {},
   "source": [
    "# LASSO for Ecodistrict 826"
   ]
  },
  {
   "cell_type": "code",
   "execution_count": 68,
   "id": "000a1d0e-202c-401a-9fb4-1af06b3eb33c",
   "metadata": {},
   "outputs": [],
   "source": [
    "aafc_data_826=aafc_data[aafc_data['ECODISTRICT_ID']==826.0]\n",
    "\n",
    "labels = np.array(aafc_data_826['YieldKgAcre'])\n",
    "\n",
    "features= aafc_data_826.drop(['YieldKgAcre','YEAR','TWP_ID','Unnamed: 0','ECODISTRICT_ID'], axis = 1)\n",
    "\n",
    "feature_list = list(features.columns)\n",
    "\n",
    "features = np.array(features)"
   ]
  },
  {
   "cell_type": "code",
   "execution_count": 69,
   "id": "156ee542-2b77-4ce4-af07-b2cd950917b8",
   "metadata": {},
   "outputs": [],
   "source": [
    "\n",
    "# Split the data into training and testing sets\n",
    "train_features, test_features, train_labels, test_labels = train_test_split(features, labels, test_size = 0.25, random_state = 42)\n",
    "scaler = StandardScaler().fit(train_features)\n",
    "train_features = scaler.transform(train_features)\n",
    "\n",
    "test_features = scaler.transform(test_features)"
   ]
  },
  {
   "cell_type": "code",
   "execution_count": 80,
   "id": "eaa8060d-0e75-431c-9754-e71b06d677e9",
   "metadata": {},
   "outputs": [
    {
     "data": {
      "text/plain": [
       "Lasso(alpha=1)"
      ]
     },
     "execution_count": 80,
     "metadata": {},
     "output_type": "execute_result"
    }
   ],
   "source": [
    "\n",
    "reg = Lasso(alpha=1)\n",
    "reg.fit(train_features, train_labels)"
   ]
  },
  {
   "cell_type": "code",
   "execution_count": 81,
   "id": "071d6a54-fe7d-4545-a68f-97d339865410",
   "metadata": {},
   "outputs": [
    {
     "name": "stdout",
     "output_type": "stream",
     "text": [
      "R squared training set 73.76\n",
      "R squared test set 67.4\n"
     ]
    }
   ],
   "source": [
    "print('R squared training set', round(reg.score(train_features, train_labels)*100, 2))\n",
    "print('R squared test set', round(reg.score(test_features, test_labels)*100, 2))\n"
   ]
  },
  {
   "cell_type": "code",
   "execution_count": 82,
   "id": "0389cc82-d49b-4bfe-8a39-d45cb8547dee",
   "metadata": {},
   "outputs": [
    {
     "name": "stdout",
     "output_type": "stream",
     "text": [
      "MSE training set 11147.3\n",
      "MSE test set 13239.2\n"
     ]
    }
   ],
   "source": [
    "from sklearn.metrics import mean_squared_error\n",
    "\n",
    "# Training data\n",
    "pred_train = reg.predict(train_features)\n",
    "mse_train = mean_squared_error(train_labels, pred_train)\n",
    "print('MSE training set', round(mse_train, 2))\n",
    "\n",
    "# Test data\n",
    "pred = reg.predict(test_features)\n",
    "mse_test =mean_squared_error(test_labels, pred)\n",
    "print('MSE test set', round(mse_test, 2))"
   ]
  },
  {
   "cell_type": "code",
   "execution_count": 83,
   "id": "0bc556f4-c2ab-4390-b377-e0633d3ffc7a",
   "metadata": {},
   "outputs": [
    {
     "name": "stdout",
     "output_type": "stream",
     "text": [
      "Mean Absolute Error: 86.03 degrees.\n"
     ]
    }
   ],
   "source": [
    "\n",
    "# Calculate the absolute errors\n",
    "errors = abs(pred - test_labels)\n",
    "# Print out the mean absolute error (mae)\n",
    "print('Mean Absolute Error:', round(np.mean(errors), 2), 'degrees.')"
   ]
  },
  {
   "cell_type": "code",
   "execution_count": 84,
   "id": "c4926c9e-10b9-40d8-a5e8-2a8ac54f1f59",
   "metadata": {},
   "outputs": [
    {
     "name": "stdout",
     "output_type": "stream",
     "text": [
      "Accuracy: 85.94 %.\n"
     ]
    }
   ],
   "source": [
    "# Calculate mean absolute percentage error (MAPE)\n",
    "mape = 100 * (errors / test_labels)\n",
    "# Calculate and display accuracy\n",
    "accuracy = 100 - np.mean(mape)\n",
    "print('Accuracy:', round(accuracy, 2), '%.')"
   ]
  },
  {
   "cell_type": "markdown",
   "id": "34e48ff7-6c25-4690-a1d6-a0ce3cf9b5d5",
   "metadata": {},
   "source": [
    "# LASSO for Ecodistrict 752"
   ]
  },
  {
   "cell_type": "code",
   "execution_count": 86,
   "id": "d40e89ce-5286-44ed-84cd-dcf94898ddaf",
   "metadata": {},
   "outputs": [],
   "source": [
    "aafc_data_752=aafc_data[aafc_data['ECODISTRICT_ID']==752.0]\n",
    "\n",
    "labels = np.array(aafc_data_752['YieldKgAcre'])\n",
    "\n",
    "features= aafc_data_752.drop(['YieldKgAcre','YEAR','TWP_ID','Unnamed: 0','ECODISTRICT_ID'], axis = 1)\n",
    "\n",
    "feature_list = list(features.columns)\n",
    "\n",
    "features = np.array(features)"
   ]
  },
  {
   "cell_type": "code",
   "execution_count": 87,
   "id": "9bd9665f-d039-40ab-a0f6-4194f1ea7075",
   "metadata": {},
   "outputs": [],
   "source": [
    "\n",
    "# Split the data into training and testing sets\n",
    "train_features, test_features, train_labels, test_labels = train_test_split(features, labels, test_size = 0.25, random_state = 42)\n",
    "scaler = StandardScaler().fit(train_features)\n",
    "train_features = scaler.transform(train_features)\n",
    "\n",
    "test_features = scaler.transform(test_features)"
   ]
  },
  {
   "cell_type": "code",
   "execution_count": 88,
   "id": "1d1d48e3-3224-4fa6-8404-7f06802bd5d8",
   "metadata": {},
   "outputs": [
    {
     "data": {
      "text/plain": [
       "Lasso(alpha=1)"
      ]
     },
     "execution_count": 88,
     "metadata": {},
     "output_type": "execute_result"
    }
   ],
   "source": [
    "\n",
    "reg = Lasso(alpha=1)\n",
    "reg.fit(train_features, train_labels)"
   ]
  },
  {
   "cell_type": "code",
   "execution_count": 89,
   "id": "085105d8-d0d2-46b3-ae43-f85933d24f48",
   "metadata": {},
   "outputs": [
    {
     "name": "stdout",
     "output_type": "stream",
     "text": [
      "R squared training set 82.62\n",
      "R squared test set 79.29\n"
     ]
    }
   ],
   "source": [
    "print('R squared training set', round(reg.score(train_features, train_labels)*100, 2))\n",
    "print('R squared test set', round(reg.score(test_features, test_labels)*100, 2))\n"
   ]
  },
  {
   "cell_type": "code",
   "execution_count": 90,
   "id": "73fa7b14-1299-4e1c-84e4-77369731dc86",
   "metadata": {},
   "outputs": [
    {
     "name": "stdout",
     "output_type": "stream",
     "text": [
      "MSE training set 7591.03\n",
      "MSE test set 9121.54\n"
     ]
    }
   ],
   "source": [
    "from sklearn.metrics import mean_squared_error\n",
    "\n",
    "# Training data\n",
    "pred_train = reg.predict(train_features)\n",
    "mse_train = mean_squared_error(train_labels, pred_train)\n",
    "print('MSE training set', round(mse_train, 2))\n",
    "\n",
    "# Test data\n",
    "pred = reg.predict(test_features)\n",
    "mse_test =mean_squared_error(test_labels, pred)\n",
    "print('MSE test set', round(mse_test, 2))"
   ]
  },
  {
   "cell_type": "code",
   "execution_count": 91,
   "id": "d2d7796e-7d57-45df-be18-9e58cb93737d",
   "metadata": {},
   "outputs": [
    {
     "name": "stdout",
     "output_type": "stream",
     "text": [
      "Mean Absolute Error: 74.03 degrees.\n"
     ]
    }
   ],
   "source": [
    "\n",
    "# Calculate the absolute errors\n",
    "errors = abs(pred - test_labels)\n",
    "# Print out the mean absolute error (mae)\n",
    "print('Mean Absolute Error:', round(np.mean(errors), 2), 'degrees.')"
   ]
  },
  {
   "cell_type": "code",
   "execution_count": 92,
   "id": "bf437673-14db-4972-a562-54969bc00788",
   "metadata": {},
   "outputs": [
    {
     "name": "stdout",
     "output_type": "stream",
     "text": [
      "Accuracy: 89.71 %.\n"
     ]
    }
   ],
   "source": [
    "# Calculate mean absolute percentage error (MAPE)\n",
    "mape = 100 * (errors / test_labels)\n",
    "# Calculate and display accuracy\n",
    "accuracy = 100 - np.mean(mape)\n",
    "print('Accuracy:', round(accuracy, 2), '%.')"
   ]
  },
  {
   "cell_type": "markdown",
   "id": "d6bd71b4-38a5-42f6-865c-7ef843283c00",
   "metadata": {},
   "source": [
    "# LASSO for Ecodistrict 745"
   ]
  },
  {
   "cell_type": "code",
   "execution_count": 93,
   "id": "e358adbe-5d18-4e7b-9cc4-e1a8db297982",
   "metadata": {},
   "outputs": [],
   "source": [
    "aafc_data_745=aafc_data[aafc_data['ECODISTRICT_ID']==745.0]\n",
    "\n",
    "labels = np.array(aafc_data_745['YieldKgAcre'])\n",
    "\n",
    "features= aafc_data_745.drop(['YieldKgAcre','YEAR','TWP_ID','Unnamed: 0','ECODISTRICT_ID'], axis = 1)\n",
    "\n",
    "feature_list = list(features.columns)\n",
    "\n",
    "features = np.array(features)"
   ]
  },
  {
   "cell_type": "code",
   "execution_count": 94,
   "id": "d111d906-a1ee-47d7-bc7c-88f87b586714",
   "metadata": {},
   "outputs": [],
   "source": [
    "\n",
    "# Split the data into training and testing sets\n",
    "train_features, test_features, train_labels, test_labels = train_test_split(features, labels, test_size = 0.25, random_state = 42)\n",
    "scaler = StandardScaler().fit(train_features)\n",
    "train_features = scaler.transform(train_features)\n",
    "\n",
    "test_features = scaler.transform(test_features)"
   ]
  },
  {
   "cell_type": "code",
   "execution_count": 95,
   "id": "15f3844f-51b7-4a8e-9ace-dae3ab561399",
   "metadata": {},
   "outputs": [
    {
     "data": {
      "text/plain": [
       "Lasso(alpha=1)"
      ]
     },
     "execution_count": 95,
     "metadata": {},
     "output_type": "execute_result"
    }
   ],
   "source": [
    "\n",
    "reg = Lasso(alpha=1)\n",
    "reg.fit(train_features, train_labels)"
   ]
  },
  {
   "cell_type": "code",
   "execution_count": 96,
   "id": "3f1cc329-9e3f-4c8b-be9a-66d3f8379329",
   "metadata": {},
   "outputs": [
    {
     "name": "stdout",
     "output_type": "stream",
     "text": [
      "R squared training set 88.28\n",
      "R squared test set 86.82\n"
     ]
    }
   ],
   "source": [
    "print('R squared training set', round(reg.score(train_features, train_labels)*100, 2))\n",
    "print('R squared test set', round(reg.score(test_features, test_labels)*100, 2))\n"
   ]
  },
  {
   "cell_type": "code",
   "execution_count": 97,
   "id": "fb8c95c0-555b-4d9b-bd37-0d25ab88664e",
   "metadata": {},
   "outputs": [
    {
     "name": "stdout",
     "output_type": "stream",
     "text": [
      "MSE training set 5975.19\n",
      "MSE test set 7529.5\n"
     ]
    }
   ],
   "source": [
    "from sklearn.metrics import mean_squared_error\n",
    "\n",
    "# Training data\n",
    "pred_train = reg.predict(train_features)\n",
    "mse_train = mean_squared_error(train_labels, pred_train)\n",
    "print('MSE training set', round(mse_train, 2))\n",
    "\n",
    "# Test data\n",
    "pred = reg.predict(test_features)\n",
    "mse_test =mean_squared_error(test_labels, pred)\n",
    "print('MSE test set', round(mse_test, 2))"
   ]
  },
  {
   "cell_type": "code",
   "execution_count": 98,
   "id": "ee2cb241-cc73-40d4-b869-ce2cf43ca7f4",
   "metadata": {},
   "outputs": [
    {
     "name": "stdout",
     "output_type": "stream",
     "text": [
      "Mean Absolute Error: 66.23 degrees.\n"
     ]
    }
   ],
   "source": [
    "\n",
    "# Calculate the absolute errors\n",
    "errors = abs(pred - test_labels)\n",
    "# Print out the mean absolute error (mae)\n",
    "print('Mean Absolute Error:', round(np.mean(errors), 2), 'degrees.')"
   ]
  },
  {
   "cell_type": "code",
   "execution_count": 99,
   "id": "0105c163-0a4e-447e-9a4a-37fad99bb316",
   "metadata": {},
   "outputs": [
    {
     "name": "stdout",
     "output_type": "stream",
     "text": [
      "Accuracy: 91.83 %.\n"
     ]
    }
   ],
   "source": [
    "# Calculate mean absolute percentage error (MAPE)\n",
    "mape = 100 * (errors / test_labels)\n",
    "# Calculate and display accuracy\n",
    "accuracy = 100 - np.mean(mape)\n",
    "print('Accuracy:', round(accuracy, 2), '%.')"
   ]
  },
  {
   "cell_type": "markdown",
   "id": "138b5202-884b-43b0-9c15-6b1bf3372c0a",
   "metadata": {},
   "source": [
    "# LASSO for Ecodistrict 808"
   ]
  },
  {
   "cell_type": "code",
   "execution_count": 104,
   "id": "e507c113-96e6-4e42-a96a-fcf192350a9c",
   "metadata": {},
   "outputs": [],
   "source": [
    "aafc_data_808=aafc_data[aafc_data['ECODISTRICT_ID']==808.0]\n",
    "\n",
    "labels = np.array(aafc_data_808['YieldKgAcre'])\n",
    "\n",
    "features= aafc_data_808.drop(['YieldKgAcre','YEAR','TWP_ID','Unnamed: 0','ECODISTRICT_ID'], axis = 1)\n",
    "\n",
    "feature_list = list(features.columns)\n",
    "\n",
    "features = np.array(features)"
   ]
  },
  {
   "cell_type": "code",
   "execution_count": 105,
   "id": "cbb616e5-751e-4975-b363-b122eeb451ed",
   "metadata": {},
   "outputs": [],
   "source": [
    "\n",
    "# Split the data into training and testing sets\n",
    "train_features, test_features, train_labels, test_labels = train_test_split(features, labels, test_size = 0.25, random_state = 42)\n",
    "scaler = StandardScaler().fit(train_features)\n",
    "train_features = scaler.transform(train_features)\n",
    "\n",
    "test_features = scaler.transform(test_features)"
   ]
  },
  {
   "cell_type": "code",
   "execution_count": 106,
   "id": "5dc74bdf-c8ad-4955-bbea-21f6875a553d",
   "metadata": {},
   "outputs": [
    {
     "data": {
      "text/plain": [
       "Lasso(alpha=1)"
      ]
     },
     "execution_count": 106,
     "metadata": {},
     "output_type": "execute_result"
    }
   ],
   "source": [
    "\n",
    "reg = Lasso(alpha=1)\n",
    "reg.fit(train_features, train_labels)"
   ]
  },
  {
   "cell_type": "code",
   "execution_count": 107,
   "id": "90fdf63d-e3ef-49bb-9855-fef57a919098",
   "metadata": {},
   "outputs": [
    {
     "name": "stdout",
     "output_type": "stream",
     "text": [
      "R squared training set 67.04\n",
      "R squared test set 66.28\n"
     ]
    }
   ],
   "source": [
    "print('R squared training set', round(reg.score(train_features, train_labels)*100, 2))\n",
    "print('R squared test set', round(reg.score(test_features, test_labels)*100, 2))\n"
   ]
  },
  {
   "cell_type": "code",
   "execution_count": 108,
   "id": "c9297bbc-c4ff-415c-a4d9-494a14f3834a",
   "metadata": {},
   "outputs": [
    {
     "name": "stdout",
     "output_type": "stream",
     "text": [
      "MSE training set 13194.84\n",
      "MSE test set 14671.64\n"
     ]
    }
   ],
   "source": [
    "from sklearn.metrics import mean_squared_error\n",
    "\n",
    "# Training data\n",
    "pred_train = reg.predict(train_features)\n",
    "mse_train = mean_squared_error(train_labels, pred_train)\n",
    "print('MSE training set', round(mse_train, 2))\n",
    "\n",
    "# Test data\n",
    "pred = reg.predict(test_features)\n",
    "mse_test =mean_squared_error(test_labels, pred)\n",
    "print('MSE test set', round(mse_test, 2))"
   ]
  },
  {
   "cell_type": "code",
   "execution_count": 109,
   "id": "afe8e794-77f1-4810-9c93-699ba268eacd",
   "metadata": {},
   "outputs": [
    {
     "name": "stdout",
     "output_type": "stream",
     "text": [
      "Mean Absolute Error: 96.37 degrees.\n"
     ]
    }
   ],
   "source": [
    "\n",
    "# Calculate the absolute errors\n",
    "errors = abs(pred - test_labels)\n",
    "# Print out the mean absolute error (mae)\n",
    "print('Mean Absolute Error:', round(np.mean(errors), 2), 'degrees.')"
   ]
  },
  {
   "cell_type": "code",
   "execution_count": 110,
   "id": "ccdc9e47-7794-4811-879a-cceda00dd1e6",
   "metadata": {},
   "outputs": [
    {
     "name": "stdout",
     "output_type": "stream",
     "text": [
      "Accuracy: 86.42 %.\n"
     ]
    }
   ],
   "source": [
    "# Calculate mean absolute percentage error (MAPE)\n",
    "mape = 100 * (errors / test_labels)\n",
    "# Calculate and display accuracy\n",
    "accuracy = 100 - np.mean(mape)\n",
    "print('Accuracy:', round(accuracy, 2), '%.')"
   ]
  },
  {
   "cell_type": "markdown",
   "id": "1d2e3f80-f774-4c1e-9144-433b272ee901",
   "metadata": {},
   "source": [
    "# LASSO for Ecodistrict 792"
   ]
  },
  {
   "cell_type": "code",
   "execution_count": 111,
   "id": "8a34b208-99d1-447e-9b6c-8e01a20f89c8",
   "metadata": {},
   "outputs": [],
   "source": [
    "aafc_data_792=aafc_data[aafc_data['ECODISTRICT_ID']==792.0]\n",
    "\n",
    "labels = np.array(aafc_data_792['YieldKgAcre'])\n",
    "\n",
    "features= aafc_data_792.drop(['YieldKgAcre','YEAR','TWP_ID','Unnamed: 0','ECODISTRICT_ID'], axis = 1)\n",
    "\n",
    "feature_list = list(features.columns)\n",
    "\n",
    "features = np.array(features)"
   ]
  },
  {
   "cell_type": "code",
   "execution_count": 112,
   "id": "977343c5-933a-4f06-bf9e-5a9f74d95859",
   "metadata": {},
   "outputs": [],
   "source": [
    "\n",
    "# Split the data into training and testing sets\n",
    "train_features, test_features, train_labels, test_labels = train_test_split(features, labels, test_size = 0.25, random_state = 42)\n",
    "scaler = StandardScaler().fit(train_features)\n",
    "train_features = scaler.transform(train_features)\n",
    "\n",
    "test_features = scaler.transform(test_features)"
   ]
  },
  {
   "cell_type": "code",
   "execution_count": 113,
   "id": "1a2c4697-6a88-42d2-9389-2494da57ba4f",
   "metadata": {},
   "outputs": [
    {
     "data": {
      "text/plain": [
       "Lasso(alpha=1)"
      ]
     },
     "execution_count": 113,
     "metadata": {},
     "output_type": "execute_result"
    }
   ],
   "source": [
    "\n",
    "reg = Lasso(alpha=1)\n",
    "reg.fit(train_features, train_labels)"
   ]
  },
  {
   "cell_type": "code",
   "execution_count": 114,
   "id": "925dabe2-f418-45f0-badd-219da07f009a",
   "metadata": {},
   "outputs": [
    {
     "name": "stdout",
     "output_type": "stream",
     "text": [
      "R squared training set 77.07\n",
      "R squared test set 72.53\n"
     ]
    }
   ],
   "source": [
    "print('R squared training set', round(reg.score(train_features, train_labels)*100, 2))\n",
    "print('R squared test set', round(reg.score(test_features, test_labels)*100, 2))\n"
   ]
  },
  {
   "cell_type": "code",
   "execution_count": 115,
   "id": "a9ee7852-2f19-4513-a5a6-d1ff5f7cc97f",
   "metadata": {},
   "outputs": [
    {
     "name": "stdout",
     "output_type": "stream",
     "text": [
      "MSE training set 9664.57\n",
      "MSE test set 11253.86\n"
     ]
    }
   ],
   "source": [
    "from sklearn.metrics import mean_squared_error\n",
    "\n",
    "# Training data\n",
    "pred_train = reg.predict(train_features)\n",
    "mse_train = mean_squared_error(train_labels, pred_train)\n",
    "print('MSE training set', round(mse_train, 2))\n",
    "\n",
    "# Test data\n",
    "pred = reg.predict(test_features)\n",
    "mse_test =mean_squared_error(test_labels, pred)\n",
    "print('MSE test set', round(mse_test, 2))"
   ]
  },
  {
   "cell_type": "code",
   "execution_count": 116,
   "id": "4999039d-e72f-4929-ac89-02d33a30d252",
   "metadata": {},
   "outputs": [
    {
     "name": "stdout",
     "output_type": "stream",
     "text": [
      "Mean Absolute Error: 84.17 degrees.\n"
     ]
    }
   ],
   "source": [
    "\n",
    "# Calculate the absolute errors\n",
    "errors = abs(pred - test_labels)\n",
    "# Print out the mean absolute error (mae)\n",
    "print('Mean Absolute Error:', round(np.mean(errors), 2), 'degrees.')"
   ]
  },
  {
   "cell_type": "code",
   "execution_count": 117,
   "id": "7e2bec89-72ef-40a2-bbcc-b116fd81f01f",
   "metadata": {},
   "outputs": [
    {
     "name": "stdout",
     "output_type": "stream",
     "text": [
      "Accuracy: 89.2 %.\n"
     ]
    }
   ],
   "source": [
    "# Calculate mean absolute percentage error (MAPE)\n",
    "mape = 100 * (errors / test_labels)\n",
    "# Calculate and display accuracy\n",
    "accuracy = 100 - np.mean(mape)\n",
    "print('Accuracy:', round(accuracy, 2), '%.')"
   ]
  },
  {
   "cell_type": "markdown",
   "id": "94983c59-0902-4895-9e1e-2799bad2a343",
   "metadata": {},
   "source": [
    "# LASSO for Ecodistrict 849"
   ]
  },
  {
   "cell_type": "code",
   "execution_count": 126,
   "id": "af5cf451-72ff-4e03-a9f9-4eb585f7290e",
   "metadata": {},
   "outputs": [],
   "source": [
    "aafc_data_849=aafc_data[aafc_data['ECODISTRICT_ID']==849.0]\n",
    "\n",
    "labels = np.array(aafc_data_849['YieldKgAcre'])\n",
    "\n",
    "features= aafc_data_849.drop(['YieldKgAcre','YEAR','TWP_ID','Unnamed: 0','ECODISTRICT_ID'], axis = 1)\n",
    "\n",
    "feature_list = list(features.columns)\n",
    "\n",
    "features = np.array(features)"
   ]
  },
  {
   "cell_type": "code",
   "execution_count": 127,
   "id": "4e537c5a-ae9e-4339-be2c-3f7dce2a604f",
   "metadata": {},
   "outputs": [],
   "source": [
    "\n",
    "# Split the data into training and testing sets\n",
    "train_features, test_features, train_labels, test_labels = train_test_split(features, labels, test_size = 0.25, random_state = 42)\n",
    "scaler = StandardScaler().fit(train_features)\n",
    "train_features = scaler.transform(train_features)\n",
    "\n",
    "test_features = scaler.transform(test_features)"
   ]
  },
  {
   "cell_type": "code",
   "execution_count": 128,
   "id": "8e582bf1-9f2a-410d-aee5-71f16f4e53d4",
   "metadata": {},
   "outputs": [
    {
     "data": {
      "text/plain": [
       "Lasso(alpha=1)"
      ]
     },
     "execution_count": 128,
     "metadata": {},
     "output_type": "execute_result"
    }
   ],
   "source": [
    "\n",
    "reg = Lasso(alpha=1)\n",
    "reg.fit(train_features, train_labels)"
   ]
  },
  {
   "cell_type": "code",
   "execution_count": 129,
   "id": "b61e4da0-0646-4739-b8d5-3399ebce1038",
   "metadata": {},
   "outputs": [
    {
     "name": "stdout",
     "output_type": "stream",
     "text": [
      "R squared training set 88.22\n",
      "R squared test set 85.27\n"
     ]
    }
   ],
   "source": [
    "print('R squared training set', round(reg.score(train_features, train_labels)*100, 2))\n",
    "print('R squared test set', round(reg.score(test_features, test_labels)*100, 2))\n"
   ]
  },
  {
   "cell_type": "code",
   "execution_count": 130,
   "id": "f273a02a-89d2-4235-8476-e8e2f4ff34fe",
   "metadata": {},
   "outputs": [
    {
     "name": "stdout",
     "output_type": "stream",
     "text": [
      "MSE training set 7705.0\n",
      "MSE test set 10085.61\n"
     ]
    }
   ],
   "source": [
    "from sklearn.metrics import mean_squared_error\n",
    "\n",
    "# Training data\n",
    "pred_train = reg.predict(train_features)\n",
    "mse_train = mean_squared_error(train_labels, pred_train)\n",
    "print('MSE training set', round(mse_train, 2))\n",
    "\n",
    "# Test data\n",
    "pred = reg.predict(test_features)\n",
    "mse_test =mean_squared_error(test_labels, pred)\n",
    "print('MSE test set', round(mse_test, 2))"
   ]
  },
  {
   "cell_type": "code",
   "execution_count": 131,
   "id": "253ae391-ac38-4588-9244-40dda91f57f5",
   "metadata": {},
   "outputs": [
    {
     "name": "stdout",
     "output_type": "stream",
     "text": [
      "Mean Absolute Error: 75.56 degrees.\n"
     ]
    }
   ],
   "source": [
    "\n",
    "# Calculate the absolute errors\n",
    "errors = abs(pred - test_labels)\n",
    "# Print out the mean absolute error (mae)\n",
    "print('Mean Absolute Error:', round(np.mean(errors), 2), 'degrees.')"
   ]
  },
  {
   "cell_type": "code",
   "execution_count": 132,
   "id": "7a81cf82-1438-4499-aaf1-0268c3c7507a",
   "metadata": {},
   "outputs": [
    {
     "name": "stdout",
     "output_type": "stream",
     "text": [
      "Accuracy: 88.75 %.\n"
     ]
    }
   ],
   "source": [
    "# Calculate mean absolute percentage error (MAPE)\n",
    "mape = 100 * (errors / test_labels)\n",
    "# Calculate and display accuracy\n",
    "accuracy = 100 - np.mean(mape)\n",
    "print('Accuracy:', round(accuracy, 2), '%.')"
   ]
  },
  {
   "cell_type": "markdown",
   "id": "f8188340-4cc9-4344-8942-cec31162ccfe",
   "metadata": {},
   "source": [
    "# LASSO for Ecodistrict 729"
   ]
  },
  {
   "cell_type": "code",
   "execution_count": 134,
   "id": "439923c4-3f70-40b0-a7d8-a7a686c3a7b9",
   "metadata": {},
   "outputs": [],
   "source": [
    "aafc_data_729=aafc_data[aafc_data['ECODISTRICT_ID']==729.0]\n",
    "\n",
    "labels = np.array(aafc_data_729['YieldKgAcre'])\n",
    "\n",
    "features= aafc_data_729.drop(['YieldKgAcre','YEAR','TWP_ID','Unnamed: 0','ECODISTRICT_ID'], axis = 1)\n",
    "\n",
    "feature_list = list(features.columns)\n",
    "\n",
    "features = np.array(features)"
   ]
  },
  {
   "cell_type": "code",
   "execution_count": 135,
   "id": "693b1f89-f1e5-408f-8e56-7a0fa306dcd1",
   "metadata": {},
   "outputs": [],
   "source": [
    "\n",
    "# Split the data into training and testing sets\n",
    "train_features, test_features, train_labels, test_labels = train_test_split(features, labels, test_size = 0.25, random_state = 42)\n",
    "scaler = StandardScaler().fit(train_features)\n",
    "train_features = scaler.transform(train_features)\n",
    "\n",
    "test_features = scaler.transform(test_features)"
   ]
  },
  {
   "cell_type": "code",
   "execution_count": 136,
   "id": "0a81b0c3-f935-4cf9-bec1-51d8148b1fb8",
   "metadata": {},
   "outputs": [
    {
     "data": {
      "text/plain": [
       "Lasso(alpha=1)"
      ]
     },
     "execution_count": 136,
     "metadata": {},
     "output_type": "execute_result"
    }
   ],
   "source": [
    "\n",
    "reg = Lasso(alpha=1)\n",
    "reg.fit(train_features, train_labels)"
   ]
  },
  {
   "cell_type": "code",
   "execution_count": 137,
   "id": "7a659d81-0ab7-4b46-98d2-703fa9a148ea",
   "metadata": {},
   "outputs": [
    {
     "name": "stdout",
     "output_type": "stream",
     "text": [
      "R squared training set 78.1\n",
      "R squared test set 63.33\n"
     ]
    }
   ],
   "source": [
    "print('R squared training set', round(reg.score(train_features, train_labels)*100, 2))\n",
    "print('R squared test set', round(reg.score(test_features, test_labels)*100, 2))\n"
   ]
  },
  {
   "cell_type": "code",
   "execution_count": 138,
   "id": "e40d8f56-21fa-4556-bdf4-b141d48aeeb6",
   "metadata": {},
   "outputs": [
    {
     "name": "stdout",
     "output_type": "stream",
     "text": [
      "MSE training set 6812.86\n",
      "MSE test set 7897.04\n"
     ]
    }
   ],
   "source": [
    "from sklearn.metrics import mean_squared_error\n",
    "\n",
    "# Training data\n",
    "pred_train = reg.predict(train_features)\n",
    "mse_train = mean_squared_error(train_labels, pred_train)\n",
    "print('MSE training set', round(mse_train, 2))\n",
    "\n",
    "# Test data\n",
    "pred = reg.predict(test_features)\n",
    "mse_test =mean_squared_error(test_labels, pred)\n",
    "print('MSE test set', round(mse_test, 2))"
   ]
  },
  {
   "cell_type": "code",
   "execution_count": 139,
   "id": "f462e7a5-1e7c-4865-9a8c-ae21b9f36c78",
   "metadata": {},
   "outputs": [
    {
     "name": "stdout",
     "output_type": "stream",
     "text": [
      "Mean Absolute Error: 67.55 degrees.\n"
     ]
    }
   ],
   "source": [
    "\n",
    "# Calculate the absolute errors\n",
    "errors = abs(pred - test_labels)\n",
    "# Print out the mean absolute error (mae)\n",
    "print('Mean Absolute Error:', round(np.mean(errors), 2), 'degrees.')"
   ]
  },
  {
   "cell_type": "code",
   "execution_count": 140,
   "id": "e8c6ff1f-b984-42b1-bfc2-a82493a3861e",
   "metadata": {},
   "outputs": [
    {
     "name": "stdout",
     "output_type": "stream",
     "text": [
      "Accuracy: 92.61 %.\n"
     ]
    }
   ],
   "source": [
    "# Calculate mean absolute percentage error (MAPE)\n",
    "mape = 100 * (errors / test_labels)\n",
    "# Calculate and display accuracy\n",
    "accuracy = 100 - np.mean(mape)\n",
    "print('Accuracy:', round(accuracy, 2), '%.')"
   ]
  },
  {
   "cell_type": "markdown",
   "id": "52608712-5124-41cc-994c-96132fdd8efd",
   "metadata": {},
   "source": [
    "# LASSO for Ecodistrict 753"
   ]
  },
  {
   "cell_type": "code",
   "execution_count": 142,
   "id": "650cad01-8960-4b75-a95a-183be5463176",
   "metadata": {},
   "outputs": [],
   "source": [
    "aafc_data_753=aafc_data[aafc_data['ECODISTRICT_ID']==753.0]\n",
    "\n",
    "labels = np.array(aafc_data_753['YieldKgAcre'])\n",
    "\n",
    "features= aafc_data_753.drop(['YieldKgAcre','YEAR','TWP_ID','Unnamed: 0','ECODISTRICT_ID'], axis = 1)\n",
    "\n",
    "feature_list = list(features.columns)\n",
    "\n",
    "features = np.array(features)"
   ]
  },
  {
   "cell_type": "code",
   "execution_count": 143,
   "id": "0575b119-a8ec-459d-ab37-87ee98d7d921",
   "metadata": {},
   "outputs": [],
   "source": [
    "\n",
    "# Split the data into training and testing sets\n",
    "train_features, test_features, train_labels, test_labels = train_test_split(features, labels, test_size = 0.25, random_state = 42)\n",
    "scaler = StandardScaler().fit(train_features)\n",
    "train_features = scaler.transform(train_features)\n",
    "\n",
    "test_features = scaler.transform(test_features)"
   ]
  },
  {
   "cell_type": "code",
   "execution_count": 144,
   "id": "af165c8f-177c-423c-aa03-01bbee5b7187",
   "metadata": {},
   "outputs": [
    {
     "data": {
      "text/plain": [
       "Lasso(alpha=1)"
      ]
     },
     "execution_count": 144,
     "metadata": {},
     "output_type": "execute_result"
    }
   ],
   "source": [
    "\n",
    "reg = Lasso(alpha=1)\n",
    "reg.fit(train_features, train_labels)"
   ]
  },
  {
   "cell_type": "code",
   "execution_count": 145,
   "id": "f847727c-9ece-4250-886e-eee2c4a662de",
   "metadata": {},
   "outputs": [
    {
     "name": "stdout",
     "output_type": "stream",
     "text": [
      "R squared training set 87.43\n",
      "R squared test set 83.15\n"
     ]
    }
   ],
   "source": [
    "print('R squared training set', round(reg.score(train_features, train_labels)*100, 2))\n",
    "print('R squared test set', round(reg.score(test_features, test_labels)*100, 2))\n"
   ]
  },
  {
   "cell_type": "code",
   "execution_count": 146,
   "id": "cc056ca6-7768-4f4d-b8f0-c20c0b39eb6a",
   "metadata": {},
   "outputs": [
    {
     "name": "stdout",
     "output_type": "stream",
     "text": [
      "MSE training set 4046.89\n",
      "MSE test set 4701.89\n"
     ]
    }
   ],
   "source": [
    "from sklearn.metrics import mean_squared_error\n",
    "\n",
    "# Training data\n",
    "pred_train = reg.predict(train_features)\n",
    "mse_train = mean_squared_error(train_labels, pred_train)\n",
    "print('MSE training set', round(mse_train, 2))\n",
    "\n",
    "# Test data\n",
    "pred = reg.predict(test_features)\n",
    "mse_test =mean_squared_error(test_labels, pred)\n",
    "print('MSE test set', round(mse_test, 2))"
   ]
  },
  {
   "cell_type": "code",
   "execution_count": 147,
   "id": "e1adfc0f-07eb-4c78-a5a3-9fcaa2c80424",
   "metadata": {},
   "outputs": [
    {
     "name": "stdout",
     "output_type": "stream",
     "text": [
      "Mean Absolute Error: 54.16 degrees.\n"
     ]
    }
   ],
   "source": [
    "\n",
    "# Calculate the absolute errors\n",
    "errors = abs(pred - test_labels)\n",
    "# Print out the mean absolute error (mae)\n",
    "print('Mean Absolute Error:', round(np.mean(errors), 2), 'degrees.')"
   ]
  },
  {
   "cell_type": "code",
   "execution_count": 148,
   "id": "3f596ce3-23b2-4fb2-8b71-5e83ea50c5ba",
   "metadata": {},
   "outputs": [
    {
     "name": "stdout",
     "output_type": "stream",
     "text": [
      "Accuracy: 93.92 %.\n"
     ]
    }
   ],
   "source": [
    "# Calculate mean absolute percentage error (MAPE)\n",
    "mape = 100 * (errors / test_labels)\n",
    "# Calculate and display accuracy\n",
    "accuracy = 100 - np.mean(mape)\n",
    "print('Accuracy:', round(accuracy, 2), '%.')"
   ]
  },
  {
   "cell_type": "markdown",
   "id": "21c75e8c-0091-4ef4-bd1c-d99ed6533004",
   "metadata": {},
   "source": [
    "# LASSO for Ecodistrict 709"
   ]
  },
  {
   "cell_type": "code",
   "execution_count": 150,
   "id": "6fbcdf62-c9b7-4216-9fe4-690bcf739248",
   "metadata": {},
   "outputs": [],
   "source": [
    "aafc_data_709=aafc_data[aafc_data['ECODISTRICT_ID']==709.0]\n",
    "\n",
    "labels = np.array(aafc_data_709['YieldKgAcre'])\n",
    "\n",
    "features= aafc_data_709.drop(['YieldKgAcre','YEAR','TWP_ID','Unnamed: 0','ECODISTRICT_ID'], axis = 1)\n",
    "\n",
    "feature_list = list(features.columns)\n",
    "\n",
    "features = np.array(features)"
   ]
  },
  {
   "cell_type": "code",
   "execution_count": 151,
   "id": "795cb66c-9032-4db8-9978-2da7caf9ed15",
   "metadata": {},
   "outputs": [],
   "source": [
    "\n",
    "# Split the data into training and testing sets\n",
    "train_features, test_features, train_labels, test_labels = train_test_split(features, labels, test_size = 0.25, random_state = 42)\n",
    "scaler = StandardScaler().fit(train_features)\n",
    "train_features = scaler.transform(train_features)\n",
    "\n",
    "test_features = scaler.transform(test_features)"
   ]
  },
  {
   "cell_type": "code",
   "execution_count": 152,
   "id": "5d570671-e675-42bf-b927-2686048c891e",
   "metadata": {},
   "outputs": [
    {
     "data": {
      "text/plain": [
       "Lasso(alpha=1)"
      ]
     },
     "execution_count": 152,
     "metadata": {},
     "output_type": "execute_result"
    }
   ],
   "source": [
    "\n",
    "reg = Lasso(alpha=1)\n",
    "reg.fit(train_features, train_labels)"
   ]
  },
  {
   "cell_type": "code",
   "execution_count": 153,
   "id": "dd2512a4-edaf-4862-8c38-c904000b734a",
   "metadata": {},
   "outputs": [
    {
     "name": "stdout",
     "output_type": "stream",
     "text": [
      "R squared training set 86.6\n",
      "R squared test set 82.19\n"
     ]
    }
   ],
   "source": [
    "print('R squared training set', round(reg.score(train_features, train_labels)*100, 2))\n",
    "print('R squared test set', round(reg.score(test_features, test_labels)*100, 2))\n"
   ]
  },
  {
   "cell_type": "code",
   "execution_count": 154,
   "id": "985f447b-d920-482e-a8e5-c24e8d0718ab",
   "metadata": {},
   "outputs": [
    {
     "name": "stdout",
     "output_type": "stream",
     "text": [
      "MSE training set 7898.06\n",
      "MSE test set 11052.14\n"
     ]
    }
   ],
   "source": [
    "from sklearn.metrics import mean_squared_error\n",
    "\n",
    "# Training data\n",
    "pred_train = reg.predict(train_features)\n",
    "mse_train = mean_squared_error(train_labels, pred_train)\n",
    "print('MSE training set', round(mse_train, 2))\n",
    "\n",
    "# Test data\n",
    "pred = reg.predict(test_features)\n",
    "mse_test =mean_squared_error(test_labels, pred)\n",
    "print('MSE test set', round(mse_test, 2))"
   ]
  },
  {
   "cell_type": "code",
   "execution_count": 155,
   "id": "1fce4ec8-354b-44a0-99fa-3a815bb7f823",
   "metadata": {},
   "outputs": [
    {
     "name": "stdout",
     "output_type": "stream",
     "text": [
      "Mean Absolute Error: 79.99 degrees.\n"
     ]
    }
   ],
   "source": [
    "\n",
    "# Calculate the absolute errors\n",
    "errors = abs(pred - test_labels)\n",
    "# Print out the mean absolute error (mae)\n",
    "print('Mean Absolute Error:', round(np.mean(errors), 2), 'degrees.')"
   ]
  },
  {
   "cell_type": "code",
   "execution_count": 156,
   "id": "54726ed4-8be0-472f-8b93-867a9ffa7dd4",
   "metadata": {},
   "outputs": [
    {
     "name": "stdout",
     "output_type": "stream",
     "text": [
      "Accuracy: 90.35 %.\n"
     ]
    }
   ],
   "source": [
    "# Calculate mean absolute percentage error (MAPE)\n",
    "mape = 100 * (errors / test_labels)\n",
    "# Calculate and display accuracy\n",
    "accuracy = 100 - np.mean(mape)\n",
    "print('Accuracy:', round(accuracy, 2), '%.')"
   ]
  },
  {
   "cell_type": "code",
   "execution_count": null,
   "id": "79d77759-ca24-437d-8dcc-aee9c0499b83",
   "metadata": {},
   "outputs": [],
   "source": []
  }
 ],
 "metadata": {
  "kernelspec": {
   "display_name": "Python 3 (ipykernel)",
   "language": "python",
   "name": "python3"
  },
  "language_info": {
   "codemirror_mode": {
    "name": "ipython",
    "version": 3
   },
   "file_extension": ".py",
   "mimetype": "text/x-python",
   "name": "python",
   "nbconvert_exporter": "python",
   "pygments_lexer": "ipython3",
   "version": "3.9.12"
  }
 },
 "nbformat": 4,
 "nbformat_minor": 5
}
